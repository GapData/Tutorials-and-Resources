{
 "cells": [
  {
   "cell_type": "markdown",
   "metadata": {
    "collapsed": true
   },
   "source": [
    "# Entropies & Dimensions\n",
    "\n",
    "\n",
    "Topics:\n",
    "* Entropies from **DynamicalSystems.jl**\n",
    "* Generalized Dimension\n",
    "* Automated dimension estimation!\n",
    "* Other related concepts\n",
    "* Docstrings\n",
    "\n",
    "---\n",
    "\n",
    "# Generalized Entropy\n",
    "\n",
    "* In the study of dynamical systems there are many quantities that identify as \"entropy\".\n",
    "* These quantities are not the more commonly known [thermodynamic ones](https://en.wikipedia.org/wiki/Entropy), used in Statistical Physics. \n",
    "* Rather, they are more like the entropies of [information theory](https://en.wikipedia.org/wiki/Entropy_(information_theory), which represents information contained within a dataset. \n",
    "* In general, the more \"uncertain\" or \"random\" the dataset is, the larger its entropy will be. On the other hand, the lower the entropy the more \"predictable\" the dataset becomes.\n",
    "\n",
    "\n",
    "Let $p$ be an array of probabilities (such that it sums to 1). Then the generalized entropy is defined as \n",
    "\n",
    "$$\n",
    "R_\\alpha(p) = \\frac{1}{1-\\alpha}\\log\\left(\\sum_i p[i]^\\alpha\\right)\n",
    "$$\n",
    "\n",
    "and is also called [Rényi entropy](https://en.wikipedia.org/wiki/R%C3%A9nyi_entropy). Other entropies, like e.g. the [Shannon entropy](https://en.wikipedia.org/wiki/Entropy_(information_theory) are generalized by it.\n",
    "\n",
    "This entropy can be computed for a specific dataset. But how does one get $p$?\n",
    "1. $p$ represents the probability that a point of a dataset falls into a specific \"bin\". \n",
    "2. It is nothing more than the (normalized) histogram of the dataset!"
   ]
  },
  {
   "cell_type": "code",
   "execution_count": 73,
   "metadata": {},
   "outputs": [],
   "source": [
    "using DynamicalSystems"
   ]
  },
  {
   "cell_type": "code",
   "execution_count": 74,
   "metadata": {},
   "outputs": [
    {
     "data": {
      "text/plain": [
       "3-dimensional Dataset{Float64} with 100000 points\n",
       " 0.422238   0.0127731   0.669023 \n",
       " 0.457576   0.915586    0.909225 \n",
       " 0.544956   0.314026    0.334188 \n",
       " 0.354268   0.223655    0.393425 \n",
       " 0.17446    0.781148    0.544578 \n",
       " 0.748585   0.159804    0.788498 \n",
       " 0.67703    0.711755    0.470269 \n",
       " 0.0974453  0.00347398  0.411162 \n",
       " 0.0868073  0.501679    0.950737 \n",
       " 0.804903   0.419624    0.322782 \n",
       " 0.778179   0.00267543  0.565922 \n",
       " 0.511357   0.774152    0.129597 \n",
       " 0.459763   0.499578    0.373187 \n",
       " ⋮                               \n",
       " 0.201553   0.421135    0.127236 \n",
       " 0.403185   0.109488    0.423828 \n",
       " 0.370205   0.583223    0.449448 \n",
       " 0.397655   0.644002    0.171907 \n",
       " 0.31887    0.311225    0.798786 \n",
       " 0.51625    0.0302798   0.705385 \n",
       " 0.394525   0.632699    0.374434 \n",
       " 0.728288   0.978503    0.945295 \n",
       " 0.578365   0.580428    0.846467 \n",
       " 0.711376   0.959564    0.681534 \n",
       " 0.216635   0.125249    0.754183 \n",
       " 0.675363   0.497114    0.0131645\n"
      ]
     },
     "execution_count": 74,
     "metadata": {},
     "output_type": "execute_result"
    }
   ],
   "source": [
    "# Generate a dataset:\n",
    "N = 100000\n",
    "randomdata = Dataset(rand(N,3))"
   ]
  },
  {
   "cell_type": "markdown",
   "metadata": {},
   "source": [
    "---\n",
    "\n",
    "```julia\n",
    "genentropy(α, ε, dataset::AbstractDataset; base = e)\n",
    "```\n",
    "* This function calculates the generalized entropy of order `α`.\n",
    "* It first calculates the probability array $p$.\n",
    "* The \"histogram\" is performed by partitioning the `dataset` into boxes of size `ε`.\n"
   ]
  },
  {
   "cell_type": "code",
   "execution_count": 75,
   "metadata": {
    "scrolled": true
   },
   "outputs": [
    {
     "data": {
      "text/html": [
       "6.902697286356395"
      ],
      "text/plain": [
       "6.902697286356395"
      ]
     },
     "execution_count": 75,
     "metadata": {},
     "output_type": "execute_result"
    }
   ],
   "source": [
    "genentropy(1, 0.1, randomdata)"
   ]
  },
  {
   "cell_type": "code",
   "execution_count": 76,
   "metadata": {
    "scrolled": true
   },
   "outputs": [
    {
     "data": {
      "text/html": [
       "11.44527309075699"
      ],
      "text/plain": [
       "11.44527309075699"
      ]
     },
     "execution_count": 76,
     "metadata": {},
     "output_type": "execute_result"
    }
   ],
   "source": [
    "genentropy(1, 0.01, randomdata)"
   ]
  },
  {
   "cell_type": "code",
   "execution_count": 77,
   "metadata": {},
   "outputs": [
    {
     "data": {
      "text/html": [
       "11.512828424341164"
      ],
      "text/plain": [
       "11.512828424341164"
      ]
     },
     "execution_count": 77,
     "metadata": {},
     "output_type": "execute_result"
    }
   ],
   "source": [
    "genentropy(1, 0.001, randomdata)"
   ]
  },
  {
   "cell_type": "code",
   "execution_count": 78,
   "metadata": {},
   "outputs": [
    {
     "data": {
      "text/html": [
       "11.51292546494644"
      ],
      "text/plain": [
       "11.51292546494644"
      ]
     },
     "execution_count": 78,
     "metadata": {},
     "output_type": "execute_result"
    }
   ],
   "source": [
    "genentropy(1, 0.0001, randomdata)"
   ]
  },
  {
   "cell_type": "markdown",
   "metadata": {},
   "source": [
    "* Value has already saturated. No use in partitioning the dataset in smaller boxes.\n",
    "\n",
    "---\n",
    "\n"
   ]
  },
  {
   "cell_type": "code",
   "execution_count": 79,
   "metadata": {},
   "outputs": [
    {
     "data": {
      "text/html": [
       "0.6931470248779372"
      ],
      "text/plain": [
       "0.6931470248779372"
      ]
     },
     "execution_count": 79,
     "metadata": {},
     "output_type": "execute_result"
    }
   ],
   "source": [
    "# entropy of a coin toss:\n",
    "y = Float64.(rand(Bool, 1000000)) # just some coin tosses\n",
    "sh = genentropy(1, 0.1, y) # this is the shannon entropy"
   ]
  },
  {
   "cell_type": "markdown",
   "metadata": {},
   "source": [
    "The above number should be log(2) [by definition](https://en.wikipedia.org/wiki/Shannon_(unit)"
   ]
  },
  {
   "cell_type": "code",
   "execution_count": 80,
   "metadata": {},
   "outputs": [
    {
     "data": {
      "text/html": [
       "true"
      ],
      "text/plain": [
       "true"
      ]
     },
     "execution_count": 80,
     "metadata": {},
     "output_type": "execute_result"
    }
   ],
   "source": [
    "isapprox(sh, log(2), rtol = 1e-4)"
   ]
  },
  {
   "cell_type": "code",
   "execution_count": 81,
   "metadata": {},
   "outputs": [
    {
     "data": {
      "text/plain": [
       "\"3-dimensional Dataset{Float64} with 100000 points\""
      ]
     },
     "execution_count": 81,
     "metadata": {},
     "output_type": "execute_result"
    }
   ],
   "source": [
    "# entropy is best used with `trajectory`\n",
    "towel = Systems.towel()\n",
    "tr = trajectory(towel, N-1);\n",
    "summary(tr)"
   ]
  },
  {
   "cell_type": "code",
   "execution_count": 82,
   "metadata": {},
   "outputs": [
    {
     "data": {
      "text/html": [
       "9.47195269047054"
      ],
      "text/plain": [
       "9.47195269047054"
      ]
     },
     "execution_count": 82,
     "metadata": {},
     "output_type": "execute_result"
    }
   ],
   "source": [
    "genentropy(1, 0.01, tr) # The result is with log base-e !"
   ]
  },
  {
   "cell_type": "markdown",
   "metadata": {},
   "source": [
    "Let's also compare the entropy of the above dataset (which is a trajectory of the towel map) with a random dataset:"
   ]
  },
  {
   "cell_type": "code",
   "execution_count": 83,
   "metadata": {},
   "outputs": [
    {
     "data": {
      "text/html": [
       "11.44527309075699"
      ],
      "text/plain": [
       "11.44527309075699"
      ]
     },
     "execution_count": 83,
     "metadata": {},
     "output_type": "execute_result"
    }
   ],
   "source": [
    "genentropy(1, 0.01, randomdata)"
   ]
  },
  {
   "cell_type": "markdown",
   "metadata": {},
   "source": [
    "* As expected, the entropy of the random dataset is higher.\n",
    "\n",
    "---\n",
    "\n",
    "How much time does the computation take?"
   ]
  },
  {
   "cell_type": "code",
   "execution_count": 84,
   "metadata": {},
   "outputs": [
    {
     "name": "stdout",
     "output_type": "stream",
     "text": [
      "  15.477 ms (42 allocations: 3.05 MiB)\n"
     ]
    }
   ],
   "source": [
    "using BenchmarkTools\n",
    "@btime genentropy(1, 0.01, $tr);"
   ]
  },
  {
   "cell_type": "markdown",
   "metadata": {},
   "source": [
    "## Specialized histogram\n",
    "* Partitioning the dataset (i.e. doing a \"histogram\") is in general a costly operation that depends exponentially on the number of dimensions.\n",
    "* In this specific application however, we can reduce tremendously the memory allocation and spent time!"
   ]
  },
  {
   "cell_type": "code",
   "execution_count": 85,
   "metadata": {},
   "outputs": [
    {
     "data": {
      "text/plain": [
       "19407-element Array{Float64,1}:\n",
       " 1.0e-5 \n",
       " 4.0e-5 \n",
       " 2.0e-5 \n",
       " 5.0e-5 \n",
       " 1.0e-5 \n",
       " 1.0e-5 \n",
       " 7.0e-5 \n",
       " 0.00015\n",
       " 4.0e-5 \n",
       " 5.0e-5 \n",
       " 1.0e-5 \n",
       " 7.0e-5 \n",
       " 5.0e-5 \n",
       " ⋮      \n",
       " 3.0e-5 \n",
       " 5.0e-5 \n",
       " 8.0e-5 \n",
       " 1.0e-5 \n",
       " 0.00013\n",
       " 2.0e-5 \n",
       " 2.0e-5 \n",
       " 2.0e-5 \n",
       " 0.00011\n",
       " 1.0e-5 \n",
       " 4.0e-5 \n",
       " 2.0e-5 "
      ]
     },
     "execution_count": 85,
     "metadata": {},
     "output_type": "execute_result"
    }
   ],
   "source": [
    "# Get the array of probabilities $p$ for size ε:\n",
    "ε = 0.01\n",
    "p = non0hist(ε, tr) # tr is trajectory of towel map"
   ]
  },
  {
   "cell_type": "code",
   "execution_count": 86,
   "metadata": {},
   "outputs": [
    {
     "data": {
      "text/html": [
       "0.9999999999999992"
      ],
      "text/plain": [
       "0.9999999999999992"
      ]
     },
     "execution_count": 86,
     "metadata": {},
     "output_type": "execute_result"
    }
   ],
   "source": [
    "sum(p)"
   ]
  },
  {
   "cell_type": "code",
   "execution_count": 87,
   "metadata": {
    "scrolled": false
   },
   "outputs": [
    {
     "name": "stdout",
     "output_type": "stream",
     "text": [
      "  15.079 ms (37 allocations: 3.05 MiB)\n"
     ]
    }
   ],
   "source": [
    "@btime non0hist($ε, $tr);"
   ]
  },
  {
   "cell_type": "code",
   "execution_count": 88,
   "metadata": {
    "scrolled": false
   },
   "outputs": [
    {
     "name": "stdout",
     "output_type": "stream",
     "text": [
      "  47.578 ms (44 allocations: 28.53 MiB)\n"
     ]
    }
   ],
   "source": [
    "# Create 9-dimensional data and compare again:\n",
    "six = Dataset(rand(N, 9))\n",
    "@btime non0hist($ε, $six);"
   ]
  },
  {
   "cell_type": "markdown",
   "metadata": {},
   "source": [
    "* We went from dimension 3 to dimension 9 but the time was roughly only tripled\n",
    "* In a \"typical\" histogram computation, the the computation time depends exponentially on dimensions (plus with 9 dimensions you already run out of memory)"
   ]
  },
  {
   "cell_type": "markdown",
   "metadata": {},
   "source": [
    "# Attractor Dimension\n",
    "1. There are numerous methods that one can use to calculate a so-called \"dimension\" of a\n",
    "dataset, like for example the [Fractal dimension](https://en.wikipedia.org/wiki/Fractal_dimension).\n",
    "\n",
    "2. Most of the time these dimensions indicate some kind of scaling behavior. \n",
    "\n",
    "3. For example, the scaling of `genentropy` with decreasing `ε` gives the so-called \"generalized dimension\".\n",
    "\n",
    "\n",
    "$ E \\approx -D\\log(\\varepsilon)$ with $E$ the entropy and $D$ the \"dimension\".\n"
   ]
  },
  {
   "cell_type": "code",
   "execution_count": 89,
   "metadata": {},
   "outputs": [],
   "source": [
    "# I want to know dimension of attractor of the Towel Map!\n",
    "towel = Systems.towel()\n",
    "towel_tr = trajectory(towel, 1000000);\n",
    "# more points = more precision = more computations = more time!"
   ]
  },
  {
   "cell_type": "code",
   "execution_count": 90,
   "metadata": {},
   "outputs": [
    {
     "data": {
      "text/plain": [
       "12-element Array{Float64,1}:\n",
       "  0.0001     \n",
       "  0.000284804\n",
       "  0.000811131\n",
       "  0.00231013 \n",
       "  0.00657933 \n",
       "  0.0187382  \n",
       "  0.053367   \n",
       "  0.151991   \n",
       "  0.432876   \n",
       "  1.23285    \n",
       "  3.51119    \n",
       " 10.0        "
      ]
     },
     "execution_count": 90,
     "metadata": {},
     "output_type": "execute_result"
    }
   ],
   "source": [
    "# I want to compute `genentropy` for different ε.\n",
    "# Which ε to use?...\n",
    "# Let's do a \"random\" logspace based guess...\n",
    "ες = logspace(-4, 1, 12)"
   ]
  },
  {
   "cell_type": "code",
   "execution_count": 91,
   "metadata": {},
   "outputs": [
    {
     "data": {
      "text/plain": [
       "12-element Array{Float64,1}:\n",
       " 13.8116 \n",
       " 13.781  \n",
       " 13.5601 \n",
       " 12.5477 \n",
       " 10.4825 \n",
       "  8.23824\n",
       "  6.05165\n",
       "  3.7852 \n",
       "  1.6531 \n",
       " -0.0    \n",
       " -0.0    \n",
       " -0.0    "
      ]
     },
     "execution_count": 91,
     "metadata": {},
     "output_type": "execute_result"
    }
   ],
   "source": [
    "Es = zeros(ες)\n",
    "for (i, ε) ∈ enumerate(ες)\n",
    "    Es[i] = genentropy(1, ε, towel_tr)\n",
    "end\n",
    "Es"
   ]
  },
  {
   "cell_type": "code",
   "execution_count": 92,
   "metadata": {},
   "outputs": [
    {
     "data": {
      "text/plain": [
       "12-element Array{Float64,1}:\n",
       " 13.8116 \n",
       " 13.781  \n",
       " 13.5601 \n",
       " 12.5477 \n",
       " 10.4825 \n",
       "  8.23824\n",
       "  6.05165\n",
       "  3.7852 \n",
       "  1.6531 \n",
       " -0.0    \n",
       " -0.0    \n",
       " -0.0    "
      ]
     },
     "execution_count": 92,
     "metadata": {},
     "output_type": "execute_result"
    }
   ],
   "source": [
    "# shorter version:\n",
    "Es = genentropy.(1, ες, towel_tr)"
   ]
  },
  {
   "cell_type": "markdown",
   "metadata": {},
   "source": [
    "Alright. Remember that it should be that $E \\approx -D\\log(\\varepsilon)$\n",
    " with $E$ the entropy and $D$ the \"dimension\". \n",
    "\n",
    "Let's plot and see:"
   ]
  },
  {
   "cell_type": "code",
   "execution_count": 93,
   "metadata": {},
   "outputs": [
    {
     "data": {
      "image/png": "[encoded data removed]",
      "text/plain": [
       "PyPlot.Figure(PyObject <Figure size 600x400 with 1 Axes>)"
      ]
     },
     "metadata": {},
     "output_type": "display_data"
    }
   ],
   "source": [
    "using PyPlot; figure(figsize = (6,4))\n",
    "x = -log.(ες)\n",
    "plot(x, Es); xlabel(\"-log(ε)\"); ylabel(\"Entropy\");\n",
    "plot([x[4], x[4]], [0, 15], color = \"C1\", alpha = 0.5)\n",
    "plot([x[end-3], x[end-3]], [0, 15], color = \"C1\", alpha = 0.5);"
   ]
  },
  {
   "cell_type": "markdown",
   "metadata": {},
   "source": [
    "What typically happens is that there is some region where this scaling behavior holds, but then it stops holding due to the finite amount of data points."
   ]
  },
  {
   "cell_type": "code",
   "execution_count": 94,
   "metadata": {},
   "outputs": [
    {
     "data": {
      "text/html": [
       "2.03902652552714"
      ],
      "text/plain": [
       "2.03902652552714"
      ]
     },
     "execution_count": 94,
     "metadata": {},
     "output_type": "execute_result"
    }
   ],
   "source": [
    "# Choose the curve points that do fall in linear scope\n",
    "x, y = -log.(ες)[4:end-2], Es[4:end-2]\n",
    "# Find the slope of the curve there.\n",
    "offset, slope = linreg(x, y)\n",
    "D = slope"
   ]
  },
  {
   "cell_type": "markdown",
   "metadata": {},
   "source": [
    "This is actually a correct result, the information dimension of the attractor of the towel map is around 2.\n",
    "\n",
    "---\n",
    "\n",
    "* Are the values of `ες` we used good? \n",
    "* For a general dataset, how to determine them?\n",
    "\n",
    "the function `estimate_boxsizes(dataset; kwargs...)` can help with that!"
   ]
  },
  {
   "cell_type": "code",
   "execution_count": 95,
   "metadata": {},
   "outputs": [
    {
     "data": {
      "text/plain": [
       "12-element Array{Float64,1}:\n",
       " 0.0001     \n",
       " 0.000187382\n",
       " 0.000351119\n",
       " 0.000657933\n",
       " 0.00123285 \n",
       " 0.00231013 \n",
       " 0.00432876 \n",
       " 0.00811131 \n",
       " 0.0151991  \n",
       " 0.0284804  \n",
       " 0.053367   \n",
       " 0.1        "
      ]
     },
     "execution_count": 95,
     "metadata": {},
     "output_type": "execute_result"
    }
   ],
   "source": [
    "ες = estimate_boxsizes(towel_tr)"
   ]
  },
  {
   "cell_type": "code",
   "execution_count": 96,
   "metadata": {},
   "outputs": [
    {
     "data": {
      "image/png": "[encoded data removed]",
      "text/plain": [
       "PyPlot.Figure(PyObject <Figure size 600x400 with 1 Axes>)"
      ]
     },
     "metadata": {},
     "output_type": "display_data"
    }
   ],
   "source": [
    "# plot this scaling thingy again\n",
    "Es = genentropy.(1, ες, towel_tr)\n",
    "figure(figsize = (6,4))\n",
    "plot(-log.(ες), Es); xlabel(\"-log(ε)\"); ylabel(\"E\");"
   ]
  },
  {
   "cell_type": "markdown",
   "metadata": {},
   "source": [
    "---\n",
    "# Automated Dimension Estimation\n",
    "\n",
    "Given some arbitrary plot like the one above, is there any algorithm to deduce a scaling region???\n",
    "\n",
    "The function `linear_regions(x, y; kwargs...)` decomposes the function `y(x)` into regions where linear scaling holds!\n",
    "\n",
    "It returns the indices of `x` that correspond to linear regions and the approximated tangents at each region!"
   ]
  },
  {
   "cell_type": "code",
   "execution_count": 97,
   "metadata": {},
   "outputs": [
    {
     "data": {
      "text/plain": [
       "([1, 2, 3, 4, 5, 6, 12], [0.0169754, 0.059061, 0.195576, 0.549296, 1.19167, 1.87214])"
      ]
     },
     "execution_count": 97,
     "metadata": {},
     "output_type": "execute_result"
    }
   ],
   "source": [
    "x = -log.(ες)\n",
    "lrs, slopes = linear_regions(x, Es)"
   ]
  },
  {
   "cell_type": "code",
   "execution_count": 98,
   "metadata": {},
   "outputs": [
    {
     "name": "stdout",
     "output_type": "stream",
     "text": [
      "linear region 1 starts from index 1 and ends at index 2\n",
      "with corresponding slope 0.01697540475919078\n",
      "\n",
      "linear region 2 starts from index 2 and ends at index 3\n",
      "with corresponding slope 0.059060992416266674\n",
      "\n",
      "linear region 3 starts from index 3 and ends at index 4\n",
      "with corresponding slope 0.19557558745055342\n",
      "\n",
      "linear region 4 starts from index 4 and ends at index 5\n",
      "with corresponding slope 0.5492959963318305\n",
      "\n",
      "linear region 5 starts from index 5 and ends at index 6\n",
      "with corresponding slope 1.1916713297590442\n",
      "\n",
      "linear region 6 starts from index 6 and ends at index 12\n",
      "with corresponding slope 1.8721371361939052\n",
      "\n"
     ]
    }
   ],
   "source": [
    "for i in 1:length(slopes)\n",
    "    println(\"linear region $(i) starts from index $(lrs[i]) and ends at index $(lrs[i+1])\")\n",
    "    println(\"with corresponding slope $(slopes[i])\")\n",
    "    println()\n",
    "end"
   ]
  },
  {
   "cell_type": "code",
   "execution_count": 99,
   "metadata": {},
   "outputs": [
    {
     "data": {
      "text/html": [
       "1.8721371361939052"
      ],
      "text/plain": [
       "1.8721371361939052"
      ]
     },
     "execution_count": 99,
     "metadata": {},
     "output_type": "execute_result"
    }
   ],
   "source": [
    "# The linear region which is biggest is \"probably correct one\"\n",
    "# Here it is the last one, thus the slope is\n",
    "slopes[end]"
   ]
  },
  {
   "cell_type": "markdown",
   "metadata": {},
   "source": [
    "This `linear_regions` function seems very shady... Is there any \"easy\" way to visualize what it does? *say no more*"
   ]
  },
  {
   "cell_type": "code",
   "execution_count": 100,
   "metadata": {
    "scrolled": false
   },
   "outputs": [
    {
     "data": {
      "image/png": "[encoded data removed]",
      "text/plain": [
       "PyPlot.Figure(PyObject <Figure size 600x400 with 1 Axes>)"
      ]
     },
     "metadata": {},
     "output_type": "display_data"
    }
   ],
   "source": [
    "using PyPlot, ChaosTools # ChaosTools belongs to DynamicalSystems\n",
    "# ChaosTools brings a function `plot_linear_regions`\n",
    "figure(figsize=(6,4))\n",
    "plot_linear_regions(x, Es)\n",
    "xlabel(\"-log(ε)\"); ylabel(\"E\");"
   ]
  },
  {
   "cell_type": "code",
   "execution_count": 101,
   "metadata": {
    "scrolled": false
   },
   "outputs": [
    {
     "data": {
      "image/png": "[encoded data removed]",
      "text/plain": [
       "PyPlot.Figure(PyObject <Figure size 600x400 with 1 Axes>)"
      ]
     },
     "metadata": {},
     "output_type": "display_data"
    }
   ],
   "source": [
    "# Adjust the tolerance of linear_regions using keyword argument `tol`\n",
    "figure(figsize=(6,4))\n",
    "plot_linear_regions(x, Es; tol = 0.8)\n",
    "xlabel(\"-log(ε)\"); ylabel(\"E\");"
   ]
  },
  {
   "cell_type": "markdown",
   "metadata": {},
   "source": [
    "## `generalized_dim` function"
   ]
  },
  {
   "cell_type": "markdown",
   "metadata": {},
   "source": [
    "Let's summarize what we just did to estimate the dimension of an attractor.\n",
    "\n",
    "1. We decided on some partition sizes `ες` to use (the function `estimate_boxsizes` can give an estimate for that).\n",
    "2. For each `ε in ες` we calculated the `genentropy`, and got an array `Es`.\n",
    "3. We tried to find a \"linear scaling region\" of the curve `Es` vs. `-log.(ες)`.\n",
    "4. The slope of this \"linear scaling region\" is the dimension we estimated.\n",
    "\n",
    "Wouldn't it be **cool** if all of this process could happen with one function call?"
   ]
  },
  {
   "cell_type": "code",
   "execution_count": 102,
   "metadata": {},
   "outputs": [
    {
     "data": {
      "text/html": [
       "1.9120149473639927"
      ],
      "text/plain": [
       "1.9120149473639927"
      ]
     },
     "execution_count": 102,
     "metadata": {},
     "output_type": "execute_result"
    }
   ],
   "source": [
    "generalized_dim(2.0, tr)"
   ]
  },
  {
   "cell_type": "code",
   "execution_count": 103,
   "metadata": {},
   "outputs": [
    {
     "data": {
      "text/html": [
       "2.045143523958735"
      ],
      "text/plain": [
       "2.045143523958735"
      ]
     },
     "execution_count": 103,
     "metadata": {},
     "output_type": "execute_result"
    }
   ],
   "source": [
    "information_dim(tr) # ≡ generalized_dim(1, tr)"
   ]
  },
  {
   "cell_type": "code",
   "execution_count": 104,
   "metadata": {},
   "outputs": [
    {
     "data": {
      "text/html": [
       "1.2192730981829056"
      ],
      "text/plain": [
       "1.2192730981829056"
      ]
     },
     "execution_count": 104,
     "metadata": {},
     "output_type": "execute_result"
    }
   ],
   "source": [
    "# Let's do the same for the Henon map that we have seen in previous tutorials\n",
    "hen = Systems.henon()\n",
    "tr = trajectory(hen, 200000)\n",
    "capacity_dim(tr) # ≡ generalized_dim(0, tr)"
   ]
  },
  {
   "cell_type": "code",
   "execution_count": 122,
   "metadata": {},
   "outputs": [],
   "source": [
    "# Same for the lorenz system\n",
    "lor = Systems.lorenz()\n",
    "tr_lor = trajectory(lor, 1000.0; dt = 0.05);"
   ]
  },
  {
   "cell_type": "code",
   "execution_count": 123,
   "metadata": {},
   "outputs": [
    {
     "data": {
      "text/html": [
       "1.9899579669996978"
      ],
      "text/plain": [
       "1.9899579669996978"
      ]
     },
     "execution_count": 123,
     "metadata": {},
     "output_type": "execute_result"
    }
   ],
   "source": [
    "generalized_dim(2.0, tr_lor)"
   ]
  },
  {
   "cell_type": "markdown",
   "metadata": {},
   "source": [
    "The correlation dimension of the Lorenz attractor (for default parameters) is reported *somewhere* around `2.0` (Grassberger and Procaccia, 1983).\n",
    "\n",
    "**It is important to understand that `generalized_dim` is only a crude estimate! You must check and double-check if you want more accuracy!**"
   ]
  },
  {
   "cell_type": "code",
   "execution_count": 127,
   "metadata": {},
   "outputs": [
    {
     "data": {
      "image/png": "[encoded data removed]",
      "text/plain": [
       "PyPlot.Figure(PyObject <Figure size 600x600 with 2 Axes>)"
      ]
     },
     "metadata": {},
     "output_type": "display_data"
    },
    {
     "name": "stdout",
     "output_type": "stream",
     "text": [
      "points used: 39002\n",
      "Aumatically-deduced dimension: D = 1.993541941322398\n"
     ]
    }
   ],
   "source": [
    "tr_lor = trajectory(lor, 20000.0, rand(3); dt = 0.5, diff_eq_kwargs = Dict(:maxiters => typemax(Int)));\n",
    "\n",
    "# Skip transients\n",
    "tr_lor = tr_lor[1000:end, :]\n",
    "\n",
    "# Let's try estimations with different boxsizes\n",
    "sizes = logspace(-1.0, 1.0, 16)\n",
    "# form 10^(a) to 10^(b)\n",
    "\n",
    "ds = genentropy.(2.0, sizes, tr_lor)\n",
    "\n",
    "figure(figsize=(6,6))\n",
    "ax1 = subplot(2,1,1)\n",
    "plot_linear_regions(-log.(sizes), ds)\n",
    "D = linear_region(-log.(sizes), ds)[2]\n",
    "println(\"points used: $(length(tr_lor))\")\n",
    "println(\"Aumatically-deduced dimension: D = $(D)\")\n",
    "ylabel(\"E\"); \n",
    "setp(ax1[:get_xticklabels](), visible=false)\n",
    "\n",
    "ax2 = subplot(2,1,2, sharex = ax1)\n",
    "xs = -log.(sizes)\n",
    "ΔE = (ds[2:end] .- ds[1:end-1])./(xs[2:end] .- xs[1:end-1])\n",
    "plot(xs[1:end-1], ΔE)\n",
    "plot(xs[1:end-1], 2ones(length(xs) -1))\n",
    "ylabel(\"slope\"); xlabel(\"-log(ε)\");\n",
    "tight_layout()"
   ]
  },
  {
   "cell_type": "markdown",
   "metadata": {},
   "source": [
    "# Other related concepts\n",
    "## Kaplan-Yorke dimension\n",
    "The Kaplan-Yorke dimension is defined as simply the (interpolated) number where the sum of Lyapunov exponents crosses zero.\n",
    "\n",
    "This simple interpolation is done by the function `kaplanyorke_dim(ls)`."
   ]
  },
  {
   "cell_type": "code",
   "execution_count": 109,
   "metadata": {},
   "outputs": [
    {
     "data": {
      "text/plain": [
       "3-element Array{Float64,1}:\n",
       "   0.905601  \n",
       "   2.57195e-5\n",
       " -14.5723    "
      ]
     },
     "execution_count": 109,
     "metadata": {},
     "output_type": "execute_result"
    }
   ],
   "source": [
    "lor = Systems.lorenz()\n",
    "\n",
    "ls = lyapunovs(lor, 4000.0; Ttr = 100.0)"
   ]
  },
  {
   "cell_type": "code",
   "execution_count": 110,
   "metadata": {},
   "outputs": [
    {
     "data": {
      "text/html": [
       "2.0621471338475805"
      ],
      "text/plain": [
       "2.0621471338475805"
      ]
     },
     "execution_count": 110,
     "metadata": {},
     "output_type": "execute_result"
    }
   ],
   "source": [
    "kaplanyorke_dim(ls)"
   ]
  },
  {
   "cell_type": "markdown",
   "metadata": {},
   "source": [
    "## Permutation Entropy\n",
    "\n",
    "Another entropy-like quantity that you can compute with **DynamicalSystems.jl** is the [permutation entropy](https://juliadynamics.github.io/DynamicalSystems.jl/latest/chaos/entropies/#permutation-entropy).\n",
    "\n",
    "This is done with the function `permentropy(s, order; ...)`. The permutation entropy is different because it requires a *timeseries* `s` as the input. "
   ]
  },
  {
   "cell_type": "code",
   "execution_count": 111,
   "metadata": {},
   "outputs": [
    {
     "data": {
      "text/html": [
       "3.600068724233908"
      ],
      "text/plain": [
       "3.600068724233908"
      ]
     },
     "execution_count": 111,
     "metadata": {},
     "output_type": "execute_result"
    }
   ],
   "source": [
    "# create timeseries:\n",
    "s = (ds = Systems.towel(); trajectory(towel, 10000)[:, 1])\n",
    "# order `o` permutation entropy:\n",
    "o = 6\n",
    "permentropy(s, o)"
   ]
  },
  {
   "cell_type": "markdown",
   "metadata": {},
   "source": [
    "# Docstrings"
   ]
  },
  {
   "cell_type": "code",
   "execution_count": 112,
   "metadata": {},
   "outputs": [
    {
     "name": "stdout",
     "output_type": "stream",
     "text": [
      "search: \u001b[1mg\u001b[22m\u001b[1me\u001b[22m\u001b[1mn\u001b[22m\u001b[1me\u001b[22m\u001b[1mn\u001b[22m\u001b[1mt\u001b[22m\u001b[1mr\u001b[22m\u001b[1mo\u001b[22m\u001b[1mp\u001b[22m\u001b[1my\u001b[22m\n",
      "\n"
     ]
    },
    {
     "data": {
      "text/markdown": [
       "```\n",
       "genentropy(α, ε, dataset::AbstractDataset; base = e)\n",
       "```\n",
       "\n",
       "Compute the `α` order generalized (Rényi) entropy [1] of a dataset, by first partitioning it into boxes of length `ε` using [`non0hist`](@ref).\n",
       "\n",
       "```julia\n",
       "genentropy(α, p::AbstractArray; base = e)\n",
       "```\n",
       "\n",
       "Compute the entropy of an array `p` directly, assuming that `p` is sum-normalized.\n",
       "\n",
       "Optionally use `base` for the logarithms.\n",
       "\n",
       "## Description\n",
       "\n",
       "Let $p$ be an array of probabilities (summing to 1). Then the Rényi entropy is\n",
       "\n",
       "$$\n",
       "R_\\alpha(p) = \\frac{1}{1-\\alpha} \\log \\left(\\sum_i p[i]^\\alpha\\right)\n",
       "$$\n",
       "\n",
       "and generalizes other known entropies, like e.g. the information entropy ($\\alpha = 1$, see [2]), the maximum entropy ($\\alpha=0$, also known as Hartley entropy), or the correlation entropy ($\\alpha = 2$, also known as collision entropy).\n",
       "\n",
       "## References\n",
       "\n",
       "[1] : A. Rényi, *Proceedings of the fourth Berkeley Symposium on Mathematics, Statistics and Probability*, pp 547 (1960)\n",
       "\n",
       "[2] : C. E. Shannon, Bell Systems Technical Journal **27**, pp 379 (1948)\n"
      ],
      "text/plain": [
       "```\n",
       "genentropy(α, ε, dataset::AbstractDataset; base = e)\n",
       "```\n",
       "\n",
       "Compute the `α` order generalized (Rényi) entropy [1] of a dataset, by first partitioning it into boxes of length `ε` using [`non0hist`](@ref).\n",
       "\n",
       "```julia\n",
       "genentropy(α, p::AbstractArray; base = e)\n",
       "```\n",
       "\n",
       "Compute the entropy of an array `p` directly, assuming that `p` is sum-normalized.\n",
       "\n",
       "Optionally use `base` for the logarithms.\n",
       "\n",
       "## Description\n",
       "\n",
       "Let $p$ be an array of probabilities (summing to 1). Then the Rényi entropy is\n",
       "\n",
       "$$\n",
       "R_\\alpha(p) = \\frac{1}{1-\\alpha} \\log \\left(\\sum_i p[i]^\\alpha\\right)\n",
       "$$\n",
       "\n",
       "and generalizes other known entropies, like e.g. the information entropy ($\\alpha = 1$, see [2]), the maximum entropy ($\\alpha=0$, also known as Hartley entropy), or the correlation entropy ($\\alpha = 2$, also known as collision entropy).\n",
       "\n",
       "## References\n",
       "\n",
       "[1] : A. Rényi, *Proceedings of the fourth Berkeley Symposium on Mathematics, Statistics and Probability*, pp 547 (1960)\n",
       "\n",
       "[2] : C. E. Shannon, Bell Systems Technical Journal **27**, pp 379 (1948)\n"
      ]
     },
     "execution_count": 112,
     "metadata": {},
     "output_type": "execute_result"
    }
   ],
   "source": [
    "?genentropy"
   ]
  },
  {
   "cell_type": "code",
   "execution_count": 113,
   "metadata": {},
   "outputs": [
    {
     "name": "stdout",
     "output_type": "stream",
     "text": [
      "search: \u001b[1mg\u001b[22m\u001b[1me\u001b[22m\u001b[1mn\u001b[22m\u001b[1me\u001b[22m\u001b[1mr\u001b[22m\u001b[1ma\u001b[22m\u001b[1ml\u001b[22m\u001b[1mi\u001b[22m\u001b[1mz\u001b[22m\u001b[1me\u001b[22m\u001b[1md\u001b[22m\u001b[1m_\u001b[22m\u001b[1md\u001b[22m\u001b[1mi\u001b[22m\u001b[1mm\u001b[22m\n",
      "\n"
     ]
    },
    {
     "data": {
      "text/markdown": [
       "```\n",
       "generalized_dim(α, dataset [, sizes]) -> D_α\n",
       "```\n",
       "\n",
       "Return the `α` order generalized dimension of the `dataset`, by calculating the [`genentropy`](@ref) for each `ε ∈ sizes`.\n",
       "\n",
       "## Description\n",
       "\n",
       "The returned dimension is approximated by the (inverse) power law exponent of the scaling of the [`genentropy`](@ref) versus the box size `ε`, where `ε ∈ sizes`.\n",
       "\n",
       "Calling this function performs a lot of automated steps:\n",
       "\n",
       "1. A vector of box sizes is decided by calling `sizes = estimate_boxsizes(dataset)`, if `sizes` is not given.\n",
       "2. For each element of `sizes` the appropriate entropy is calculated, through `d = genentropy.(α, sizes, dataset)`. Let `x = -log.(sizes)`.\n",
       "3. The curve `d(x)` is decomposed into linear regions, using [`linear_regions`](@ref)`(x, d)`.\n",
       "4. The biggest linear region is chosen, and a fit for the slope of that region is performed using the function [`linear_region`](@ref). This slope is the return value of `generalized_dim`.\n",
       "\n",
       "By doing these steps one by one yourself, you can adjust the keyword arguments given to each of these function calls, refining the accuracy of the result.\n",
       "\n",
       "The following aliases are provided:\n",
       "\n",
       "  * α = 0 : `boxcounting_dim`, `capacity_dim`\n",
       "  * α = 1 : `information_dim`\n"
      ],
      "text/plain": [
       "```\n",
       "generalized_dim(α, dataset [, sizes]) -> D_α\n",
       "```\n",
       "\n",
       "Return the `α` order generalized dimension of the `dataset`, by calculating the [`genentropy`](@ref) for each `ε ∈ sizes`.\n",
       "\n",
       "## Description\n",
       "\n",
       "The returned dimension is approximated by the (inverse) power law exponent of the scaling of the [`genentropy`](@ref) versus the box size `ε`, where `ε ∈ sizes`.\n",
       "\n",
       "Calling this function performs a lot of automated steps:\n",
       "\n",
       "1. A vector of box sizes is decided by calling `sizes = estimate_boxsizes(dataset)`, if `sizes` is not given.\n",
       "2. For each element of `sizes` the appropriate entropy is calculated, through `d = genentropy.(α, sizes, dataset)`. Let `x = -log.(sizes)`.\n",
       "3. The curve `d(x)` is decomposed into linear regions, using [`linear_regions`](@ref)`(x, d)`.\n",
       "4. The biggest linear region is chosen, and a fit for the slope of that region is performed using the function [`linear_region`](@ref). This slope is the return value of `generalized_dim`.\n",
       "\n",
       "By doing these steps one by one yourself, you can adjust the keyword arguments given to each of these function calls, refining the accuracy of the result.\n",
       "\n",
       "The following aliases are provided:\n",
       "\n",
       "  * α = 0 : `boxcounting_dim`, `capacity_dim`\n",
       "  * α = 1 : `information_dim`\n"
      ]
     },
     "execution_count": 113,
     "metadata": {},
     "output_type": "execute_result"
    }
   ],
   "source": [
    "?generalized_dim"
   ]
  },
  {
   "cell_type": "code",
   "execution_count": 114,
   "metadata": {},
   "outputs": [
    {
     "name": "stdout",
     "output_type": "stream",
     "text": [
      "search: \u001b[1mn\u001b[22m\u001b[1mo\u001b[22m\u001b[1mn\u001b[22m\u001b[1m0\u001b[22m\u001b[1mh\u001b[22m\u001b[1mi\u001b[22m\u001b[1ms\u001b[22m\u001b[1mt\u001b[22m\n",
      "\n"
     ]
    },
    {
     "data": {
      "text/markdown": [
       "```julia\n",
       "non0hist(ε, dataset::AbstractDataset)\n",
       "```\n",
       "\n",
       "Partition a dataset into tabulated intervals (boxes) of size `ε` and return the sum-normalized histogram in an unordered 1D form, discarding all zero elements.\n",
       "\n",
       "## Performances Notes\n",
       "\n",
       "This method is effecient in both memory and speed, because it uses a dictionary to collect the information of bins with elements, while it completely disregards empty bins. This allows computation of entropies of high-dimensional datasets and with small box sizes `ε` without memory overflow.\n",
       "\n",
       "Use e.g. `fit(Histogram, ...)` from [`StatsBase`](http://juliastats.github.io/StatsBase.jl/stable/) if you wish to keep information about the edges of the binning as well as the zero elements.\n"
      ],
      "text/plain": [
       "```julia\n",
       "non0hist(ε, dataset::AbstractDataset)\n",
       "```\n",
       "\n",
       "Partition a dataset into tabulated intervals (boxes) of size `ε` and return the sum-normalized histogram in an unordered 1D form, discarding all zero elements.\n",
       "\n",
       "## Performances Notes\n",
       "\n",
       "This method is effecient in both memory and speed, because it uses a dictionary to collect the information of bins with elements, while it completely disregards empty bins. This allows computation of entropies of high-dimensional datasets and with small box sizes `ε` without memory overflow.\n",
       "\n",
       "Use e.g. `fit(Histogram, ...)` from [`StatsBase`](http://juliastats.github.io/StatsBase.jl/stable/) if you wish to keep information about the edges of the binning as well as the zero elements.\n"
      ]
     },
     "execution_count": 114,
     "metadata": {},
     "output_type": "execute_result"
    }
   ],
   "source": [
    "?non0hist"
   ]
  },
  {
   "cell_type": "code",
   "execution_count": 129,
   "metadata": {},
   "outputs": [
    {
     "name": "stdout",
     "output_type": "stream",
     "text": [
      "search: \u001b[1me\u001b[22m\u001b[1ms\u001b[22m\u001b[1mt\u001b[22m\u001b[1mi\u001b[22m\u001b[1mm\u001b[22m\u001b[1ma\u001b[22m\u001b[1mt\u001b[22m\u001b[1me\u001b[22m\u001b[1m_\u001b[22m\u001b[1mb\u001b[22m\u001b[1mo\u001b[22m\u001b[1mx\u001b[22m\u001b[1ms\u001b[22m\u001b[1mi\u001b[22m\u001b[1mz\u001b[22m\u001b[1me\u001b[22m\u001b[1ms\u001b[22m\n",
      "\n"
     ]
    },
    {
     "data": {
      "text/markdown": [
       "```\n",
       "estimate_boxsizes(dataset::AbstractDataset; k::Int = 12, z = -1, w = 1)\n",
       "```\n",
       "\n",
       "Return a `k`-element `logspace` from `lower + w` to `upper + z`,\n",
       "\n",
       "`lower` is the magnitude of the minimum pair-wise distance between datapoints while `upper` is the magnitude of the maximum difference between greatest and smallest number among each timeseries.\n",
       "\n",
       "\"Magnitude\" here stands for order of magnitude, i.e. `round(log10(x))`.\n"
      ],
      "text/plain": [
       "```\n",
       "estimate_boxsizes(dataset::AbstractDataset; k::Int = 12, z = -1, w = 1)\n",
       "```\n",
       "\n",
       "Return a `k`-element `logspace` from `lower + w` to `upper + z`,\n",
       "\n",
       "`lower` is the magnitude of the minimum pair-wise distance between datapoints while `upper` is the magnitude of the maximum difference between greatest and smallest number among each timeseries.\n",
       "\n",
       "\"Magnitude\" here stands for order of magnitude, i.e. `round(log10(x))`.\n"
      ]
     },
     "execution_count": 129,
     "metadata": {},
     "output_type": "execute_result"
    }
   ],
   "source": [
    "?estimate_boxsizes"
   ]
  },
  {
   "cell_type": "code",
   "execution_count": 115,
   "metadata": {
    "scrolled": true
   },
   "outputs": [
    {
     "name": "stdout",
     "output_type": "stream",
     "text": [
      "search: \u001b[1ml\u001b[22m\u001b[1mi\u001b[22m\u001b[1mn\u001b[22m\u001b[1me\u001b[22m\u001b[1ma\u001b[22m\u001b[1mr\u001b[22m\u001b[1m_\u001b[22m\u001b[1mr\u001b[22m\u001b[1me\u001b[22m\u001b[1mg\u001b[22m\u001b[1mi\u001b[22m\u001b[1mo\u001b[22m\u001b[1mn\u001b[22m\u001b[1ms\u001b[22m p\u001b[1ml\u001b[22mot_l\u001b[1mi\u001b[22m\u001b[1mn\u001b[22m\u001b[1me\u001b[22m\u001b[1ma\u001b[22m\u001b[1mr\u001b[22m\u001b[1m_\u001b[22m\u001b[1mr\u001b[22m\u001b[1me\u001b[22m\u001b[1mg\u001b[22m\u001b[1mi\u001b[22m\u001b[1mo\u001b[22m\u001b[1mn\u001b[22m\u001b[1ms\u001b[22m \u001b[1ml\u001b[22m\u001b[1mi\u001b[22m\u001b[1mn\u001b[22m\u001b[1me\u001b[22m\u001b[1ma\u001b[22m\u001b[1mr\u001b[22m\u001b[1m_\u001b[22m\u001b[1mr\u001b[22m\u001b[1me\u001b[22m\u001b[1mg\u001b[22m\u001b[1mi\u001b[22m\u001b[1mo\u001b[22m\u001b[1mn\u001b[22m\n",
      "\n"
     ]
    },
    {
     "data": {
      "text/markdown": [
       "```\n",
       "linear_regions(x, y; dxi::Int = 1, tol = 0.2) -> (lrs, tangents)\n",
       "```\n",
       "\n",
       "Identify regions where the curve `y(x)` is linear, by scanning the `x`-axis every `dxi` indices (e.g. at `x[1] to x[5], x[5] to x[10], x[10] to x[15]` and so on if `dxi=5`).\n",
       "\n",
       "If the slope (calculated using `LsqFit`) of a region of width `dxi` is approximatelly equal to that of the previous region, within tolerance `tol`, then these two regions belong to the same linear region.\n",
       "\n",
       "Return the indices of `x` that correspond to linear regions, `lrs`, and the approximated `tangents` at each region. `lrs` is a vector of `Int`.\n",
       "\n",
       "A function `plot_linear_regions` visualizes the result of using this `linear_regions` (requires `PyPlot`).\n"
      ],
      "text/plain": [
       "```\n",
       "linear_regions(x, y; dxi::Int = 1, tol = 0.2) -> (lrs, tangents)\n",
       "```\n",
       "\n",
       "Identify regions where the curve `y(x)` is linear, by scanning the `x`-axis every `dxi` indices (e.g. at `x[1] to x[5], x[5] to x[10], x[10] to x[15]` and so on if `dxi=5`).\n",
       "\n",
       "If the slope (calculated using `LsqFit`) of a region of width `dxi` is approximatelly equal to that of the previous region, within tolerance `tol`, then these two regions belong to the same linear region.\n",
       "\n",
       "Return the indices of `x` that correspond to linear regions, `lrs`, and the approximated `tangents` at each region. `lrs` is a vector of `Int`.\n",
       "\n",
       "A function `plot_linear_regions` visualizes the result of using this `linear_regions` (requires `PyPlot`).\n"
      ]
     },
     "execution_count": 115,
     "metadata": {},
     "output_type": "execute_result"
    }
   ],
   "source": [
    "?linear_regions"
   ]
  },
  {
   "cell_type": "code",
   "execution_count": 128,
   "metadata": {},
   "outputs": [
    {
     "name": "stdout",
     "output_type": "stream",
     "text": [
      "search: \u001b[1mk\u001b[22m\u001b[1ma\u001b[22m\u001b[1mp\u001b[22m\u001b[1ml\u001b[22m\u001b[1ma\u001b[22m\u001b[1mn\u001b[22m\u001b[1my\u001b[22m\u001b[1mo\u001b[22m\u001b[1mr\u001b[22m\u001b[1mk\u001b[22m\u001b[1me\u001b[22m\u001b[1m_\u001b[22m\u001b[1md\u001b[22m\u001b[1mi\u001b[22m\u001b[1mm\u001b[22m\n",
      "\n"
     ]
    },
    {
     "data": {
      "text/markdown": [
       "```\n",
       "kaplanyorke_dim(lyapunovs::AbstractVector)\n",
       "```\n",
       "\n",
       "Calculate the Kaplan-Yorke dimension, a.k.a. Lyapunov dimension [1].\n",
       "\n",
       "## Description\n",
       "\n",
       "The Kaplan-Yorke dimension is simply the point where `cumsum(lyapunovs)` becomes zero (interpolated). If the sum of the exponents never becomes negative the function will return the length of the input vector.\n",
       "\n",
       "Useful in combination with [`lyapunovs`](@ref).\n",
       "\n",
       "## References\n",
       "\n",
       "[1] :  J. Kaplan & J. Yorke, *Chaotic behavior of multidimensional difference equations*, Lecture Notes in Mathematics vol. **730**, Springer (1979)\n"
      ],
      "text/plain": [
       "```\n",
       "kaplanyorke_dim(lyapunovs::AbstractVector)\n",
       "```\n",
       "\n",
       "Calculate the Kaplan-Yorke dimension, a.k.a. Lyapunov dimension [1].\n",
       "\n",
       "## Description\n",
       "\n",
       "The Kaplan-Yorke dimension is simply the point where `cumsum(lyapunovs)` becomes zero (interpolated). If the sum of the exponents never becomes negative the function will return the length of the input vector.\n",
       "\n",
       "Useful in combination with [`lyapunovs`](@ref).\n",
       "\n",
       "## References\n",
       "\n",
       "[1] :  J. Kaplan & J. Yorke, *Chaotic behavior of multidimensional difference equations*, Lecture Notes in Mathematics vol. **730**, Springer (1979)\n"
      ]
     },
     "execution_count": 128,
     "metadata": {},
     "output_type": "execute_result"
    }
   ],
   "source": [
    "?kaplanyorke_dim"
   ]
  },
  {
   "cell_type": "code",
   "execution_count": 116,
   "metadata": {},
   "outputs": [
    {
     "name": "stdout",
     "output_type": "stream",
     "text": [
      "search: \u001b[1mp\u001b[22m\u001b[1me\u001b[22m\u001b[1mr\u001b[22m\u001b[1mm\u001b[22m\u001b[1me\u001b[22m\u001b[1mn\u001b[22m\u001b[1mt\u001b[22m\u001b[1mr\u001b[22m\u001b[1mo\u001b[22m\u001b[1mp\u001b[22m\u001b[1my\u001b[22m\n",
      "\n"
     ]
    },
    {
     "data": {
      "text/markdown": [
       "```\n",
       "permentropy(x::AbstractVector, order [, interval=1]; base = e)\n",
       "```\n",
       "\n",
       "Compute the permutation entropy [1] of given `order` from the `x` timeseries.\n",
       "\n",
       "Optionally, `interval` can be specified to use `x[t0:interval:t1]` when calculating permutation of the sliding windows between `t0` and `t1 = t0 + interval * (order - 1)`.\n",
       "\n",
       "Optionally use `base` for the logarithms.\n",
       "\n",
       "## References\n",
       "\n",
       "[1] : C. Bandt, & B. Pompe, [Phys. Rev. Lett. **88** (17), pp 174102 (2002)](http://doi.org/10.1103/PhysRevLett.88.174102)\n"
      ],
      "text/plain": [
       "```\n",
       "permentropy(x::AbstractVector, order [, interval=1]; base = e)\n",
       "```\n",
       "\n",
       "Compute the permutation entropy [1] of given `order` from the `x` timeseries.\n",
       "\n",
       "Optionally, `interval` can be specified to use `x[t0:interval:t1]` when calculating permutation of the sliding windows between `t0` and `t1 = t0 + interval * (order - 1)`.\n",
       "\n",
       "Optionally use `base` for the logarithms.\n",
       "\n",
       "## References\n",
       "\n",
       "[1] : C. Bandt, & B. Pompe, [Phys. Rev. Lett. **88** (17), pp 174102 (2002)](http://doi.org/10.1103/PhysRevLett.88.174102)\n"
      ]
     },
     "execution_count": 116,
     "metadata": {},
     "output_type": "execute_result"
    }
   ],
   "source": [
    "?permentropy"
   ]
  }
 ],
 "metadata": {
  "kernelspec": {
   "display_name": "Julia 0.6.2",
   "language": "julia",
   "name": "julia-0.6"
  },
  "language_info": {
   "file_extension": ".jl",
   "mimetype": "application/julia",
   "name": "julia",
   "version": "0.6.2"
  }
 },
 "nbformat": 4,
 "nbformat_minor": 2
}
