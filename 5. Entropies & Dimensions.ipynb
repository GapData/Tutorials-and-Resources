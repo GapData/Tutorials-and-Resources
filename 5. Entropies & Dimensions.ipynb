{
 "cells": [
  {
   "cell_type": "markdown",
   "metadata": {
    "collapsed": true
   },
   "source": [
    "# Entropies & Dimensions\n",
    "\n",
    "\n",
    "Topics:\n",
    "* Entropies from **DynamicalSystems.jl**\n",
    "* Generalized Dimension\n",
    "* Automated dimension estimation!\n",
    "* Linear regions\n",
    "\n",
    "---\n",
    "# Entropies\n",
    "\n",
    "* In the study of dynamical systems there are many quantities that identify as \"entropy\".\n",
    "* These quantities are not the more commonly known [thermodynamic ones](https://en.wikipedia.org/wiki/Entropy), used in Statistical Physics. \n",
    "* Rather, they are more like the to the entropies of [information theory](https://en.wikipedia.org/wiki/Entropy_(information_theory)), which represents information contained within a dataset, or information about the dimensional scaling of a dataset.\n",
    "\n",
    "There are two functions that give entropies from **DynamicalSystems.jl**. The first is the `genentropy` (which stands for \"generalized entropy\")."
   ]
  },
  {
   "cell_type": "code",
   "execution_count": 3,
   "metadata": {
    "collapsed": true
   },
   "outputs": [],
   "source": [
    "using DynamicalSystems"
   ]
  },
  {
   "cell_type": "code",
   "execution_count": 4,
   "metadata": {},
   "outputs": [
    {
     "name": "stdout",
     "output_type": "stream",
     "text": [
      "search: \u001b[1mg\u001b[22m\u001b[1me\u001b[22m\u001b[1mn\u001b[22m\u001b[1me\u001b[22m\u001b[1mn\u001b[22m\u001b[1mt\u001b[22m\u001b[1mr\u001b[22m\u001b[1mo\u001b[22m\u001b[1mp\u001b[22m\u001b[1my\u001b[22m\n",
      "\n"
     ]
    },
    {
     "data": {
      "text/markdown": [
       "```julia\n",
       "genentropy(α, ε, dataset::AbstractDataset; base = e)\n",
       "```\n",
       "\n",
       "Compute the `α` order generalized (Rényi) entropy [1] of a dataset, by first partitioning it into boxes of length `ε` using [`non0hist`](@ref).\n",
       "\n",
       "```julia\n",
       "genentropy(α, p::AbstractArray; base = e)\n",
       "```\n",
       "\n",
       "Compute the entropy of an array `p` directly, assuming that `p` is sum-normalized.\n",
       "\n",
       "Optionally use `base` for the logarithms.\n",
       "\n",
       "## Description\n",
       "\n",
       "The Rényi entropy\n",
       "\n",
       "$$\n",
       "R_\\alpha(p) = \\frac{1}{1-\\alpha}\\sum_i p[i]^\\alpha\n",
       "$$\n",
       "\n",
       "generalizes other known entropies, like e.g. the information entropy ($\\alpha = 1$, see [2]), the maximum entropy ($\\alpha=0$, also known as Hartley entropy), or the correlation entropy ($\\alpha = 2$, also known as collision entropy).\n",
       "\n",
       "The following aliases are provided:\n",
       "\n",
       "  * `renyi = genentropy`\n",
       "  * `shannon(args...) = genentropy(1, args...)`\n",
       "  * `hartley(args...) = genentropy(0, args...)`\n",
       "\n",
       "## References\n",
       "\n",
       "[1] : A. Rényi, *Proceedings of the fourth Berkeley Symposium on Mathematics, Statistics and Probability*, pp 547 (1960)\n",
       "\n",
       "[2] : C. E. Shannon, Bell Systems Technical Journal **27**, pp 379 (1948)\n"
      ],
      "text/plain": [
       "```julia\n",
       "genentropy(α, ε, dataset::AbstractDataset; base = e)\n",
       "```\n",
       "\n",
       "Compute the `α` order generalized (Rényi) entropy [1] of a dataset, by first partitioning it into boxes of length `ε` using [`non0hist`](@ref).\n",
       "\n",
       "```julia\n",
       "genentropy(α, p::AbstractArray; base = e)\n",
       "```\n",
       "\n",
       "Compute the entropy of an array `p` directly, assuming that `p` is sum-normalized.\n",
       "\n",
       "Optionally use `base` for the logarithms.\n",
       "\n",
       "## Description\n",
       "\n",
       "The Rényi entropy\n",
       "\n",
       "$$\n",
       "R_\\alpha(p) = \\frac{1}{1-\\alpha}\\sum_i p[i]^\\alpha\n",
       "$$\n",
       "\n",
       "generalizes other known entropies, like e.g. the information entropy ($\\alpha = 1$, see [2]), the maximum entropy ($\\alpha=0$, also known as Hartley entropy), or the correlation entropy ($\\alpha = 2$, also known as collision entropy).\n",
       "\n",
       "The following aliases are provided:\n",
       "\n",
       "  * `renyi = genentropy`\n",
       "  * `shannon(args...) = genentropy(1, args...)`\n",
       "  * `hartley(args...) = genentropy(0, args...)`\n",
       "\n",
       "## References\n",
       "\n",
       "[1] : A. Rényi, *Proceedings of the fourth Berkeley Symposium on Mathematics, Statistics and Probability*, pp 547 (1960)\n",
       "\n",
       "[2] : C. E. Shannon, Bell Systems Technical Journal **27**, pp 379 (1948)\n"
      ]
     },
     "execution_count": 4,
     "metadata": {},
     "output_type": "execute_result"
    }
   ],
   "source": [
    "?genentropy"
   ]
  },
  {
   "cell_type": "markdown",
   "metadata": {},
   "source": [
    "---\n",
    "\n"
   ]
  },
  {
   "cell_type": "code",
   "execution_count": 5,
   "metadata": {},
   "outputs": [
    {
     "data": {
      "text/html": [
       "0.6931469199179227"
      ],
      "text/plain": [
       "0.6931469199179227"
      ]
     },
     "execution_count": 5,
     "metadata": {},
     "output_type": "execute_result"
    }
   ],
   "source": [
    "# entropy of a coin toss:\n",
    "y = Float64.(rand(Bool, 1000000)) # just some coin tosses\n",
    "sh = shannon(0.1, y)  # ≡ genentropy(1, 0.0, y)"
   ]
  },
  {
   "cell_type": "markdown",
   "metadata": {},
   "source": [
    "The above number should be log(2) [by definition](https://en.wikipedia.org/wiki/Shannon_(unit)"
   ]
  },
  {
   "cell_type": "code",
   "execution_count": 6,
   "metadata": {},
   "outputs": [
    {
     "data": {
      "text/html": [
       "true"
      ],
      "text/plain": [
       "true"
      ]
     },
     "execution_count": 6,
     "metadata": {},
     "output_type": "execute_result"
    }
   ],
   "source": [
    "isapprox(sh, log(2),  rtol = 1e-6)"
   ]
  },
  {
   "cell_type": "code",
   "execution_count": 7,
   "metadata": {},
   "outputs": [
    {
     "data": {
      "text/html": [
       "9.47195808007415"
      ],
      "text/plain": [
       "9.47195808007415"
      ]
     },
     "execution_count": 7,
     "metadata": {},
     "output_type": "execute_result"
    }
   ],
   "source": [
    "towel = Systems.towel()\n",
    "N = 100000 # amount of points in data\n",
    "tr = trajectory(towel, N)\n",
    "genentropy(1, 0.01, tr) # The result is with log base-e !"
   ]
  },
  {
   "cell_type": "markdown",
   "metadata": {},
   "source": [
    "How much time does it take?"
   ]
  },
  {
   "cell_type": "code",
   "execution_count": 8,
   "metadata": {},
   "outputs": [
    {
     "name": "stdout",
     "output_type": "stream",
     "text": [
      "  18.741 ms (42 allocations: 3.05 MiB)\n"
     ]
    }
   ],
   "source": [
    "using BenchmarkTools\n",
    "@btime shannon(0.01, $tr);"
   ]
  },
  {
   "cell_type": "markdown",
   "metadata": {},
   "source": [
    "### Permutation entropy\n",
    "\n",
    "The other function of **DynamicalSystems.jl** which calculates some entropy, the permutation entropy, is called `permentropy`. This won't be discussed here but is of course available in the [documentation](https://juliadynamics.github.io/DynamicalSystems.jl/latest/chaos/entropies/#permutation-entropy) along with an example application."
   ]
  },
  {
   "cell_type": "markdown",
   "metadata": {},
   "source": [
    "# Attractor Dimension\n",
    "* There are numerous methods that one can use to calculate a so-called \"dimension\" of a\n",
    "dataset, like for example the [Fractal dimension](https://en.wikipedia.org/wiki/Fractal_dimension).\n",
    "\n",
    "* Most of the time these dimensions indicate some kind of scaling behavior. \n",
    "\n",
    "* For example, the scaling of `genentropy` with decreasing `ε` gives the so-called \"generalized dimension\".\n",
    "\n",
    "* $ E \\approx -D\\log(\\varepsilon)$ with $E$ the entropy and $D$ the \"dimension\".\n"
   ]
  },
  {
   "cell_type": "code",
   "execution_count": 9,
   "metadata": {},
   "outputs": [
    {
     "data": {
      "text/plain": [
       "3-dimensional Dataset{Float64} with 1000001 points:\n",
       " 0.085     -0.121       0.075   \n",
       " 0.285813  -0.0675286   0.238038\n",
       " 0.76827   -0.038933    0.672094\n",
       " 0.681871   0.0508933   0.825263\n",
       " 0.837347   0.0372633   0.555269\n",
       " 0.51969    0.0616256   0.940906\n",
       " 0.966676  -0.00171595  0.2225  \n",
       " 0.112748   0.0674955   0.653573\n",
       " 0.386547  -0.0886542   0.869349\n",
       " 0.910741  -0.0316828   0.411607\n",
       " 0.306095   0.0689305   0.909129\n",
       " 0.824263  -0.056185    0.326064\n",
       " 0.545332   0.0508239   0.819404\n",
       " ⋮                              \n",
       " 0.759127   0.0250481   0.433977\n",
       " 0.692366   0.0420435   0.933533\n",
       " 0.826378   0.0422742   0.242956\n",
       " 0.53513    0.0455146   0.703704\n",
       " 0.953367   0.00194466  0.797251\n",
       " 0.179403   0.0981167   0.611396\n",
       " 0.564419  -0.0724939   0.917717\n",
       " 0.945822   0.00891811  0.270937\n",
       " 0.186499   0.0666002   0.748448\n",
       " 0.586876  -0.0779306   0.724994\n",
       " 0.927441   0.0129152   0.738062\n",
       " 0.264358   0.0893829   0.733358\n"
      ]
     },
     "execution_count": 9,
     "metadata": {},
     "output_type": "execute_result"
    }
   ],
   "source": [
    "# I want to know dimension of attractor of the Towel Map!\n",
    "towel = Systems.towel()\n",
    "tr = trajectory(towel, 1000000)\n",
    "# more points = more precision = more computations = more time!"
   ]
  },
  {
   "cell_type": "code",
   "execution_count": 10,
   "metadata": {},
   "outputs": [
    {
     "data": {
      "text/plain": [
       "8-element Array{Float64,1}:\n",
       " 0.01     \n",
       " 0.019307 \n",
       " 0.0372759\n",
       " 0.0719686\n",
       " 0.13895  \n",
       " 0.26827  \n",
       " 0.517947 \n",
       " 1.0      "
      ]
     },
     "execution_count": 10,
     "metadata": {},
     "output_type": "execute_result"
    }
   ],
   "source": [
    "# I want to compute `genentropy` for different ε.\n",
    "# Which ε to use?...\n",
    "# Let's do a random logspace based guess...\n",
    "ες = logspace(-2, 0, 8)"
   ]
  },
  {
   "cell_type": "code",
   "execution_count": 11,
   "metadata": {},
   "outputs": [
    {
     "data": {
      "text/plain": [
       "8-element Array{Float64,1}:\n",
       "  9.57773\n",
       "  8.17065\n",
       "  6.78695\n",
       "  5.39409\n",
       "  4.20973\n",
       "  2.71988\n",
       "  1.34766\n",
       " -0.0    "
      ]
     },
     "execution_count": 11,
     "metadata": {},
     "output_type": "execute_result"
    }
   ],
   "source": [
    "Es = zeros(ες)\n",
    "for (i, ε) ∈ enumerate(ες)\n",
    "    Es[i] = genentropy(1, ε, tr)\n",
    "end\n",
    "Es"
   ]
  },
  {
   "cell_type": "markdown",
   "metadata": {},
   "source": [
    "Alright. Remember that it should be that $\\log(E) \\approx -D\\log(\\varepsilon)$\n",
    " with $E$ the entropy and $D$ the \"dimension\". \n",
    "\n",
    "Let's plot and see:"
   ]
  },
  {
   "cell_type": "code",
   "execution_count": 12,
   "metadata": {},
   "outputs": [
    {
     "data": {
      "image/png": "[encoded data removed]",
      "text/plain": [
       "PyPlot.Figure(PyObject <matplotlib.figure.Figure object at 0x000000000E910DD8>)"
      ]
     },
     "metadata": {},
     "output_type": "display_data"
    }
   ],
   "source": [
    "using PyPlot; figure(figsize = (6,4))\n",
    "plot(-log.(ες), Es); xlabel(\"ε\"); ylabel(\"E\");"
   ]
  },
  {
   "cell_type": "markdown",
   "metadata": {},
   "source": [
    "What typically happens is that there is some region where this scaling behavior holds, but then it stops holding due to the finite amount of data points."
   ]
  },
  {
   "cell_type": "code",
   "execution_count": 13,
   "metadata": {},
   "outputs": [
    {
     "data": {
      "text/html": [
       "2.072753353465525"
      ],
      "text/plain": [
       "2.072753353465525"
      ]
     },
     "execution_count": 13,
     "metadata": {},
     "output_type": "execute_result"
    }
   ],
   "source": [
    "# Find the slope of the curve there.\n",
    "offset, slope = linreg(-log.(ες), Es)\n",
    "D = slope"
   ]
  },
  {
   "cell_type": "markdown",
   "metadata": {},
   "source": [
    "This is actually a correct result, the information dimension of the attractor of the towel map is around 2.\n",
    "\n",
    "---\n",
    "\n",
    "* Are the values of `ες` we used good? \n",
    "* For a general dataset, how to determine them?\n",
    "\n",
    "the function `estimate_boxsizes(dataset; kwargs...)` can help with that!"
   ]
  },
  {
   "cell_type": "code",
   "execution_count": 14,
   "metadata": {},
   "outputs": [
    {
     "name": "stdout",
     "output_type": "stream",
     "text": [
      "search: \u001b[1me\u001b[22m\u001b[1ms\u001b[22m\u001b[1mt\u001b[22m\u001b[1mi\u001b[22m\u001b[1mm\u001b[22m\u001b[1ma\u001b[22m\u001b[1mt\u001b[22m\u001b[1me\u001b[22m\u001b[1m_\u001b[22m\u001b[1mb\u001b[22m\u001b[1mo\u001b[22m\u001b[1mx\u001b[22m\u001b[1ms\u001b[22m\u001b[1mi\u001b[22m\u001b[1mz\u001b[22m\u001b[1me\u001b[22m\u001b[1ms\u001b[22m\n",
      "\n"
     ]
    },
    {
     "data": {
      "text/markdown": [
       "```\n",
       "estimate_boxsizes(dataset::AbstractDataset; k::Int = 12, z = -1, w = 1)\n",
       "```\n",
       "\n",
       "Return a `k`-element `logspace` from `lower + w` to `upper + z`,\n",
       "\n",
       "`lower` is the magnitude of the minimum pair-wise distance between datapoints while `upper` is the magnitude of the maximum difference between greatest and smallest number among each timeseries.\n",
       "\n",
       "\"Magnitude\" here stands for order of magnitude, i.e. `round(log10(x))`.\n"
      ],
      "text/plain": [
       "```\n",
       "estimate_boxsizes(dataset::AbstractDataset; k::Int = 12, z = -1, w = 1)\n",
       "```\n",
       "\n",
       "Return a `k`-element `logspace` from `lower + w` to `upper + z`,\n",
       "\n",
       "`lower` is the magnitude of the minimum pair-wise distance between datapoints while `upper` is the magnitude of the maximum difference between greatest and smallest number among each timeseries.\n",
       "\n",
       "\"Magnitude\" here stands for order of magnitude, i.e. `round(log10(x))`.\n"
      ]
     },
     "execution_count": 14,
     "metadata": {},
     "output_type": "execute_result"
    }
   ],
   "source": [
    "?estimate_boxsizes"
   ]
  },
  {
   "cell_type": "code",
   "execution_count": 15,
   "metadata": {},
   "outputs": [
    {
     "data": {
      "text/plain": [
       "12-element Array{Float64,1}:\n",
       " 0.0001     \n",
       " 0.000187382\n",
       " 0.000351119\n",
       " 0.000657933\n",
       " 0.00123285 \n",
       " 0.00231013 \n",
       " 0.00432876 \n",
       " 0.00811131 \n",
       " 0.0151991  \n",
       " 0.0284804  \n",
       " 0.053367   \n",
       " 0.1        "
      ]
     },
     "execution_count": 15,
     "metadata": {},
     "output_type": "execute_result"
    }
   ],
   "source": [
    "ες = estimate_boxsizes(tr)"
   ]
  },
  {
   "cell_type": "code",
   "execution_count": 16,
   "metadata": {},
   "outputs": [
    {
     "data": {
      "image/png": "[encoded data removed]",
      "text/plain": [
       "PyPlot.Figure(PyObject <matplotlib.figure.Figure object at 0x000000003D833160>)"
      ]
     },
     "metadata": {},
     "output_type": "display_data"
    }
   ],
   "source": [
    "# plot this scaling thingy again\n",
    "Es = zeros(ες)\n",
    "for (i, ε) ∈ enumerate(ες)\n",
    "    Es[i] = genentropy(1, ε, tr)\n",
    "end\n",
    "figure(figsize = (6,4))\n",
    "plot(-log.(ες), Es); xlabel(\"ε\"); ylabel(\"E\");"
   ]
  },
  {
   "cell_type": "markdown",
   "metadata": {},
   "source": [
    "---\n",
    "\n",
    "* Given some arbitrary plot like the one above, is there any algorithm to deduce a scaling region???\n",
    "\n",
    "**I GOT YOU COVERED**\n",
    "\n",
    "The function `linear_regions(x, y; kwargs...)` decomposes the function `y(x)` to regions where linear scaling holds!\n",
    "\n",
    "It returns the indices of `x` that correspond to linear regions and the approximated tangents at each region!"
   ]
  },
  {
   "cell_type": "code",
   "execution_count": 17,
   "metadata": {},
   "outputs": [
    {
     "data": {
      "text/plain": [
       "([1, 2, 3, 4, 5, 6, 12], [0.0169754, 0.059061, 0.195576, 0.549296, 1.19167, 1.87214])"
      ]
     },
     "execution_count": 17,
     "metadata": {},
     "output_type": "execute_result"
    }
   ],
   "source": [
    "x = -log.(ες)\n",
    "lrs, slopes = linear_regions(x, Es)"
   ]
  },
  {
   "cell_type": "code",
   "execution_count": 18,
   "metadata": {},
   "outputs": [
    {
     "name": "stdout",
     "output_type": "stream",
     "text": [
      "linear region 1 starts from index 1 and ends at index 2\n",
      "with corresponding slope 0.01697540475919078\n",
      "\n",
      "linear region 2 starts from index 2 and ends at index 3\n",
      "with corresponding slope 0.059060992416266674\n",
      "\n",
      "linear region 3 starts from index 3 and ends at index 4\n",
      "with corresponding slope 0.19557558745055342\n",
      "\n",
      "linear region 4 starts from index 4 and ends at index 5\n",
      "with corresponding slope 0.5492959963318305\n",
      "\n",
      "linear region 5 starts from index 5 and ends at index 6\n",
      "with corresponding slope 1.1916713297590442\n",
      "\n",
      "linear region 6 starts from index 6 and ends at index 12\n",
      "with corresponding slope 1.8721371361939052\n",
      "\n"
     ]
    }
   ],
   "source": [
    "for i in 1:length(slopes)\n",
    "    println(\"linear region $(i) starts from index $(lrs[i]) and ends at index $(lrs[i+1])\")\n",
    "    println(\"with corresponding slope $(slopes[i])\")\n",
    "    println()\n",
    "end"
   ]
  },
  {
   "cell_type": "code",
   "execution_count": 19,
   "metadata": {},
   "outputs": [
    {
     "data": {
      "text/html": [
       "1.8721371361939052"
      ],
      "text/plain": [
       "1.8721371361939052"
      ]
     },
     "execution_count": 19,
     "metadata": {},
     "output_type": "execute_result"
    }
   ],
   "source": [
    "# The linear region which is biggest is \"probably correct one\"\n",
    "# Here it is the last one, thus the slope is\n",
    "slopes[end]"
   ]
  },
  {
   "cell_type": "markdown",
   "metadata": {},
   "source": [
    "This `linear_regions` function is cool! Is there any \"easy\" way to visualize what it does?\n",
    "\n",
    "**SAY NO MORE**"
   ]
  },
  {
   "cell_type": "code",
   "execution_count": 20,
   "metadata": {},
   "outputs": [
    {
     "data": {
      "image/png": "[encoded data removed]",
      "text/plain": [
       "PyPlot.Figure(PyObject <matplotlib.figure.Figure object at 0x000000003F580DD8>)"
      ]
     },
     "metadata": {},
     "output_type": "display_data"
    }
   ],
   "source": [
    "using PyPlot, ChaosTools # ChaosTools belongs to DynamicalSystems\n",
    "# ChaosTools brings a function `plot_linear_regions`\n",
    "figure(figsize=(6,4))\n",
    "plot_linear_regions(x, Es)\n",
    "xlabel(\"ε\"); ylabel(\"E\");"
   ]
  },
  {
   "cell_type": "markdown",
   "metadata": {},
   "source": [
    "# `generalized_dim` function"
   ]
  },
  {
   "cell_type": "markdown",
   "metadata": {},
   "source": [
    "Let's summarize what we just did to estimate the dimension of an attractor.\n",
    "\n",
    "1. We decided on some partition sizes `ες` to use.\n",
    "    * The function `estimate_boxsizes` can give an estimate for that.\n",
    "2. For each `ε in ες` we calculated the `genentropy`, and got an array `Es`.\n",
    "3. We tried to find a \"linear scaling region\" of the curve `Es` vs. `-log.(ες)`.\n",
    "4. The slope of this \"linear scaling region\" is the dimension we estimated.\n",
    "\n",
    "Wouldn't it be **amazing** if all of this process could happen with one function call?"
   ]
  },
  {
   "cell_type": "code",
   "execution_count": 21,
   "metadata": {},
   "outputs": [
    {
     "data": {
      "text/html": [
       "2.0254102342594864"
      ],
      "text/plain": [
       "2.0254102342594864"
      ]
     },
     "execution_count": 21,
     "metadata": {},
     "output_type": "execute_result"
    }
   ],
   "source": [
    "generalized_dim(2.0, tr)"
   ]
  },
  {
   "cell_type": "code",
   "execution_count": 22,
   "metadata": {},
   "outputs": [
    {
     "data": {
      "text/html": [
       "2.0857728648410996"
      ],
      "text/plain": [
       "2.0857728648410996"
      ]
     },
     "execution_count": 22,
     "metadata": {},
     "output_type": "execute_result"
    }
   ],
   "source": [
    "information_dim(tr) # ≡ generalized_dim(1, tr)"
   ]
  },
  {
   "cell_type": "code",
   "execution_count": 23,
   "metadata": {},
   "outputs": [
    {
     "data": {
      "text/html": [
       "1.1856522479973168"
      ],
      "text/plain": [
       "1.1856522479973168"
      ]
     },
     "execution_count": 23,
     "metadata": {},
     "output_type": "execute_result"
    }
   ],
   "source": [
    "# Let's do the same for the Henon map that we have seen in previous tutorials\n",
    "hen = Systems.henon()\n",
    "tr = trajectory(hen, 100000)\n",
    "capacity_dim(tr) # ≡ generalized_dim(0, tr)"
   ]
  },
  {
   "cell_type": "code",
   "execution_count": 24,
   "metadata": {
    "collapsed": true
   },
   "outputs": [],
   "source": [
    "# Same for the lorenz system\n",
    "lor = Systems.lorenz()\n",
    "tr_lor = trajectory(lor, 1000.0; dt = 0.05);"
   ]
  },
  {
   "cell_type": "code",
   "execution_count": 25,
   "metadata": {},
   "outputs": [
    {
     "data": {
      "text/html": [
       "1.720547762486172"
      ],
      "text/plain": [
       "1.720547762486172"
      ]
     },
     "execution_count": 25,
     "metadata": {},
     "output_type": "execute_result"
    }
   ],
   "source": [
    "capacity_dim(tr_lor)"
   ]
  },
  {
   "cell_type": "markdown",
   "metadata": {},
   "source": [
    "The above is a *wrong* result. It is known that the capacity dimension of the Lorenz attractor (for default parameters) is around 2.0 (Grassberger and Procaccia, 1983)!\n",
    "\n",
    "**It is important to understand that `generalized_dim` is only a crude estimate. NOT to be trusted for accurate results!**"
   ]
  },
  {
   "cell_type": "code",
   "execution_count": 26,
   "metadata": {},
   "outputs": [
    {
     "data": {
      "text/plain": [
       "12×2 Array{Float64,2}:\n",
       "  0.1       9.85183\n",
       "  0.151991  9.78847\n",
       "  0.231013  9.6453 \n",
       "  0.351119  9.35531\n",
       "  0.53367   8.89261\n",
       "  0.811131  8.27665\n",
       "  1.23285   7.59589\n",
       "  1.87382   6.87626\n",
       "  2.84804   6.12687\n",
       "  4.32876   5.3845 \n",
       "  6.57933   4.62497\n",
       " 10.0       3.91202"
      ]
     },
     "execution_count": 26,
     "metadata": {},
     "output_type": "execute_result"
    }
   ],
   "source": [
    "es = estimate_boxsizes(tr_lor)\n",
    "ds = genentropy.(0, es, tr_lor)\n",
    "hcat(es, ds) # show es next to ds"
   ]
  },
  {
   "cell_type": "code",
   "execution_count": 27,
   "metadata": {},
   "outputs": [
    {
     "data": {
      "image/png": "[encoded data removed]",
      "text/plain": [
       "PyPlot.Figure(PyObject <matplotlib.figure.Figure object at 0x000000003F5B7C18>)"
      ]
     },
     "metadata": {},
     "output_type": "display_data"
    }
   ],
   "source": [
    "# visualize what linear regions finds...\n",
    "figure(figsize = (6,4))\n",
    "plot_linear_regions(-log.(es), ds)"
   ]
  },
  {
   "cell_type": "markdown",
   "metadata": {},
   "source": [
    "* The `linear_regions` estimator seems to work fine."
   ]
  },
  {
   "cell_type": "code",
   "execution_count": 28,
   "metadata": {},
   "outputs": [
    {
     "name": "stdout",
     "output_type": "stream",
     "text": [
      "points used: 20001"
     ]
    },
    {
     "data": {
      "image/png": "[encoded data removed]",
      "text/plain": [
       "PyPlot.Figure(PyObject <matplotlib.figure.Figure object at 0x000000003A7ADFD0>)"
      ]
     },
     "metadata": {},
     "output_type": "display_data"
    },
    {
     "name": "stdout",
     "output_type": "stream",
     "text": [
      "\n",
      "D = 1.7761354633195319\n"
     ]
    }
   ],
   "source": [
    "tr_lor = trajectory(lor, 10000.0, rand(3); dt = 0.5) #, diff_eq_kwargs = Dict(:maxiters => typemax(Int)));\n",
    "\n",
    "# Let's try estimations with different boxsizes:\n",
    "sizes = logspace(-1, 2, 25)\n",
    "# form 10^(a) to 10^(b)\n",
    "\n",
    "ds = genentropy.(0, sizes, tr_lor)\n",
    "\n",
    "figure(figsize=(6,4))\n",
    "plot_linear_regions(-log.(sizes), ds)\n",
    "D = linear_region(-log.(sizes), ds)[2]\n",
    "println(\"points used: $(length(tr_lor))\")\n",
    "println(\"D = $(D)\")"
   ]
  },
  {
   "cell_type": "markdown",
   "metadata": {},
   "source": [
    "# Kaplan-Yorke dimension\n",
    "The Kaplan-Yorke dimension is defined as simply the (interpolated) number where the sum of Lyapunov exponents crosses zero.\n",
    "\n",
    "This simple interpolation is done by the function `kaplanyorke_dim(ls)`."
   ]
  },
  {
   "cell_type": "code",
   "execution_count": 33,
   "metadata": {},
   "outputs": [
    {
     "data": {
      "text/plain": [
       "3-element Array{Float64,1}:\n",
       "   0.902203   \n",
       "   0.000607209\n",
       " -14.5695     "
      ]
     },
     "execution_count": 33,
     "metadata": {},
     "output_type": "execute_result"
    }
   ],
   "source": [
    "lor = Systems.lorenz()\n",
    "\n",
    "ls = lyapunovs(lor, 4000.0; Ttr = 100.0)"
   ]
  },
  {
   "cell_type": "code",
   "execution_count": 34,
   "metadata": {},
   "outputs": [
    {
     "data": {
      "text/html": [
       "2.0619658451069145"
      ],
      "text/plain": [
       "2.0619658451069145"
      ]
     },
     "execution_count": 34,
     "metadata": {},
     "output_type": "execute_result"
    }
   ],
   "source": [
    "kaplanyorke_dim(ls)"
   ]
  },
  {
   "cell_type": "markdown",
   "metadata": {},
   "source": [
    "This result is much closer to the one known in the literature."
   ]
  },
  {
   "cell_type": "markdown",
   "metadata": {},
   "source": [
    "# Docstrings"
   ]
  },
  {
   "cell_type": "code",
   "execution_count": 31,
   "metadata": {},
   "outputs": [
    {
     "name": "stdout",
     "output_type": "stream",
     "text": [
      "search: \u001b[1mg\u001b[22m\u001b[1me\u001b[22m\u001b[1mn\u001b[22m\u001b[1me\u001b[22m\u001b[1mr\u001b[22m\u001b[1ma\u001b[22m\u001b[1ml\u001b[22m\u001b[1mi\u001b[22m\u001b[1mz\u001b[22m\u001b[1me\u001b[22m\u001b[1md\u001b[22m\u001b[1m_\u001b[22m\u001b[1md\u001b[22m\u001b[1mi\u001b[22m\u001b[1mm\u001b[22m\n",
      "\n"
     ]
    },
    {
     "data": {
      "text/markdown": [
       "```\n",
       "generalized_dim(α, dataset [, sizes]) -> D_α\n",
       "```\n",
       "\n",
       "Return the `α` order generalized dimension of the `dataset`, by calculating the [`genentropy`](@ref) for each `ε ∈ sizes`.\n",
       "\n",
       "## Description\n",
       "\n",
       "The returned dimension is approximated by the (inverse) power law exponent of the scaling of the [`genentropy`](@ref) versus the box size `ε`, where `ε ∈ sizes`.\n",
       "\n",
       "Calling this function performs a lot of automated steps:\n",
       "\n",
       "1. A vector of box sizes is decided by calling `sizes = estimate_boxsizes(dataset)`, if `sizes` is not given.\n",
       "2. For each element of `sizes` the appropriate entropy is calculated, through `d = genentropy.(α, sizes, dataset)`. Let `x = -log.(sizes)`.\n",
       "3. The curve `d(x)` is decomposed into linear regions, using [`linear_regions`](@ref)`(x, d)`.\n",
       "4. The biggest linear region is chosen, and a fit for the slope of that region is performed using the function [`linear_region`](@ref). This slope is the return value of `generalized_dim`.\n",
       "\n",
       "By doing these steps one by one yourself, you can adjust the keyword arguments given to each of these function calls, refining the accuracy of the result.\n",
       "\n",
       "The following aliases are provided:\n",
       "\n",
       "  * α = 0 : `boxcounting_dim`, `capacity_dim`\n",
       "  * α = 1 : `information_dim`\n",
       "  * α = 2 : `correlation_dim`\n"
      ],
      "text/plain": [
       "```\n",
       "generalized_dim(α, dataset [, sizes]) -> D_α\n",
       "```\n",
       "\n",
       "Return the `α` order generalized dimension of the `dataset`, by calculating the [`genentropy`](@ref) for each `ε ∈ sizes`.\n",
       "\n",
       "## Description\n",
       "\n",
       "The returned dimension is approximated by the (inverse) power law exponent of the scaling of the [`genentropy`](@ref) versus the box size `ε`, where `ε ∈ sizes`.\n",
       "\n",
       "Calling this function performs a lot of automated steps:\n",
       "\n",
       "1. A vector of box sizes is decided by calling `sizes = estimate_boxsizes(dataset)`, if `sizes` is not given.\n",
       "2. For each element of `sizes` the appropriate entropy is calculated, through `d = genentropy.(α, sizes, dataset)`. Let `x = -log.(sizes)`.\n",
       "3. The curve `d(x)` is decomposed into linear regions, using [`linear_regions`](@ref)`(x, d)`.\n",
       "4. The biggest linear region is chosen, and a fit for the slope of that region is performed using the function [`linear_region`](@ref). This slope is the return value of `generalized_dim`.\n",
       "\n",
       "By doing these steps one by one yourself, you can adjust the keyword arguments given to each of these function calls, refining the accuracy of the result.\n",
       "\n",
       "The following aliases are provided:\n",
       "\n",
       "  * α = 0 : `boxcounting_dim`, `capacity_dim`\n",
       "  * α = 1 : `information_dim`\n",
       "  * α = 2 : `correlation_dim`\n"
      ]
     },
     "execution_count": 31,
     "metadata": {},
     "output_type": "execute_result"
    }
   ],
   "source": [
    "?generalized_dim"
   ]
  },
  {
   "cell_type": "code",
   "execution_count": 32,
   "metadata": {},
   "outputs": [
    {
     "name": "stdout",
     "output_type": "stream",
     "text": [
      "search: \u001b[1ml\u001b[22m\u001b[1mi\u001b[22m\u001b[1mn\u001b[22m\u001b[1me\u001b[22m\u001b[1ma\u001b[22m\u001b[1mr\u001b[22m\u001b[1m_\u001b[22m\u001b[1mr\u001b[22m\u001b[1me\u001b[22m\u001b[1mg\u001b[22m\u001b[1mi\u001b[22m\u001b[1mo\u001b[22m\u001b[1mn\u001b[22m\u001b[1ms\u001b[22m p\u001b[1ml\u001b[22mot_l\u001b[1mi\u001b[22m\u001b[1mn\u001b[22m\u001b[1me\u001b[22m\u001b[1ma\u001b[22m\u001b[1mr\u001b[22m\u001b[1m_\u001b[22m\u001b[1mr\u001b[22m\u001b[1me\u001b[22m\u001b[1mg\u001b[22m\u001b[1mi\u001b[22m\u001b[1mo\u001b[22m\u001b[1mn\u001b[22m\u001b[1ms\u001b[22m \u001b[1ml\u001b[22m\u001b[1mi\u001b[22m\u001b[1mn\u001b[22m\u001b[1me\u001b[22m\u001b[1ma\u001b[22m\u001b[1mr\u001b[22m\u001b[1m_\u001b[22m\u001b[1mr\u001b[22m\u001b[1me\u001b[22m\u001b[1mg\u001b[22m\u001b[1mi\u001b[22m\u001b[1mo\u001b[22m\u001b[1mn\u001b[22m\n",
      "\n"
     ]
    },
    {
     "data": {
      "text/markdown": [
       "```\n",
       "linear_regions(x, y; dxi::Int = 1, tol = 0.2) -> (lrs, tangents)\n",
       "```\n",
       "\n",
       "Identify regions where the curve `y(x)` is linear, by scanning the `x`-axis every `dxi` indices (e.g. at `x[1] to x[5], x[5] to x[10], x[10] to x[15]` and so on if `dxi=5`).\n",
       "\n",
       "If the slope (calculated using `LsqFit`) of a region of width `dxi` is approximatelly equal to that of the previous region, within tolerance `tol`, then these two regions belong to the same linear region.\n",
       "\n",
       "Return the indices of `x` that correspond to linear regions, `lrs`, and the approximated `tangents` at each region. `lrs` is a vector of `Int`.\n",
       "\n",
       "A function `plot_linear_regions` visualizes the result of using this `linear_regions` (requires `PyPlot`).\n"
      ],
      "text/plain": [
       "```\n",
       "linear_regions(x, y; dxi::Int = 1, tol = 0.2) -> (lrs, tangents)\n",
       "```\n",
       "\n",
       "Identify regions where the curve `y(x)` is linear, by scanning the `x`-axis every `dxi` indices (e.g. at `x[1] to x[5], x[5] to x[10], x[10] to x[15]` and so on if `dxi=5`).\n",
       "\n",
       "If the slope (calculated using `LsqFit`) of a region of width `dxi` is approximatelly equal to that of the previous region, within tolerance `tol`, then these two regions belong to the same linear region.\n",
       "\n",
       "Return the indices of `x` that correspond to linear regions, `lrs`, and the approximated `tangents` at each region. `lrs` is a vector of `Int`.\n",
       "\n",
       "A function `plot_linear_regions` visualizes the result of using this `linear_regions` (requires `PyPlot`).\n"
      ]
     },
     "execution_count": 32,
     "metadata": {},
     "output_type": "execute_result"
    }
   ],
   "source": [
    "?linear_regions"
   ]
  }
 ],
 "metadata": {
  "kernelspec": {
   "display_name": "Julia 0.6.2",
   "language": "julia",
   "name": "julia-0.6"
  },
  "language_info": {
   "file_extension": ".jl",
   "mimetype": "application/julia",
   "name": "julia",
   "version": "0.6.2"
  }
 },
 "nbformat": 4,
 "nbformat_minor": 2
}
