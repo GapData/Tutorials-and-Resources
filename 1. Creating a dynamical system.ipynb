{
 "cells": [
  {
   "cell_type": "markdown",
   "metadata": {},
   "source": [
    "# Creating a dynamical system\n",
    "\n",
    "Topics:\n",
    "* What *is* a dynamical system in the context of **DynamicalSystems.jl**?\n",
    "* How can we define a discrete or continuous system?\n",
    "* What are the differences in handling large and small systems?\n",
    "    * Handy Dandy definition table!\n",
    "* Comment on DifferentialEquations.jl\n",
    "* Docstrings\n",
    "\n",
    "---\n",
    "\n",
    "# Dynamical System\n",
    "\n",
    "A \"dynamical system\" is a law that describes how some variables should evolve in time. This law is described by the \"equations of motion\" function $\\vec{f}$.\n",
    "\n",
    "There are two types of dynamical systems (in our case):\n",
    "\n",
    "1. One is called a map, where time is a discrete quantity (like \"steps\" or \"generations\"). The equations of motion then look something like $\\vec{u}_{n+1} = \\vec{f}(\\vec{u}_n, p, n)$ where $n$ is an integer and $p$ are the parameters of the system.\n",
    "\n",
    "2. The other type is called an Ordinary Differential Equation (ODE), where time is a continuous quantity. Then, the equations of motion give the time derivatives of the variables: $\\frac{d\\vec{u}}{dt} = \\vec{f}(\\vec{u}, p, t)$.\n",
    "\n",
    "In both cases $\\vec{u}$ is the state of the system, a vector of the variables that define the system. For example, $\\vec{u}$ may be defined as $(x, y, z)$, or as $(\\theta, I)$, or as $(V, I, R, C_1, C_2)$, etc.\n",
    "\n",
    "---\n"
   ]
  },
  {
   "cell_type": "markdown",
   "metadata": {},
   "source": [
    "# Creating a simple discrete system\n",
    "\n",
    "\n",
    "For all intents and purposes, a `DynamicalSystem` is a Julia `struct` that contains all the information of a dynamical system:\n",
    "1. Equations of motion function $\\vec{f}$\n",
    "3. Initial state.\n",
    "4. Parameter container (if the equations of motion are parameterized).\n",
    "2. Jacobian of the equations of motion.\n",
    "\n",
    "\n",
    "For simplicity let's focus on creating a simple discrete chaotic system, the [Hénon map](https://en.wikipedia.org/wiki/H%C3%A9non_map). \n",
    "\n",
    "The constructor we need is:\n",
    "\n",
    "```julia\n",
    "DiscreteDynamicalSystem(eom, state, p)\n",
    "```\n",
    "\n",
    "In order to construct a Hénon map, let's discuss the input arguments we need to pass to this constructor!\n",
    "\n",
    "#### 1. Equations of motion\n",
    "The first argument of the above constructor --`eom` -- is a **function** representing the equations of motion.\n",
    "\n",
    "Therefore, the first step in creating a `DynamicalSystem` is to define the equations of motion. For the Hénon map they have the form:\n",
    "\n",
    "$$\n",
    "\\begin{aligned}\n",
    "x_{n+1} &= 1 - ax^2_n+y_n \\\\\n",
    "y_{n+1} & = bx_n\n",
    "\\end{aligned}\n",
    "$$\n",
    "\n",
    "Now we must make a function out of them. There is some strictness when writing this function in Julia. Specifically, it can only be one of two forms: out-of-place (oop) or in-place (iip). Here is how to define it:\n",
    "\n",
    "* **oop** : The `eom` function **must** be in the form `eom(x, p, t) -> SVector`\n",
    "  which means that given a state `x::SVector` and some parameter container\n",
    "  `p` it returns a [`SVector`](http://juliaarrays.github.io/StaticArrays.jl/stable/pages/api.html#SVector-1)\n",
    "  (from the [StaticArrays](https://github.com/JuliaArrays/StaticArrays.jl) module)\n",
    "  containing the next state.\n",
    "* **iip** : The `eom` function **must** be in the form `eom!(xnew, x, p, t)`\n",
    "  which means that given a state `x::Vector` and some parameter container `p`,\n",
    "  it writes in-place the new state in `xnew`.\n",
    "\n",
    "We advise to use **oop** for systems with dimension < 11, and use **iip** otherwise.\n",
    "\n",
    "*If you are familiar with [DifferentialEquations.jl](http://docs.juliadiffeq.org/latest/), then notice that the equations of motion are defined in an identical manner*\n",
    "\n",
    "Because the Hénon map is only 2-dimensional, we follow the advice of the documentation and take advantage of the [`StaticArrays`](https://github.com/JuliaArrays/StaticArrays.jl) module."
   ]
  },
  {
   "cell_type": "code",
   "execution_count": 75,
   "metadata": {},
   "outputs": [
    {
     "data": {
      "text/plain": [
       "h_eom (generic function with 1 method)"
      ]
     },
     "execution_count": 75,
     "metadata": {},
     "output_type": "execute_result"
    }
   ],
   "source": [
    "using DynamicalSystems\n",
    "h_eom(x, p, t) = SVector{2}(1.0 - p[1]*x[1]^2 + x[2], p[2]*x[1])"
   ]
  },
  {
   "cell_type": "markdown",
   "metadata": {},
   "source": [
    "* Remember: *both* `p` (for parameters) and `t` (for time) must be included in the equations of motion function, irrespective of whether they are used or not!\n",
    "\n",
    "#### 2. State\n",
    "\n",
    "The second argument for the `DiscreteDynamicalSystem` constructor is a `state`, which represents the initial condition for the system:"
   ]
  },
  {
   "cell_type": "code",
   "execution_count": 99,
   "metadata": {},
   "outputs": [
    {
     "data": {
      "text/plain": [
       "2-element Array{Float64,1}:\n",
       " 0.0\n",
       " 0.0"
      ]
     },
     "execution_count": 99,
     "metadata": {},
     "output_type": "execute_result"
    }
   ],
   "source": [
    "state = zeros(2) # doesn't matter if we use Vector of SVector for the `state`"
   ]
  },
  {
   "cell_type": "markdown",
   "metadata": {},
   "source": [
    "#### 3. Parameters for our EOM\n",
    "\n",
    "Then, the last argument, `p`, is simply a parameter container."
   ]
  },
  {
   "cell_type": "code",
   "execution_count": 100,
   "metadata": {},
   "outputs": [
    {
     "data": {
      "text/plain": [
       "2-element Array{Float64,1}:\n",
       " 1.4\n",
       " 0.3"
      ]
     },
     "execution_count": 100,
     "metadata": {},
     "output_type": "execute_result"
    }
   ],
   "source": [
    "p = [1.4, 0.3] # p = [a, b] from the equations of motion"
   ]
  },
  {
   "cell_type": "markdown",
   "metadata": {},
   "source": [
    "These 3 things are enough to make a `DynamicalSystem`:"
   ]
  },
  {
   "cell_type": "code",
   "execution_count": 101,
   "metadata": {},
   "outputs": [
    {
     "data": {
      "text/plain": [
       "2-dimensional discrete dynamical system\n",
       " state:     [0.0, 0.0]\n",
       " e.o.m.:    h_eom\n",
       " in-place?  false\n",
       " jacobian:  ForwardDiff\n"
      ]
     },
     "execution_count": 101,
     "metadata": {},
     "output_type": "execute_result"
    }
   ],
   "source": [
    "henon = DiscreteDynamicalSystem(h_eom, state, p)"
   ]
  },
  {
   "cell_type": "markdown",
   "metadata": {},
   "source": [
    "## Getting a trajectory\n",
    "\n",
    "Now that we have created the system, the first (and most basic) thing to do is to simply plot its time evolution and see what it looks like. \n",
    "\n",
    "The `trajectory` function is a convenient tool that evolves the system and returns the output at equally spaced time intervals. The call signature is simply:\n",
    "\n",
    "```julia\n",
    "trajectory(ds::DynamicalSystem, T [, u]; kwargs...)\n",
    "```\n",
    "which evolves a system for total time `T`, optionally starting from a different state `u`."
   ]
  },
  {
   "cell_type": "code",
   "execution_count": 79,
   "metadata": {
    "scrolled": false
   },
   "outputs": [
    {
     "data": {
      "text/plain": [
       "2-dimensional Dataset{Float64} with 100001 points\n",
       "  0.00405652   0.000472404\n",
       "  1.00045      0.00121696 \n",
       " -0.400042     0.300135   \n",
       "  1.07609     -0.120012   \n",
       " -0.741165     0.322826   \n",
       "  0.553771    -0.222349   \n",
       "  0.348323     0.166131   \n",
       "  0.996271     0.104497   \n",
       " -0.28508      0.298881   \n",
       "  1.1851      -0.0855241  \n",
       " -1.05178      0.355531   \n",
       " -0.1932      -0.315533   \n",
       "  0.63221     -0.05796    \n",
       "  ⋮                       \n",
       "  0.844999     0.143868   \n",
       "  0.144234     0.2535     \n",
       "  1.22437      0.0432703  \n",
       " -1.05546      0.367312   \n",
       " -0.192285    -0.316638   \n",
       "  0.631599    -0.0576855  \n",
       "  0.383831     0.18948    \n",
       "  0.983223     0.115149   \n",
       " -0.23827      0.294967   \n",
       "  1.21549     -0.071481   \n",
       " -1.13985      0.364646   \n",
       " -0.454307    -0.341954   \n"
      ]
     },
     "execution_count": 79,
     "metadata": {},
     "output_type": "execute_result"
    }
   ],
   "source": [
    "# trajectory from initial condition\n",
    "tr = trajectory(henon, 100000)\n",
    "# trajectory from a different starting point\n",
    "tr2 = trajectory(henon, 100000, 0.01rand(2))"
   ]
  },
  {
   "cell_type": "code",
   "execution_count": 80,
   "metadata": {},
   "outputs": [
    {
     "data": {
      "image/png": "[encoded data removed]",
      "text/plain": [
       "PyPlot.Figure(PyObject <Figure size 600x400 with 1 Axes>)"
      ]
     },
     "metadata": {},
     "output_type": "display_data"
    }
   ],
   "source": [
    "using PyPlot\n",
    "figure(figsize=(6,4))\n",
    "plot(tr[:, 1], tr[:, 2], lw = 0.0, marker = \"o\", ms = 0.1, alpha = 0.5);\n",
    "plot(tr2[:, 1], tr2[:, 2], lw = 0.0, marker = \"o\", ms = 0.1, alpha = 0.5);"
   ]
  },
  {
   "cell_type": "markdown",
   "metadata": {},
   "source": [
    "## Crash-course on `Dataset`\n",
    "\n",
    "`trajectory` returns an object that is a `Dataset`:"
   ]
  },
  {
   "cell_type": "code",
   "execution_count": 81,
   "metadata": {
    "scrolled": false
   },
   "outputs": [
    {
     "name": "stdout",
     "output_type": "stream",
     "text": [
      "DynamicalSystemsBase.Dataset{2,Float64}\n",
      "2-dimensional Dataset{Float64} with 100001 points\n"
     ]
    }
   ],
   "source": [
    "tr = trajectory(henon, 100000)\n",
    "println(typeof(tr))\n",
    "println(summary(tr))"
   ]
  },
  {
   "cell_type": "markdown",
   "metadata": {},
   "source": [
    "`Dataset` instances handle most data in **DynamicalSystems.jl**. `Dataset` is a wrapper of a `Vector` of `SVector`s (statically sized vectors)."
   ]
  },
  {
   "cell_type": "code",
   "execution_count": 82,
   "metadata": {},
   "outputs": [
    {
     "data": {
      "text/plain": [
       "Array{StaticArrays.SArray{Tuple{2},Float64,1,2},1}"
      ]
     },
     "execution_count": 82,
     "metadata": {},
     "output_type": "execute_result"
    }
   ],
   "source": [
    "typeof(tr.data) # this is where the `Dataset` has the data"
   ]
  },
  {
   "cell_type": "markdown",
   "metadata": {},
   "source": [
    "When accessed with one index, a `Dataset` behaves as a vector of vectors"
   ]
  },
  {
   "cell_type": "code",
   "execution_count": 83,
   "metadata": {},
   "outputs": [
    {
     "data": {
      "text/plain": [
       "2-element StaticArrays.SArray{Tuple{2},Float64,1,2}:\n",
       " 0.0\n",
       " 0.0"
      ]
     },
     "execution_count": 83,
     "metadata": {},
     "output_type": "execute_result"
    }
   ],
   "source": [
    "tr[1] # first time point"
   ]
  },
  {
   "cell_type": "code",
   "execution_count": 84,
   "metadata": {
    "scrolled": true
   },
   "outputs": [
    {
     "data": {
      "text/plain": [
       "5-element Array{StaticArrays.SArray{Tuple{2},Float64,1,2},1}:\n",
       " [0.0, 0.0]         \n",
       " [1.0, 0.0]         \n",
       " [-0.4, 0.3]        \n",
       " [1.076, -0.12]     \n",
       " [-0.740886, 0.3228]"
      ]
     },
     "execution_count": 84,
     "metadata": {},
     "output_type": "execute_result"
    }
   ],
   "source": [
    "tr[1:5]"
   ]
  },
  {
   "cell_type": "markdown",
   "metadata": {},
   "source": [
    "When accessed with two indices, a `Dataset` behaves like a matrix with each column being the timeseries of each dynamic variable"
   ]
  },
  {
   "cell_type": "code",
   "execution_count": 85,
   "metadata": {},
   "outputs": [
    {
     "data": {
      "text/plain": [
       "100001-element Array{Float64,1}:\n",
       "  0.0     \n",
       "  1.0     \n",
       " -0.4     \n",
       "  1.076   \n",
       " -0.740886\n",
       "  0.554322\n",
       "  0.347552\n",
       "  0.997188\n",
       " -0.287871\n",
       "  1.18314 \n",
       " -1.0461  \n",
       " -0.177128\n",
       "  0.642244\n",
       "  ⋮       \n",
       "  0.582553\n",
       "  0.627885\n",
       "  0.622831\n",
       "  0.64528 \n",
       "  0.603908\n",
       "  0.682997\n",
       "  0.528095\n",
       "  0.814462\n",
       "  0.229742\n",
       "  1.17044 \n",
       " -0.848995\n",
       "  0.342024"
      ]
     },
     "execution_count": 85,
     "metadata": {},
     "output_type": "execute_result"
    }
   ],
   "source": [
    "tr[:, 1] # timeseries of first variable"
   ]
  },
  {
   "cell_type": "code",
   "execution_count": 86,
   "metadata": {},
   "outputs": [
    {
     "data": {
      "text/plain": [
       "56-element Array{Float64,1}:\n",
       "  0.0      \n",
       "  0.0      \n",
       "  0.3      \n",
       " -0.12     \n",
       "  0.3228   \n",
       " -0.222266 \n",
       "  0.166297 \n",
       "  0.104265 \n",
       "  0.299156 \n",
       " -0.0863614\n",
       "  0.354942 \n",
       " -0.313831 \n",
       " -0.0531385\n",
       "  ⋮        \n",
       "  0.128109 \n",
       "  0.186576 \n",
       "  0.175984 \n",
       "  0.211444 \n",
       "  0.144155 \n",
       "  0.266456 \n",
       "  0.0119177\n",
       "  0.379274 \n",
       " -0.367719 \n",
       " -0.217233 \n",
       " -0.0305363\n",
       "  0.230479 "
      ]
     },
     "execution_count": 86,
     "metadata": {},
     "output_type": "execute_result"
    }
   ],
   "source": [
    "tr[1:56, 2] # time points 1:56 of second variable"
   ]
  },
  {
   "cell_type": "code",
   "execution_count": 87,
   "metadata": {},
   "outputs": [
    {
     "data": {
      "text/html": [
       "-0.17712836162447815"
      ],
      "text/plain": [
       "-0.17712836162447815"
      ]
     },
     "execution_count": 87,
     "metadata": {},
     "output_type": "execute_result"
    }
   ],
   "source": [
    "tr[12, 1] # value of first variable at 12th timepoint"
   ]
  },
  {
   "cell_type": "code",
   "execution_count": 88,
   "metadata": {},
   "outputs": [
    {
     "data": {
      "text/plain": [
       "2-dimensional Dataset{Float64} with 10 points\n",
       "  0.0        0.0      \n",
       "  1.0        0.0      \n",
       " -0.4        0.3      \n",
       "  1.076     -0.12     \n",
       " -0.740886   0.3228   \n",
       "  0.554322  -0.222266 \n",
       "  0.347552   0.166297 \n",
       "  0.997188   0.104265 \n",
       " -0.287871   0.299156 \n",
       "  1.18314   -0.0863614\n"
      ]
     },
     "execution_count": 88,
     "metadata": {},
     "output_type": "execute_result"
    }
   ],
   "source": [
    "tr[1:10, 1:2] # using two ranges returns a `Dataset`"
   ]
  },
  {
   "cell_type": "markdown",
   "metadata": {},
   "source": [
    "# Adding a Jacobian\n",
    "\n",
    "Let's see `henon` again:"
   ]
  },
  {
   "cell_type": "code",
   "execution_count": 102,
   "metadata": {},
   "outputs": [
    {
     "data": {
      "text/plain": [
       "2-dimensional discrete dynamical system\n",
       " state:     [0.0, 0.0]\n",
       " e.o.m.:    h_eom\n",
       " in-place?  false\n",
       " jacobian:  ForwardDiff\n"
      ]
     },
     "execution_count": 102,
     "metadata": {},
     "output_type": "execute_result"
    }
   ],
   "source": [
    "henon"
   ]
  },
  {
   "cell_type": "markdown",
   "metadata": {
    "collapsed": true
   },
   "source": [
    "* The last line, \"`jacobian:  ForwardDiff`\"\n",
    "says that the Jacobian function of the equations of motion was computed automatically using the module [`ForwardDiff`](http://www.juliadiff.org/ForwardDiff.jl/stable/user/api.html). \n",
    "* The Jacobian function is a crucial component of a dynamical system, and that is why if it is not given, it is computed automatically.\n",
    "\n",
    "\n",
    "\n",
    "Even though the automatic computation is very efficient, the best possible performance will come if you pass a \"hard-coded\" jacobian:"
   ]
  },
  {
   "cell_type": "code",
   "execution_count": 103,
   "metadata": {},
   "outputs": [
    {
     "data": {
      "text/plain": [
       "h_jacobian (generic function with 1 method)"
      ]
     },
     "execution_count": 103,
     "metadata": {},
     "output_type": "execute_result"
    }
   ],
   "source": [
    "h_jacobian(x, p, t) = @SMatrix [-2*p[1]*x[1] 1.0; p[2] 0.0]"
   ]
  },
  {
   "cell_type": "markdown",
   "metadata": {},
   "source": [
    "* Notice that for **out-of-place** systems, the Jacobian must also have the same form as the equations of motion, namely to return an `SMatrix`.\n",
    "\n",
    "Now, we can pass this Jacobian function to the `DiscreteDynamicalSystem` constructor as a 4th argument:"
   ]
  },
  {
   "cell_type": "code",
   "execution_count": 104,
   "metadata": {},
   "outputs": [
    {
     "data": {
      "text/plain": [
       "2-dimensional discrete dynamical system\n",
       " state:     [0.0, 0.0]\n",
       " e.o.m.:    h_eom\n",
       " in-place?  false\n",
       " jacobian:  h_jacobian\n"
      ]
     },
     "execution_count": 104,
     "metadata": {},
     "output_type": "execute_result"
    }
   ],
   "source": [
    "henon_with_jac = DiscreteDynamicalSystem(h_eom, state, p, h_jacobian)"
   ]
  },
  {
   "cell_type": "markdown",
   "metadata": {},
   "source": [
    "To see the difference in performance, let's call this Jacobian function"
   ]
  },
  {
   "cell_type": "code",
   "execution_count": 115,
   "metadata": {},
   "outputs": [
    {
     "name": "stdout",
     "output_type": "stream",
     "text": [
      "  2.986 ns (0 allocations: 0 bytes)\n",
      "  17.066 ns (0 allocations: 0 bytes)\n"
     ]
    }
   ],
   "source": [
    "a = rand(SVector{2})\n",
    "@btime $(henon_with_jac.jacobian)($a, $henon.prob.p, 0);\n",
    "@btime $(henon.jacobian)($a, $henon.prob.p, 0);"
   ]
  },
  {
   "cell_type": "markdown",
   "metadata": {},
   "source": [
    "You can see that even though `ForwardDiff` is truly performant, the hard-coded version is much faster."
   ]
  },
  {
   "cell_type": "markdown",
   "metadata": {},
   "source": [
    "# Continuous System\n",
    "* The process of creating a continuous system is identical to that of a discrete system, except that the constructor `ContinuousDynamicalSystem` is used instead. \n",
    "* In this case the function `eom` returns the time derivatives and not a \"next state\".\n",
    "\n",
    "\n",
    "---\n",
    "\n",
    "\n",
    "\n",
    "* We will take the opportunity to show the process of using in-place equations of motion for a continuous system, which is aimed to be used for large systems (dimensionality $\\ge$ 10).\n",
    "\n",
    "* In addition, the system we will use (Henon-Heiles) does not have any parameters."
   ]
  },
  {
   "cell_type": "code",
   "execution_count": 93,
   "metadata": {},
   "outputs": [
    {
     "data": {
      "text/plain": [
       "4-dimensional continuous dynamical system\n",
       " state:     [0.0, -0.25, 0.42081, 0.0]\n",
       " e.o.m.:    hheom!\n",
       " in-place?  true\n",
       " jacobian:  ForwardDiff\n"
      ]
     },
     "execution_count": 93,
     "metadata": {},
     "output_type": "execute_result"
    }
   ],
   "source": [
    "# Henon-heiles famous system\n",
    "# in-place form of equations of motion\n",
    "# du is the derivatives vector, u is the state vector\n",
    "function hheom!(du, u, p, t)\n",
    "    du[1] = u[3]\n",
    "    du[2] = u[4]\n",
    "    du[3] = -u[1] - 2u[1]*u[2]\n",
    "    du[4] = -u[2] - (u[1]^2 - u[2]^2)\n",
    "    return nothing\n",
    "end\n",
    "\n",
    "# pass `nothing` as the parameters, because the system doesn't have any\n",
    "hh = ContinuousDynamicalSystem(hheom!, [0, -0.25, 0.42081, 0], nothing)"
   ]
  },
  {
   "cell_type": "code",
   "execution_count": 116,
   "metadata": {},
   "outputs": [
    {
     "data": {
      "image/png": "[encoded data removed]",
      "text/plain": [
       "PyPlot.Figure(PyObject <Figure size 600x400 with 1 Axes>)"
      ]
     },
     "metadata": {},
     "output_type": "display_data"
    }
   ],
   "source": [
    "# Evolve the system using DifferentialEquations.jl\n",
    "tr = trajectory(hh, 100.0, dt = 0.05)\n",
    "\n",
    "figure(figsize = (6,4))\n",
    "plot(tr[:, 1], tr[:, 2]);"
   ]
  },
  {
   "cell_type": "markdown",
   "metadata": {},
   "source": [
    "# Handy Dandy definition table\n",
    "\n",
    "Depending on whether your system is small or large, you want to use out-of-place or in-place equations of motion. The Jacobian function (if you wish to provide it) must also be of the same form. \n",
    "\n",
    "Here is a handy table that summarizes what the definitions should look like:\n",
    "\n",
    "|          System Type         |    equations of motion    |            Jacobian            |\n",
    "|:----------------------------:|:-------------------------:|:------------------------------:|\n",
    "| in-place (big systems)       | `eom!(du, u, p, t)`       | `jacobian!(J, u, p, t)`        |\n",
    "| out-of-place (small systems) | `eom(u, p, t) -> SVector` | `jacobian(u, p, t) -> SMatrix` |\n"
   ]
  },
  {
   "cell_type": "markdown",
   "metadata": {},
   "source": [
    "# Time-evolution of systems & DifferentialEquations.jl\n",
    "Discrete systems are evolved using internal algorithms. However, all time evolution of continuous systems is done through the [DifferentialEquations.jl](http://docs.juliadiffeq.org/latest/) library. In fact, `trajectory` for continuous systems simply wraps `solve` with some extra arguments.\n",
    "\n",
    "Keep in mind that by default all continuous systems are evolved using the solver `Vern9()` (9th order Verner solver) with tolerances `abstol = reltol = 1e-9`. This is especially important when one wants to compare benchmarks with different packages.\n",
    "\n",
    "It is almost certain that if you use **DynamicalSystems.jl** you want to use also DifferentialEquations.jl, due to the huge list of available features.\n",
    "\n",
    "\n",
    "## When to use **DynamicalSystems.jl**?\n",
    "At this point in the tutorial you might be thinking:\n",
    "> How is DynamicalSystems.jl different from DifferentialEquations.jl? Seems the same to me so far...\n",
    "\n",
    "That's because we haven't seen any special features of **DynamicalSystems.jl** yet! `trajectory` is nothing more than a \"convenient shortcut\".\n",
    "\n",
    "The [contents page](https://juliadynamics.github.io/DynamicalSystems.jl/latest/#contents) of the documentation does a good job describing what is possible through **DynamicalSystems.jl**.\n",
    "\n",
    "In addition, for usage with DifferentialEquations.jl, we can create specialized integrators that evolve the system and the tangent space, or many states of the system in parallel (at *exactly* same times):\n",
    "* `tangent_integrator`\n",
    "* `parallel_integrator`\n",
    "\n",
    "These functions work for both continuous and discrete systems and also work regardless of whether the system is in-place (large), out-of-place (small) or auto-differentiated. Special attention has also been given to the performance of the integrators. \n",
    "\n",
    "Also, keep in mind that regardless of whether you use a `DynamicalSystem` to produce a timeseries or not, more than half of the **DynamicalSystems.jl** library is using numerical data as an input. Most of the time this numerical data is expected in the form of an `AbstractDataset` instance, which is what `trajectory` returns.\n",
    "\n",
    "## Using DifferentialEquations.jl from a `DynamicalSystem`\n",
    "\n",
    "It is *very* likely that other features of DifferentialEquations.jl will be useful to someone using **DynamicalSystems.jl**. However, you can still use DifferentialEquations.jl *after* you have defined a continuous dynamical system, because the field `prob` gives an `ODEProblem`:"
   ]
  },
  {
   "cell_type": "code",
   "execution_count": 95,
   "metadata": {
    "scrolled": true
   },
   "outputs": [
    {
     "data": {
      "text/plain": [
       "DiffEqBase.ODEProblem with uType Array{Float64,1} and tType Float64. In-place: true\n",
       "timespan: (0.0, Inf)\n",
       "u0: [0.0, -0.25, 0.42081, 0.0]"
      ]
     },
     "execution_count": 95,
     "metadata": {},
     "output_type": "execute_result"
    }
   ],
   "source": [
    "hh.prob"
   ]
  },
  {
   "cell_type": "markdown",
   "metadata": {},
   "source": [
    "* **please be careful when using this problem directly, because as you can see the `tspan[end]` field is `Inf`!!!**\n",
    "\n",
    "\n",
    "* One final comment: using Callbacks is *not* possible with **DynamicalSystems.jl**, because the the equations of motion function has to be assumed differentiable \"everywhere\"."
   ]
  },
  {
   "cell_type": "markdown",
   "metadata": {
    "collapsed": true
   },
   "source": [
    "# Docstrings"
   ]
  },
  {
   "cell_type": "code",
   "execution_count": 96,
   "metadata": {
    "scrolled": false
   },
   "outputs": [
    {
     "name": "stdout",
     "output_type": "stream",
     "text": [
      "search: \u001b[1mD\u001b[22m\u001b[1my\u001b[22m\u001b[1mn\u001b[22m\u001b[1ma\u001b[22m\u001b[1mm\u001b[22m\u001b[1mi\u001b[22m\u001b[1mc\u001b[22m\u001b[1ma\u001b[22m\u001b[1ml\u001b[22m\u001b[1mS\u001b[22m\u001b[1my\u001b[22m\u001b[1ms\u001b[22m\u001b[1mt\u001b[22m\u001b[1me\u001b[22m\u001b[1mm\u001b[22m \u001b[1mD\u001b[22m\u001b[1my\u001b[22m\u001b[1mn\u001b[22m\u001b[1ma\u001b[22m\u001b[1mm\u001b[22m\u001b[1mi\u001b[22m\u001b[1mc\u001b[22m\u001b[1ma\u001b[22m\u001b[1ml\u001b[22m\u001b[1mS\u001b[22m\u001b[1my\u001b[22m\u001b[1ms\u001b[22m\u001b[1mt\u001b[22m\u001b[1me\u001b[22m\u001b[1mm\u001b[22ms \u001b[1mD\u001b[22m\u001b[1my\u001b[22m\u001b[1mn\u001b[22m\u001b[1ma\u001b[22m\u001b[1mm\u001b[22m\u001b[1mi\u001b[22m\u001b[1mc\u001b[22m\u001b[1ma\u001b[22m\u001b[1ml\u001b[22m\u001b[1mS\u001b[22m\u001b[1my\u001b[22m\u001b[1ms\u001b[22m\u001b[1mt\u001b[22m\u001b[1me\u001b[22m\u001b[1mm\u001b[22msBase\n",
      "\n"
     ]
    },
    {
     "data": {
      "text/markdown": [
       "```\n",
       "DynamicalSystem\n",
       "```\n",
       "\n",
       "The central structure of **DynamicalSystems.jl**. All functions of the suite that handle systems \"analytically\" (in the sense that they can use known equations of motion) expect an instance of this type.\n",
       "\n",
       "Contains a problem defining the system (field `prob`), the jacobian function (field `jacobian`) and the initialized Jacobian matrix (field `J`).\n",
       "\n",
       "## Constructing a `DynamicalSystem`\n",
       "\n",
       "```julia\n",
       "DiscreteDynamicalSystem(eom, state, p [, jacobian [, J0]]; t0::Int = 0)\n",
       "ContinuousDynamicalSystem(eom, state, p [, jacobian [, J0]]; t0 = 0.0)\n",
       "```\n",
       "\n",
       "with `eom` the equations of motion function. `p` is a parameter container, which we highly suggest to use a mutable object like `Array`, [`LMArray`](https://github.com/JuliaDiffEq/LabelledArrays.jl) or a dictionary. Pass `nothing` in the place of `p` if your system does not have parameters. With these constructors you also do not need to provide some final time, since it is not used by **DynamicalSystems.jl** in any manner.\n",
       "\n",
       "`t0`, `J0` allow you to choose the initial time and provide an initialized Jacobian matrix.\n",
       "\n",
       "Continuous system solvers use [**DifferentialEquations.jl**](http://docs.juliadiffeq.org/latest/) and by default are integrated with a 9th order Verner solver `Vern9()` with tolerances `abstol = reltol = 1e-9`.\n",
       "\n",
       "### Equations of motion\n",
       "\n",
       "The are two \"versions\" for `DynamicalSystem`, depending on whether the equations of motion (`eom`) are in-place (iip) or out-of-place (oop). Here is how to define them:\n",
       "\n",
       "  * **oop** : The `eom` **must** be in the form `eom(x, p, t) -> SVector` which means that given a state `x::SVector` and some parameter container `p` it returns an [`SVector`](http://juliaarrays.github.io/StaticArrays.jl/stable/pages/api.html#SVector-1) (from the [StaticArrays](https://github.com/JuliaArrays/StaticArrays.jl) module) containing the next state.\n",
       "  * **iip** : The `eom` **must** be in the form `eom!(xnew, x, p, t)` which means that given a state `x::Vector` and some parameter container `p`, it writes in-place the new state in `xnew`.\n",
       "\n",
       "`t` stands for time (integer for discrete systems). iip is suggested for big systems, whereas oop is suggested for small systems. The break-even point at around 100 dimensions, and for using functions that use the tangent space (like e.g. `lyapunovs` or `gali`), the break-even point is at around 10 dimensions.\n",
       "\n",
       "The constructor deduces automatically whether `eom` is iip or oop. It is not possible however to deduce whether the system is continuous or discrete just from the equations of motion, hence the 2 constructors.\n",
       "\n",
       "### Jacobian\n",
       "\n",
       "The optional argument `jacobian` for the constructors is a *function* and (if given) must also be of the same form as the `eom`, `jacobian(x, p, n) -> SMatrix` for the out-of-place version and `jacobian!(xnew, x, p, n)` for the in-place version.\n",
       "\n",
       "If `jacobian` is not given, it is constructed automatically using the module [`ForwardDiff`](http://www.juliadiff.org/ForwardDiff.jl/stable/).\n",
       "\n",
       "### Getting a `Solution` struct\n",
       "\n",
       "The continuous constructor creates a standard [ODEProblem](http://docs.juliadiffeq.org/latest/types/ode_types.html) from [**DifferentialEquations.jl**](http://docs.juliadiffeq.org/latest/).\n",
       "\n",
       "You can *always* take advantage of the full capabilities of the `Solution` struct. Simply define\n",
       "\n",
       "```julia\n",
       "using DifferentialEquations\n",
       "prob = continuousds.prob\n",
       "prob2 = remake(prob1; tspan=(0.0,2.0))\n",
       "sol = solve(prob2, Tsit5())\n",
       "# do stuff with sol...\n",
       "```\n",
       "\n",
       "The line `remake...` is necessary because by default the `tspan` of all problems ends at infinity. See the [remake documentation](http://docs.juliadiffeq.org/latest/basics/problem.html) for more info.\n",
       "\n",
       "## Relevant Functions\n",
       "\n",
       "[`trajectory`](@ref), [`jacobian`](@ref), [`dimension`](@ref), [`set_parameter!`](@ref).\n"
      ],
      "text/plain": [
       "```\n",
       "DynamicalSystem\n",
       "```\n",
       "\n",
       "The central structure of **DynamicalSystems.jl**. All functions of the suite that handle systems \"analytically\" (in the sense that they can use known equations of motion) expect an instance of this type.\n",
       "\n",
       "Contains a problem defining the system (field `prob`), the jacobian function (field `jacobian`) and the initialized Jacobian matrix (field `J`).\n",
       "\n",
       "## Constructing a `DynamicalSystem`\n",
       "\n",
       "```julia\n",
       "DiscreteDynamicalSystem(eom, state, p [, jacobian [, J0]]; t0::Int = 0)\n",
       "ContinuousDynamicalSystem(eom, state, p [, jacobian [, J0]]; t0 = 0.0)\n",
       "```\n",
       "\n",
       "with `eom` the equations of motion function. `p` is a parameter container, which we highly suggest to use a mutable object like `Array`, [`LMArray`](https://github.com/JuliaDiffEq/LabelledArrays.jl) or a dictionary. Pass `nothing` in the place of `p` if your system does not have parameters. With these constructors you also do not need to provide some final time, since it is not used by **DynamicalSystems.jl** in any manner.\n",
       "\n",
       "`t0`, `J0` allow you to choose the initial time and provide an initialized Jacobian matrix.\n",
       "\n",
       "Continuous system solvers use [**DifferentialEquations.jl**](http://docs.juliadiffeq.org/latest/) and by default are integrated with a 9th order Verner solver `Vern9()` with tolerances `abstol = reltol = 1e-9`.\n",
       "\n",
       "### Equations of motion\n",
       "\n",
       "The are two \"versions\" for `DynamicalSystem`, depending on whether the equations of motion (`eom`) are in-place (iip) or out-of-place (oop). Here is how to define them:\n",
       "\n",
       "  * **oop** : The `eom` **must** be in the form `eom(x, p, t) -> SVector` which means that given a state `x::SVector` and some parameter container `p` it returns an [`SVector`](http://juliaarrays.github.io/StaticArrays.jl/stable/pages/api.html#SVector-1) (from the [StaticArrays](https://github.com/JuliaArrays/StaticArrays.jl) module) containing the next state.\n",
       "  * **iip** : The `eom` **must** be in the form `eom!(xnew, x, p, t)` which means that given a state `x::Vector` and some parameter container `p`, it writes in-place the new state in `xnew`.\n",
       "\n",
       "`t` stands for time (integer for discrete systems). iip is suggested for big systems, whereas oop is suggested for small systems. The break-even point at around 100 dimensions, and for using functions that use the tangent space (like e.g. `lyapunovs` or `gali`), the break-even point is at around 10 dimensions.\n",
       "\n",
       "The constructor deduces automatically whether `eom` is iip or oop. It is not possible however to deduce whether the system is continuous or discrete just from the equations of motion, hence the 2 constructors.\n",
       "\n",
       "### Jacobian\n",
       "\n",
       "The optional argument `jacobian` for the constructors is a *function* and (if given) must also be of the same form as the `eom`, `jacobian(x, p, n) -> SMatrix` for the out-of-place version and `jacobian!(xnew, x, p, n)` for the in-place version.\n",
       "\n",
       "If `jacobian` is not given, it is constructed automatically using the module [`ForwardDiff`](http://www.juliadiff.org/ForwardDiff.jl/stable/).\n",
       "\n",
       "### Getting a `Solution` struct\n",
       "\n",
       "The continuous constructor creates a standard [ODEProblem](http://docs.juliadiffeq.org/latest/types/ode_types.html) from [**DifferentialEquations.jl**](http://docs.juliadiffeq.org/latest/).\n",
       "\n",
       "You can *always* take advantage of the full capabilities of the `Solution` struct. Simply define\n",
       "\n",
       "```julia\n",
       "using DifferentialEquations\n",
       "prob = continuousds.prob\n",
       "prob2 = remake(prob1; tspan=(0.0,2.0))\n",
       "sol = solve(prob2, Tsit5())\n",
       "# do stuff with sol...\n",
       "```\n",
       "\n",
       "The line `remake...` is necessary because by default the `tspan` of all problems ends at infinity. See the [remake documentation](http://docs.juliadiffeq.org/latest/basics/problem.html) for more info.\n",
       "\n",
       "## Relevant Functions\n",
       "\n",
       "[`trajectory`](@ref), [`jacobian`](@ref), [`dimension`](@ref), [`set_parameter!`](@ref).\n"
      ]
     },
     "execution_count": 96,
     "metadata": {},
     "output_type": "execute_result"
    }
   ],
   "source": [
    "?DynamicalSystem"
   ]
  },
  {
   "cell_type": "code",
   "execution_count": 97,
   "metadata": {
    "scrolled": false
   },
   "outputs": [
    {
     "name": "stdout",
     "output_type": "stream",
     "text": [
      "search: \u001b[1mt\u001b[22m\u001b[1mr\u001b[22m\u001b[1ma\u001b[22m\u001b[1mj\u001b[22m\u001b[1me\u001b[22m\u001b[1mc\u001b[22m\u001b[1mt\u001b[22m\u001b[1mo\u001b[22m\u001b[1mr\u001b[22m\u001b[1my\u001b[22m\n",
      "\n"
     ]
    },
    {
     "data": {
      "text/markdown": [
       "```\n",
       "trajectory(ds::DynamicalSystem, T [, u]; kwargs...) -> dataset\n",
       "```\n",
       "\n",
       "Return a dataset that will contain the trajectory of the system, after evolving it for total time `T`, optionally starting from state `u`. See [`Dataset`](@ref) for info on how to use this object.\n",
       "\n",
       "A `W×D` dataset is returned, with `W = length(t0:dt:T)` with `t0:dt:T` representing the time vector (*not* returned) and `D` the system dimension. For discrete systems both `T` and `dt` must be integers.\n",
       "\n",
       "## Keyword Arguments\n",
       "\n",
       "  * `dt` :  Time step of value output during the solving of the continuous system. For discrete systems it must be an integer. Defaults to `0.01` for continuous and `1` for discrete.\n",
       "  * `diff_eq_kwargs` : (only for continuous) A dictionary `Dict{Symbol, ANY}` of keyword arguments passed into the solvers of the [DifferentialEquations.jl](http://docs.juliadiffeq.org/latest/basics/common_solver_opts.html) package, for example `Dict(:abstol => 1e-9)`. If you want to specify a solver, do so by using the symbol `:solver`, e.g.: `Dict(:solver => DP5(), :maxiters => 1e9)`. This requires you to have been first `using OrdinaryDiffEq` to access the solvers. Defaults to `Dict(:solver => Vern9(), :abstol => 1e-9, :reltol => 1e-9)`, i.e. a 9th order Verner algorithm.\n"
      ],
      "text/plain": [
       "```\n",
       "trajectory(ds::DynamicalSystem, T [, u]; kwargs...) -> dataset\n",
       "```\n",
       "\n",
       "Return a dataset that will contain the trajectory of the system, after evolving it for total time `T`, optionally starting from state `u`. See [`Dataset`](@ref) for info on how to use this object.\n",
       "\n",
       "A `W×D` dataset is returned, with `W = length(t0:dt:T)` with `t0:dt:T` representing the time vector (*not* returned) and `D` the system dimension. For discrete systems both `T` and `dt` must be integers.\n",
       "\n",
       "## Keyword Arguments\n",
       "\n",
       "  * `dt` :  Time step of value output during the solving of the continuous system. For discrete systems it must be an integer. Defaults to `0.01` for continuous and `1` for discrete.\n",
       "  * `diff_eq_kwargs` : (only for continuous) A dictionary `Dict{Symbol, ANY}` of keyword arguments passed into the solvers of the [DifferentialEquations.jl](http://docs.juliadiffeq.org/latest/basics/common_solver_opts.html) package, for example `Dict(:abstol => 1e-9)`. If you want to specify a solver, do so by using the symbol `:solver`, e.g.: `Dict(:solver => DP5(), :maxiters => 1e9)`. This requires you to have been first `using OrdinaryDiffEq` to access the solvers. Defaults to `Dict(:solver => Vern9(), :abstol => 1e-9, :reltol => 1e-9)`, i.e. a 9th order Verner algorithm.\n"
      ]
     },
     "execution_count": 97,
     "metadata": {},
     "output_type": "execute_result"
    }
   ],
   "source": [
    "?trajectory"
   ]
  },
  {
   "cell_type": "code",
   "execution_count": 98,
   "metadata": {
    "scrolled": false
   },
   "outputs": [
    {
     "name": "stdout",
     "output_type": "stream",
     "text": [
      "search: \u001b[1mD\u001b[22m\u001b[1ma\u001b[22m\u001b[1mt\u001b[22m\u001b[1ma\u001b[22m\u001b[1ms\u001b[22m\u001b[1me\u001b[22m\u001b[1mt\u001b[22m Abstract\u001b[1mD\u001b[22m\u001b[1ma\u001b[22m\u001b[1mt\u001b[22m\u001b[1ma\u001b[22m\u001b[1ms\u001b[22m\u001b[1me\u001b[22m\u001b[1mt\u001b[22m \u001b[1mD\u001b[22myn\u001b[1ma\u001b[22mmicalSys\u001b[1mt\u001b[22memsB\u001b[1ma\u001b[22m\u001b[1ms\u001b[22m\u001b[1me\u001b[22m @\u001b[1md\u001b[22m\u001b[1ma\u001b[22m\u001b[1mt\u001b[22meform\u001b[1ma\u001b[22mt_\u001b[1ms\u001b[22mtr\n",
      "\n"
     ]
    },
    {
     "data": {
      "text/markdown": [
       "```\n",
       "Dataset{D, T} <: AbstractDataset{D,T}\n",
       "```\n",
       "\n",
       "A dedicated interface for datasets. It contains *equally-sized datapoints* of length `D`, represented by `SVector{D, T}`.\n",
       "\n",
       "When indexed with 1 index, a `dataset` is like a vector of datapoints.\n",
       "\n",
       "When indexed with 2 indices it behaves like a matrix that has each of the columns be the timeseries of each of the dynamic variables.\n",
       "\n",
       "## Description of indexing\n",
       "\n",
       "In the following let `i, j` be integers,  `typeof(data) <: AbstractDataset` and `v1, v2` be `<: AbstractVector{Int}` (`v1, v2` could also be ranges).\n",
       "\n",
       "  * `data[i]` gives the `i`th datapoint (returns an `SVector`)\n",
       "  * `data[v1]` will return a vector of datapoints\n",
       "  * `data[v1, :]` using a `Colon` as a second index will return a `Dataset` of these points\n",
       "  * `data[:, j]` gives the `j`th variable timeseries, as `Vector`\n",
       "  * `data[v1, v2]` returns a `Dataset` with the appropriate entries (first indices being \"time\"/point index, while second being dynamic variables)\n",
       "  * `data[i, j]` value of the `j`th variable, at the `i`th timepoint\n",
       "\n",
       "```\n",
       "\n",
       "Use `Matrix(dataset)` or `reinterpret(Matrix, dataset)` and `Dataset(matrix)` or `reinterpret(Dataset, matrix)` to convert. The `reinterpret` methods are cheaper but assume that each variable/timeseries is a *row* and not column of the `matrix`.\n",
       "\n",
       "If you have various timeseries vectors `x, y, z, ...` pass them like `Dataset(x, y, z, ...)`. You can use `columns(dataset)` to obtain the reverse, i.e. all columns of the dataset in a tuple.\n"
      ],
      "text/plain": [
       "```\n",
       "Dataset{D, T} <: AbstractDataset{D,T}\n",
       "```\n",
       "\n",
       "A dedicated interface for datasets. It contains *equally-sized datapoints* of length `D`, represented by `SVector{D, T}`.\n",
       "\n",
       "When indexed with 1 index, a `dataset` is like a vector of datapoints.\n",
       "\n",
       "When indexed with 2 indices it behaves like a matrix that has each of the columns be the timeseries of each of the dynamic variables.\n",
       "\n",
       "## Description of indexing\n",
       "\n",
       "In the following let `i, j` be integers,  `typeof(data) <: AbstractDataset` and `v1, v2` be `<: AbstractVector{Int}` (`v1, v2` could also be ranges).\n",
       "\n",
       "  * `data[i]` gives the `i`th datapoint (returns an `SVector`)\n",
       "  * `data[v1]` will return a vector of datapoints\n",
       "  * `data[v1, :]` using a `Colon` as a second index will return a `Dataset` of these points\n",
       "  * `data[:, j]` gives the `j`th variable timeseries, as `Vector`\n",
       "  * `data[v1, v2]` returns a `Dataset` with the appropriate entries (first indices being \"time\"/point index, while second being dynamic variables)\n",
       "  * `data[i, j]` value of the `j`th variable, at the `i`th timepoint\n",
       "\n",
       "```\n",
       "\n",
       "Use `Matrix(dataset)` or `reinterpret(Matrix, dataset)` and `Dataset(matrix)` or `reinterpret(Dataset, matrix)` to convert. The `reinterpret` methods are cheaper but assume that each variable/timeseries is a *row* and not column of the `matrix`.\n",
       "\n",
       "If you have various timeseries vectors `x, y, z, ...` pass them like `Dataset(x, y, z, ...)`. You can use `columns(dataset)` to obtain the reverse, i.e. all columns of the dataset in a tuple.\n"
      ]
     },
     "execution_count": 98,
     "metadata": {},
     "output_type": "execute_result"
    }
   ],
   "source": [
    "?Dataset"
   ]
  }
 ],
 "metadata": {
  "kernelspec": {
   "display_name": "Julia 0.6.2",
   "language": "julia",
   "name": "julia-0.6"
  },
  "language_info": {
   "file_extension": ".jl",
   "mimetype": "application/julia",
   "name": "julia",
   "version": "0.6.2"
  }
 },
 "nbformat": 4,
 "nbformat_minor": 2
}
