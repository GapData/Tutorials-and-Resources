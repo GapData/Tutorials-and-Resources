{
 "cells": [
  {
   "cell_type": "markdown",
   "metadata": {},
   "source": [
    "# Datasets\n",
    "\n",
    "Topics:\n",
    "* How are numerical data returned (and expected) in **DynamicalSystems.jl**.\n",
    "* Basic `Dataset` handling.\n",
    "* Neighborhoods.\n",
    "\n",
    "---\n",
    "\n",
    "Much of the functionality of **DynamicalSystems.jl** uses numerical data. We required a `struct` that would unify behavior across all functions that either return or require numerical data.\n",
    "\n",
    "To this end, we use a struct called simply `Dataset`."
   ]
  },
  {
   "cell_type": "code",
   "execution_count": 97,
   "metadata": {},
   "outputs": [],
   "source": [
    "# Pkg.add(\"DynamicalSystems\")\n",
    "using DynamicalSystems"
   ]
  },
  {
   "cell_type": "code",
   "execution_count": 98,
   "metadata": {},
   "outputs": [
    {
     "data": {
      "text/plain": [
       "2-dimensional Dataset{Float64} with 1000 points:\n",
       " 0.472028   0.868781  \n",
       " 0.719971   0.299689  \n",
       " 0.471108   0.773293  \n",
       " 0.69701    0.00752744\n",
       " 0.868774   0.556061  \n",
       " 0.739722   0.257121  \n",
       " 0.605932   0.6215    \n",
       " 0.673209   0.84794   \n",
       " 0.615773   0.818738  \n",
       " 0.0563429  0.0792874 \n",
       " 0.107899   0.578316  \n",
       " 0.742416   0.0695425 \n",
       " 0.770237   0.459329  \n",
       " ⋮                    \n",
       " 0.584646   0.152565  \n",
       " 0.0456508  0.696457  \n",
       " 0.995857   0.0571723 \n",
       " 0.229369   0.517942  \n",
       " 0.43142    0.891898  \n",
       " 0.868771   0.0867077 \n",
       " 0.273804   0.600074  \n",
       " 0.129711   0.72327   \n",
       " 0.867674   0.298835  \n",
       " 0.32328    0.711076  \n",
       " 0.633262   0.824527  \n",
       " 0.228927   0.715258  \n"
      ]
     },
     "execution_count": 98,
     "metadata": {},
     "output_type": "execute_result"
    }
   ],
   "source": [
    "x = rand(1000)\n",
    "y = rand(1000)\n",
    "dataset = Dataset(x,y)"
   ]
  },
  {
   "cell_type": "markdown",
   "metadata": {},
   "source": [
    "A `Dataset` is a subtype of `AbstractDataset`:"
   ]
  },
  {
   "cell_type": "code",
   "execution_count": 99,
   "metadata": {},
   "outputs": [
    {
     "data": {
      "text/html": [
       "true"
      ],
      "text/plain": [
       "true"
      ]
     },
     "execution_count": 99,
     "metadata": {},
     "output_type": "execute_result"
    }
   ],
   "source": [
    "typeof(dataset) <: AbstractDataset"
   ]
  },
  {
   "cell_type": "markdown",
   "metadata": {},
   "source": [
    "All subtypes of `AbstractDataset` contain their data in the field `data`:"
   ]
  },
  {
   "cell_type": "code",
   "execution_count": 100,
   "metadata": {},
   "outputs": [
    {
     "data": {
      "text/plain": [
       "1000-element Array{StaticArrays.SArray{Tuple{2},Float64,1,2},1}:\n",
       " [0.472028, 0.868781]  \n",
       " [0.719971, 0.299689]  \n",
       " [0.471108, 0.773293]  \n",
       " [0.69701, 0.00752744] \n",
       " [0.868774, 0.556061]  \n",
       " [0.739722, 0.257121]  \n",
       " [0.605932, 0.6215]    \n",
       " [0.673209, 0.84794]   \n",
       " [0.615773, 0.818738]  \n",
       " [0.0563429, 0.0792874]\n",
       " [0.107899, 0.578316]  \n",
       " [0.742416, 0.0695425] \n",
       " [0.770237, 0.459329]  \n",
       " ⋮                     \n",
       " [0.584646, 0.152565]  \n",
       " [0.0456508, 0.696457] \n",
       " [0.995857, 0.0571723] \n",
       " [0.229369, 0.517942]  \n",
       " [0.43142, 0.891898]   \n",
       " [0.868771, 0.0867077] \n",
       " [0.273804, 0.600074]  \n",
       " [0.129711, 0.72327]   \n",
       " [0.867674, 0.298835]  \n",
       " [0.32328, 0.711076]   \n",
       " [0.633262, 0.824527]  \n",
       " [0.228927, 0.715258]  "
      ]
     },
     "execution_count": 100,
     "metadata": {},
     "output_type": "execute_result"
    }
   ],
   "source": [
    "dataset.data"
   ]
  },
  {
   "cell_type": "markdown",
   "metadata": {},
   "source": [
    "* `Array{StaticArrays.SArray{Tuple{2},Float64,1,2},1}` means that the data are contained in a `Vector` of `SVector`s (which are statically sized vectors)."
   ]
  },
  {
   "cell_type": "markdown",
   "metadata": {},
   "source": [
    "We chose a vector of `SVectors` as the internal representation of the data because it gives big performance gains in many functions of the library."
   ]
  },
  {
   "cell_type": "markdown",
   "metadata": {},
   "source": [
    "# Creating a Dataset\n",
    "\n",
    "Most functions of **DynamicalSystems.jl** that return numerical data, return it in the form of a `Dataset`.\n",
    "\n",
    "If you already have the data though, there are many ways to create a dataset:"
   ]
  },
  {
   "cell_type": "code",
   "execution_count": 101,
   "metadata": {},
   "outputs": [
    {
     "data": {
      "text/plain": [
       "5-dimensional Dataset{Float64} with 1000 points:\n",
       " 0.694059   0.526635   0.618079   0.243967  0.0273586 \n",
       " 0.142516   0.276359   0.372204   0.250356  0.0153108 \n",
       " 0.0282799  0.754551   0.888349   0.760556  0.84195   \n",
       " 0.641885   0.482615   0.485954   0.935955  0.110467  \n",
       " 0.80491    0.789272   0.186082   0.946868  0.282679  \n",
       " 0.763561   0.506229   0.842992   0.97191   0.606674  \n",
       " 0.0287769  0.569042   0.0258469  0.289738  0.538121  \n",
       " 0.322388   0.753073   0.896772   0.331758  0.00492456\n",
       " 0.582966   0.993267   0.778473   0.896547  0.121311  \n",
       " 0.959226   0.0258572  0.72479    0.88013   0.944469  \n",
       " 0.987886   0.753014   0.778941   0.331303  0.373205  \n",
       " 0.192928   0.100636   0.796195   0.958008  0.781769  \n",
       " 0.862178   0.285546   0.49393    0.697706  0.46161   \n",
       " ⋮                                                    \n",
       " 0.539431   0.274683   0.441079   0.152299  0.219667  \n",
       " 0.174208   0.1242     0.684654   0.193309  0.00254341\n",
       " 0.0075836  0.716203   0.695002   0.619174  0.793613  \n",
       " 0.898181   0.998572   0.598122   0.85825   0.155598  \n",
       " 0.793275   0.52709    0.641174   0.18204   0.603495  \n",
       " 0.07623    0.803233   0.0995104  0.559357  0.212609  \n",
       " 0.371731   0.559153   0.131077   0.348335  0.941934  \n",
       " 0.416816   0.77045    0.60326    0.603693  0.944397  \n",
       " 0.94168    0.474705   0.269689   0.969059  0.124662  \n",
       " 0.315585   0.240527   0.161205   0.858669  0.0527476 \n",
       " 0.873893   0.0923651  0.790489   0.277547  0.134841  \n",
       " 0.483612   0.272262   0.974478   0.993946  0.863061  \n"
      ]
     },
     "execution_count": 101,
     "metadata": {},
     "output_type": "execute_result"
    }
   ],
   "source": [
    "# From matrix where each column is one variable:\n",
    "m = rand(1000, 5)\n",
    "data = Dataset(m)"
   ]
  },
  {
   "cell_type": "code",
   "execution_count": 102,
   "metadata": {},
   "outputs": [
    {
     "data": {
      "text/plain": [
       "5-dimensional Dataset{Float64} with 1000 points:\n",
       " 0.694059   0.526635   0.618079   0.243967  0.0273586 \n",
       " 0.142516   0.276359   0.372204   0.250356  0.0153108 \n",
       " 0.0282799  0.754551   0.888349   0.760556  0.84195   \n",
       " 0.641885   0.482615   0.485954   0.935955  0.110467  \n",
       " 0.80491    0.789272   0.186082   0.946868  0.282679  \n",
       " 0.763561   0.506229   0.842992   0.97191   0.606674  \n",
       " 0.0287769  0.569042   0.0258469  0.289738  0.538121  \n",
       " 0.322388   0.753073   0.896772   0.331758  0.00492456\n",
       " 0.582966   0.993267   0.778473   0.896547  0.121311  \n",
       " 0.959226   0.0258572  0.72479    0.88013   0.944469  \n",
       " 0.987886   0.753014   0.778941   0.331303  0.373205  \n",
       " 0.192928   0.100636   0.796195   0.958008  0.781769  \n",
       " 0.862178   0.285546   0.49393    0.697706  0.46161   \n",
       " ⋮                                                    \n",
       " 0.539431   0.274683   0.441079   0.152299  0.219667  \n",
       " 0.174208   0.1242     0.684654   0.193309  0.00254341\n",
       " 0.0075836  0.716203   0.695002   0.619174  0.793613  \n",
       " 0.898181   0.998572   0.598122   0.85825   0.155598  \n",
       " 0.793275   0.52709    0.641174   0.18204   0.603495  \n",
       " 0.07623    0.803233   0.0995104  0.559357  0.212609  \n",
       " 0.371731   0.559153   0.131077   0.348335  0.941934  \n",
       " 0.416816   0.77045    0.60326    0.603693  0.944397  \n",
       " 0.94168    0.474705   0.269689   0.969059  0.124662  \n",
       " 0.315585   0.240527   0.161205   0.858669  0.0527476 \n",
       " 0.873893   0.0923651  0.790489   0.277547  0.134841  \n",
       " 0.483612   0.272262   0.974478   0.993946  0.863061  \n"
      ]
     },
     "execution_count": 102,
     "metadata": {},
     "output_type": "execute_result"
    }
   ],
   "source": [
    "# using re-interpret if each *row* is one variable:\n",
    "m = transpose(m)\n",
    "data2 = reinterpret(Dataset, m)"
   ]
  },
  {
   "cell_type": "code",
   "execution_count": 103,
   "metadata": {},
   "outputs": [
    {
     "data": {
      "text/html": [
       "true"
      ],
      "text/plain": [
       "true"
      ]
     },
     "execution_count": 103,
     "metadata": {},
     "output_type": "execute_result"
    }
   ],
   "source": [
    "data2 == data"
   ]
  },
  {
   "cell_type": "code",
   "execution_count": 104,
   "metadata": {},
   "outputs": [
    {
     "ename": "LoadError",
     "evalue": "\u001b[91mBoundsError: attempt to access 100-element Array{Float64,1} at index [101]\u001b[39m",
     "output_type": "error",
     "traceback": [
      "\u001b[91mBoundsError: attempt to access 100-element Array{Float64,1} at index [101]\u001b[39m",
      "",
      "Stacktrace:",
      " [1] \u001b[1mmacro expansion\u001b[22m\u001b[22m at \u001b[1mC:\\Users\\datseris\\.julia\\v0.6\\DynamicalSystemsBase\\src\\dataset.jl:148\u001b[22m\u001b[22m [inlined]",
      " [2] \u001b[1m_dataset\u001b[22m\u001b[22m\u001b[1m(\u001b[22m\u001b[22m::Val{2}, ::Array{Float64,1}, ::Array{Float64,1}\u001b[1m)\u001b[22m\u001b[22m at \u001b[1mC:\\Users\\datseris\\.julia\\v0.6\\DynamicalSystemsBase\\src\\dataset.jl:142\u001b[22m\u001b[22m",
      " [3] \u001b[1mDynamicalSystemsBase.Dataset\u001b[22m\u001b[22m\u001b[1m(\u001b[22m\u001b[22m::Array{Float64,1}, ::Array{Float64,1}\u001b[1m)\u001b[22m\u001b[22m at \u001b[1mC:\\Users\\datseris\\.julia\\v0.6\\DynamicalSystemsBase\\src\\dataset.jl:156\u001b[22m\u001b[22m",
      " [4] \u001b[1minclude_string\u001b[22m\u001b[22m\u001b[1m(\u001b[22m\u001b[22m::String, ::String\u001b[1m)\u001b[22m\u001b[22m at \u001b[1m.\\loading.jl:522\u001b[22m\u001b[22m"
     ]
    }
   ],
   "source": [
    "# From individual columns\n",
    "x, y = rand(1000), rand(1000)\n",
    "data = Dataset(x, y)\n",
    "\n",
    "# All points of a dataset must be equally sized:\n",
    "z = rand(100)\n",
    "Dataset(x, z)"
   ]
  },
  {
   "cell_type": "markdown",
   "metadata": {},
   "source": [
    "# Handling a Dataset\n",
    "\n",
    "** Subtypes of `AbstractDataset` behave like some `Matrix` where each *row* is a *point* of the dataset, while each *column* is *one dynamic variable*. **\n",
    "\n",
    "* The reason we choose this approach is because traditionally this is how scientific data are recorded, exported and passed around."
   ]
  },
  {
   "cell_type": "code",
   "execution_count": 107,
   "metadata": {},
   "outputs": [
    {
     "data": {
      "text/plain": [
       "DynamicalSystemsBase.Dataset{3,Float64}"
      ]
     },
     "execution_count": 107,
     "metadata": {},
     "output_type": "execute_result"
    }
   ],
   "source": [
    "# Create some random dataset:\n",
    "dataset = Dataset(rand(10000, 3));\n",
    "typeof(dataset)"
   ]
  },
  {
   "cell_type": "code",
   "execution_count": 109,
   "metadata": {},
   "outputs": [
    {
     "data": {
      "text/plain": [
       "10000-element Array{Float64,1}:\n",
       " 0.292268 \n",
       " 0.109471 \n",
       " 0.621963 \n",
       " 0.532432 \n",
       " 0.518103 \n",
       " 0.0712626\n",
       " 0.578914 \n",
       " 0.351177 \n",
       " 0.540381 \n",
       " 0.973785 \n",
       " 0.387589 \n",
       " 0.0684011\n",
       " 0.100386 \n",
       " ⋮        \n",
       " 0.0216077\n",
       " 0.90342  \n",
       " 0.687168 \n",
       " 0.0915575\n",
       " 0.0452472\n",
       " 0.205436 \n",
       " 0.868943 \n",
       " 0.42547  \n",
       " 0.512864 \n",
       " 0.127515 \n",
       " 0.581307 \n",
       " 0.249815 "
      ]
     },
     "execution_count": 109,
     "metadata": {},
     "output_type": "execute_result"
    }
   ],
   "source": [
    "dataset[:, 2] # this is the second variable series"
   ]
  },
  {
   "cell_type": "code",
   "execution_count": 110,
   "metadata": {},
   "outputs": [
    {
     "data": {
      "text/plain": [
       "3-element StaticArrays.SArray{Tuple{3},Float64,1,3}:\n",
       " 0.915279\n",
       " 0.292268\n",
       " 0.192741"
      ]
     },
     "execution_count": 110,
     "metadata": {},
     "output_type": "execute_result"
    }
   ],
   "source": [
    "dataset[1, :] # this is the first datapoint (D-dimensional)"
   ]
  },
  {
   "cell_type": "code",
   "execution_count": 112,
   "metadata": {},
   "outputs": [
    {
     "data": {
      "text/plain": [
       "3-element StaticArrays.SArray{Tuple{3},Float64,1,3}:\n",
       " 0.915279\n",
       " 0.292268\n",
       " 0.192741"
      ]
     },
     "execution_count": 112,
     "metadata": {},
     "output_type": "execute_result"
    }
   ],
   "source": [
    "dataset[1] # acessing with a single index is like accessing a vector of points"
   ]
  },
  {
   "cell_type": "code",
   "execution_count": 113,
   "metadata": {
    "scrolled": true
   },
   "outputs": [
    {
     "data": {
      "text/html": [
       "0.5181034386460805"
      ],
      "text/plain": [
       "0.5181034386460805"
      ]
     },
     "execution_count": 113,
     "metadata": {},
     "output_type": "execute_result"
    }
   ],
   "source": [
    "dataset[5, 2] # value of the second variable, at the 5th timepoint"
   ]
  },
  {
   "cell_type": "code",
   "execution_count": 115,
   "metadata": {},
   "outputs": [
    {
     "data": {
      "text/plain": [
       "(0.4983321405744996, 0.5022744857188011)"
      ]
     },
     "execution_count": 115,
     "metadata": {},
     "output_type": "execute_result"
    }
   ],
   "source": [
    "# get columns\n",
    "x, y = columns(dataset)\n",
    "mean(x), mean(y)"
   ]
  },
  {
   "cell_type": "code",
   "execution_count": 116,
   "metadata": {},
   "outputs": [
    {
     "data": {
      "text/html": [
       "5008.8921565415885"
      ],
      "text/plain": [
       "5008.8921565415885"
      ]
     },
     "execution_count": 116,
     "metadata": {},
     "output_type": "execute_result"
    }
   ],
   "source": [
    "# iteration:\n",
    "f = 0.0\n",
    "for point ∈ dataset  # same as `point ∈ dataset` , do \\in<tab> for ∈\n",
    "    f += mean(point)\n",
    "end\n",
    "f"
   ]
  },
  {
   "cell_type": "code",
   "execution_count": 117,
   "metadata": {},
   "outputs": [
    {
     "data": {
      "text/plain": [
       "([0.000150045, 0.000185872, 2.74229e-5], [0.99997, 0.999916, 0.999866])"
      ]
     },
     "execution_count": 117,
     "metadata": {},
     "output_type": "execute_result"
    }
   ],
   "source": [
    "# minima, maxima\n",
    "mini = minima(dataset)\n",
    "maxi = maxima(dataset)\n",
    "mini, maxi = minmaxima(dataset)"
   ]
  },
  {
   "cell_type": "code",
   "execution_count": 118,
   "metadata": {},
   "outputs": [
    {
     "name": "stdout",
     "output_type": "stream",
     "text": [
      "  25.864 μs (1 allocation: 112 bytes)\n",
      "  25.864 μs (1 allocation: 112 bytes)\n",
      "  43.107 μs (2 allocations: 224 bytes)\n"
     ]
    },
    {
     "data": {
      "text/plain": [
       "([0.000150045, 0.000185872, 2.74229e-5], [0.99997, 0.999916, 0.999866])"
      ]
     },
     "execution_count": 118,
     "metadata": {},
     "output_type": "execute_result"
    }
   ],
   "source": [
    "# Function minmaxima is faster than using the two individual ones\n",
    "using BenchmarkTools\n",
    "@btime maxima($dataset)\n",
    "@btime minima($dataset)\n",
    "@btime minmaxima($dataset)"
   ]
  },
  {
   "cell_type": "markdown",
   "metadata": {},
   "source": [
    "# I/O\n",
    "Input/output functionality for an `AbstractDataset` is already achieved using base Julia:\n",
    "1. `writedlm` for writting\n",
    "2. `readdlm` for reading.\n",
    "\n",
    "To write and read a dataset, simply use the `data` field:"
   ]
  },
  {
   "cell_type": "code",
   "execution_count": 119,
   "metadata": {},
   "outputs": [
    {
     "data": {
      "text/plain": [
       "3-dimensional Dataset{Float64} with 1000 points:\n",
       " 0.386571    0.264453   0.866901 \n",
       " 0.585694    0.929369   0.289556 \n",
       " 0.00989398  0.11149    0.434989 \n",
       " 0.800302    0.875426   0.763153 \n",
       " 0.847926    0.0655121  0.715585 \n",
       " 0.556292    0.698036   0.29814  \n",
       " 0.693338    0.668298   0.175626 \n",
       " 0.344344    0.681541   0.247855 \n",
       " 0.1215      0.366678   0.394113 \n",
       " 0.163083    0.0673518  0.770159 \n",
       " 0.737952    0.589141   0.176348 \n",
       " 0.108682    0.298084   0.434295 \n",
       " 0.980144    0.910287   0.350069 \n",
       " ⋮                               \n",
       " 0.64557     0.603952   0.803946 \n",
       " 0.81762     0.414984   0.587891 \n",
       " 0.50988     0.493074   0.67168  \n",
       " 0.71252     0.0171345  0.519987 \n",
       " 0.019764    0.189032   0.816701 \n",
       " 0.799808    0.924068   0.761454 \n",
       " 0.670693    0.200921   0.259871 \n",
       " 0.648783    0.288457   0.497269 \n",
       " 0.196873    0.279591   0.435158 \n",
       " 0.5129      0.538277   0.0276421\n",
       " 0.975748    0.895334   0.323878 \n",
       " 0.809626    0.155533   0.911393 \n"
      ]
     },
     "execution_count": 119,
     "metadata": {},
     "output_type": "execute_result"
    }
   ],
   "source": [
    "dataset = Dataset(rand(1000,3))\n",
    "\n",
    "# I will write and read using delimiter ','\n",
    "writedlm(\"data.txt\", dataset.data, ',')\n",
    "\n",
    "# Load the data from text:\n",
    "data = Dataset(readdlm(\"data.txt\", ',', Float64))\n",
    "# Don't forget to convert the matrix to a Dataset when reading!"
   ]
  },
  {
   "cell_type": "code",
   "execution_count": 120,
   "metadata": {},
   "outputs": [
    {
     "data": {
      "text/html": [
       "false"
      ],
      "text/plain": [
       "false"
      ]
     },
     "execution_count": 120,
     "metadata": {},
     "output_type": "execute_result"
    }
   ],
   "source": [
    "# delete the dummy file we created:\n",
    "rm(\"data.txt\")\n",
    "isfile(\"data.txt\")"
   ]
  },
  {
   "cell_type": "markdown",
   "metadata": {},
   "source": [
    "# Neighborhoods \n",
    "\n",
    "A \"neighborhood\" is a collection of points that is near a given point. `Dataset`s interface the module [`NearestNeighbors`](https://github.com/KristofferC/NearestNeighbors.jl) in order to find this neighborhood.\n",
    "\n",
    "We use the function `neighborhood`. The call singature is:\n",
    "```julia\n",
    "neighborhood(point, tree, ntype)\n",
    "```\n"
   ]
  },
  {
   "cell_type": "markdown",
   "metadata": {},
   "source": [
    "`point` is simply the query point. `tree` is the structure required by [`NearestNeighbors`](https://github.com/KristofferC/NearestNeighbors.jl), and is obtained simply by:"
   ]
  },
  {
   "cell_type": "code",
   "execution_count": 121,
   "metadata": {},
   "outputs": [
    {
     "data": {
      "text/plain": [
       "NearestNeighbors.KDTree{StaticArrays.SArray{Tuple{3},Float64,1,3},Distances.Euclidean,Float64}\n",
       "  Number of points: 1000\n",
       "  Dimensions: 3\n",
       "  Metric: Distances.Euclidean(0.0)\n",
       "  Reordered: true"
      ]
     },
     "execution_count": 121,
     "metadata": {},
     "output_type": "execute_result"
    }
   ],
   "source": [
    "tree = KDTree(dataset)"
   ]
  },
  {
   "cell_type": "markdown",
   "metadata": {},
   "source": [
    "The third argument to `neighborhood` is the *type* of the neighborhood. \n",
    "\n",
    "* There are two types of neighborhoods!\n",
    "\n",
    "The first one is defined as the `k` nearest points to a given point. It is represented in code by:"
   ]
  },
  {
   "cell_type": "code",
   "execution_count": 122,
   "metadata": {},
   "outputs": [
    {
     "data": {
      "text/plain": [
       "DynamicalSystemsBase.FixedMassNeighborhood(3)"
      ]
     },
     "execution_count": 122,
     "metadata": {},
     "output_type": "execute_result"
    }
   ],
   "source": [
    "mybuddies = FixedMassNeighborhood(3) # for experts: does a knn search"
   ]
  },
  {
   "cell_type": "code",
   "execution_count": 123,
   "metadata": {},
   "outputs": [
    {
     "data": {
      "text/plain": [
       "3-element Array{Int64,1}:\n",
       " 250\n",
       " 196\n",
       " 526"
      ]
     },
     "execution_count": 123,
     "metadata": {},
     "output_type": "execute_result"
    }
   ],
   "source": [
    "point = ones(3)\n",
    "n = neighborhood(point, tree, mybuddies)"
   ]
  },
  {
   "cell_type": "markdown",
   "metadata": {},
   "source": [
    "Notice that the `neighborhood` function does not return the points themselves, but rather the indices of the points in the original data:"
   ]
  },
  {
   "cell_type": "code",
   "execution_count": 126,
   "metadata": {},
   "outputs": [
    {
     "name": "stdout",
     "output_type": "stream",
     "text": [
      "neighborhood of [1.0, 1.0, 1.0] is:\n",
      "[0.794312, 0.950849, 0.902336]\n",
      "[0.968463, 0.961057, 0.890061]\n",
      "[0.849936, 0.858092, 0.973547]\n"
     ]
    }
   ],
   "source": [
    "println(\"neighborhood of $(point) is:\")\n",
    "\n",
    "for i in n\n",
    "    println(dataset[i])\n",
    "end"
   ]
  },
  {
   "cell_type": "markdown",
   "metadata": {},
   "source": [
    "---\n",
    "\n",
    "The second type of neighborhood is all the points that are within some given distance `ε` from a point.\n",
    "\n",
    "In code, we represent this as:"
   ]
  },
  {
   "cell_type": "code",
   "execution_count": 127,
   "metadata": {},
   "outputs": [
    {
     "data": {
      "text/plain": [
       "DynamicalSystemsBase.FixedSizeNeighborhood(0.001)"
      ]
     },
     "execution_count": 127,
     "metadata": {},
     "output_type": "execute_result"
    }
   ],
   "source": [
    "where_u_at = FixedSizeNeighborhood(0.001) # for experts: does an inrange search"
   ]
  },
  {
   "cell_type": "code",
   "execution_count": 128,
   "metadata": {},
   "outputs": [
    {
     "data": {
      "text/plain": [
       "0-element Array{Int64,1}"
      ]
     },
     "execution_count": 128,
     "metadata": {},
     "output_type": "execute_result"
    }
   ],
   "source": [
    "n2 = neighborhood(point, tree, where_u_at)"
   ]
  },
  {
   "cell_type": "code",
   "execution_count": 132,
   "metadata": {},
   "outputs": [
    {
     "data": {
      "text/plain": [
       "1-element Array{Int64,1}:\n",
       " 196"
      ]
     },
     "execution_count": 132,
     "metadata": {},
     "output_type": "execute_result"
    }
   ],
   "source": [
    "plz_come_closer = FixedSizeNeighborhood(0.2)\n",
    "n2 = neighborhood(point, tree, plz_come_closer)"
   ]
  },
  {
   "cell_type": "code",
   "execution_count": 134,
   "metadata": {
    "scrolled": true
   },
   "outputs": [
    {
     "name": "stdout",
     "output_type": "stream",
     "text": [
      "neighborhood of [1.0, 1.0, 1.0] is:\n",
      "[0.968463, 0.961057, 0.890061]\n"
     ]
    }
   ],
   "source": [
    "println(\"neighborhood of $(point) is:\")\n",
    "\n",
    "for i in n2\n",
    "    println(dataset[i])\n",
    "end"
   ]
  },
  {
   "cell_type": "markdown",
   "metadata": {},
   "source": [
    "Okay, so points that have distance < ε are accepted as a neighborhood.\n",
    "\n",
    "What is the \"distance\" though? When defining a `tree`, you can optionally give a distance function. By default this is the Euclidean distance, but others also work:"
   ]
  },
  {
   "cell_type": "code",
   "execution_count": 135,
   "metadata": {},
   "outputs": [
    {
     "data": {
      "text/plain": [
       "NearestNeighbors.KDTree{StaticArrays.SArray{Tuple{3},Float64,1,3},Distances.Chebyshev,Float64}\n",
       "  Number of points: 1000\n",
       "  Dimensions: 3\n",
       "  Metric: Distances.Chebyshev()\n",
       "  Reordered: true"
      ]
     },
     "execution_count": 135,
     "metadata": {},
     "output_type": "execute_result"
    }
   ],
   "source": [
    "using Distances # to get distance functions\n",
    "funky_tree = KDTree(dataset, Chebyshev())"
   ]
  },
  {
   "cell_type": "code",
   "execution_count": 136,
   "metadata": {},
   "outputs": [
    {
     "data": {
      "text/plain": [
       "4-element Array{Int64,1}:\n",
       " 526\n",
       " 642\n",
       " 954\n",
       " 196"
      ]
     },
     "execution_count": 136,
     "metadata": {},
     "output_type": "execute_result"
    }
   ],
   "source": [
    "n3 = neighborhood(point, funky_tree, plz_come_closer)"
   ]
  },
  {
   "cell_type": "markdown",
   "metadata": {},
   "source": [
    "# Excluding temporal neighbors\n",
    "\n",
    "Before moving on, let's see one last thing:"
   ]
  },
  {
   "cell_type": "code",
   "execution_count": 137,
   "metadata": {},
   "outputs": [
    {
     "data": {
      "text/plain": [
       "3-element StaticArrays.SArray{Tuple{3},Float64,1,3}:\n",
       " 0.809626\n",
       " 0.155533\n",
       " 0.911393"
      ]
     },
     "execution_count": 137,
     "metadata": {},
     "output_type": "execute_result"
    }
   ],
   "source": [
    "# the point I want the neighborhood is now part of my dataset:\n",
    "point = dataset[end]"
   ]
  },
  {
   "cell_type": "code",
   "execution_count": 138,
   "metadata": {},
   "outputs": [
    {
     "name": "stdout",
     "output_type": "stream",
     "text": [
      "[1000]\n",
      "[1000]\n"
     ]
    }
   ],
   "source": [
    "# Let's calculate again the two neighborhoods\n",
    "\n",
    "tree = KDTree(dataset)\n",
    "\n",
    "# Find suuuuuuuper close neighbors:\n",
    "ε = 0.000001\n",
    "where_u_at = FixedSizeNeighborhood(ε)\n",
    "n2 = neighborhood(point, tree, where_u_at)\n",
    "\n",
    "# Find the nearest neighbor:\n",
    "my_best_friend = FixedMassNeighborhood(1)\n",
    "n3 = neighborhood(point, tree, my_best_friend)\n",
    "\n",
    "println(n2)\n",
    "println(n3)"
   ]
  },
  {
   "cell_type": "code",
   "execution_count": 139,
   "metadata": {},
   "outputs": [
    {
     "data": {
      "text/html": [
       "true"
      ],
      "text/plain": [
       "true"
      ]
     },
     "execution_count": 139,
     "metadata": {},
     "output_type": "execute_result"
    }
   ],
   "source": [
    "length(dataset) == n2[1] == n3[1]"
   ]
  },
  {
   "cell_type": "markdown",
   "metadata": {},
   "source": [
    "*Apparently my best friend is myself. Who would have thought...*\n",
    "\n",
    "**What is happening here is that the `neighborhood` also counted the point itself, since it is also part of the dataset.**\n",
    "\n",
    "* Almost always this behavior needs to be avoided. For this reason, there is a second method for `neighborhood`:\n",
    "\n",
    "```julia\n",
    "neighborhood(point, tree, ntype, idx::Int, w::Int = 1)\n",
    "```\n",
    "\n",
    "In this case, `idx` is the index of the point in the original data. `w` stands for the Theiler window (positive integer).\n",
    "\n",
    "Only points that have index\n",
    "`abs(i - idx) ≥ w` are returned as a neighborhood, to exclude close temporal neighbors.\n",
    "\n",
    "* The default `w=1` is the case of exluding the `point` itself.\n",
    "\n",
    "Let's revisit the last example (using the default value of `w = 1`):"
   ]
  },
  {
   "cell_type": "code",
   "execution_count": 140,
   "metadata": {},
   "outputs": [
    {
     "name": "stdout",
     "output_type": "stream",
     "text": [
      "Int64[]\n",
      "[437]\n"
     ]
    }
   ],
   "source": [
    "point = dataset[end]\n",
    "idx = length(dataset)\n",
    "\n",
    "n2 = neighborhood(point, tree, where_u_at, idx)\n",
    "n3 = neighborhood(point, tree, my_best_friend, idx)\n",
    "\n",
    "println(n2)\n",
    "println(n3)"
   ]
  },
  {
   "cell_type": "markdown",
   "metadata": {},
   "source": [
    "As you can see, there isn't *any* neighbor of `point` with distance `< 0.000001` in this dataset, but there is always a nearest neighbor:"
   ]
  },
  {
   "cell_type": "code",
   "execution_count": 143,
   "metadata": {},
   "outputs": [
    {
     "name": "stdout",
     "output_type": "stream",
     "text": [
      "[0.81069, 0.135168, 0.914128] is the nearest neighbor of [0.809626, 0.155533, 0.911393]\n"
     ]
    }
   ],
   "source": [
    "println(dataset[n3[1]], \" is the nearest neighbor of \", point)"
   ]
  },
  {
   "cell_type": "markdown",
   "metadata": {},
   "source": [
    "# Documentation Strings"
   ]
  },
  {
   "cell_type": "code",
   "execution_count": 144,
   "metadata": {},
   "outputs": [
    {
     "name": "stdout",
     "output_type": "stream",
     "text": [
      "search: \u001b[1mD\u001b[22m\u001b[1ma\u001b[22m\u001b[1mt\u001b[22m\u001b[1ma\u001b[22m\u001b[1ms\u001b[22m\u001b[1me\u001b[22m\u001b[1mt\u001b[22m Abstract\u001b[1mD\u001b[22m\u001b[1ma\u001b[22m\u001b[1mt\u001b[22m\u001b[1ma\u001b[22m\u001b[1ms\u001b[22m\u001b[1me\u001b[22m\u001b[1mt\u001b[22m \u001b[1mD\u001b[22myn\u001b[1ma\u001b[22mmicalSys\u001b[1mt\u001b[22memsB\u001b[1ma\u001b[22m\u001b[1ms\u001b[22m\u001b[1me\u001b[22m @\u001b[1md\u001b[22m\u001b[1ma\u001b[22m\u001b[1mt\u001b[22meform\u001b[1ma\u001b[22mt_\u001b[1ms\u001b[22mtr\n",
      "\n"
     ]
    },
    {
     "data": {
      "text/markdown": [
       "```\n",
       "Dataset{D, T} <: AbstractDataset{D,T}\n",
       "```\n",
       "\n",
       "A dedicated interface for datasets, i.e. vectors of vectors. It contains *equally-sized datapoints* of length `D`, represented by `SVector{D, T}`.\n",
       "\n",
       "It can be used exactly like a matrix that has each of the columns be the timeseries of each of the dynamic variables. [`trajectory`](@ref) always returns a `Dataset`. For example,\n",
       "\n",
       "```julia\n",
       "ds = Systems.towel()\n",
       "data = trajectory(ds, 1000) #this returns a dataset\n",
       "data[:, 2] # this is the second variable timeseries\n",
       "data[1] == data[1, :] # this is the first datapoint (D-dimensional)\n",
       "data[5, 3] # value of the third variable, at the 5th timepoint\n",
       "```\n",
       "\n",
       "Use `Matrix(dataset)` or `reinterpret(Matrix, dataset)` and `Dataset(matrix)` or `reinterpret(Dataset, matrix)` to convert. The `reinterpret` methods are cheaper but assume that each variable/timeseries is a *row* and not column of the `matrix`.\n",
       "\n",
       "If you have various timeseries vectors `x, y, z, ...` pass them like `Dataset(x, y, z, ...)`. You can use `columns(dataset)` to obtain the reverse, i.e. all columns of the dataset in a tuple.\n"
      ],
      "text/plain": [
       "```\n",
       "Dataset{D, T} <: AbstractDataset{D,T}\n",
       "```\n",
       "\n",
       "A dedicated interface for datasets, i.e. vectors of vectors. It contains *equally-sized datapoints* of length `D`, represented by `SVector{D, T}`.\n",
       "\n",
       "It can be used exactly like a matrix that has each of the columns be the timeseries of each of the dynamic variables. [`trajectory`](@ref) always returns a `Dataset`. For example,\n",
       "\n",
       "```julia\n",
       "ds = Systems.towel()\n",
       "data = trajectory(ds, 1000) #this returns a dataset\n",
       "data[:, 2] # this is the second variable timeseries\n",
       "data[1] == data[1, :] # this is the first datapoint (D-dimensional)\n",
       "data[5, 3] # value of the third variable, at the 5th timepoint\n",
       "```\n",
       "\n",
       "Use `Matrix(dataset)` or `reinterpret(Matrix, dataset)` and `Dataset(matrix)` or `reinterpret(Dataset, matrix)` to convert. The `reinterpret` methods are cheaper but assume that each variable/timeseries is a *row* and not column of the `matrix`.\n",
       "\n",
       "If you have various timeseries vectors `x, y, z, ...` pass them like `Dataset(x, y, z, ...)`. You can use `columns(dataset)` to obtain the reverse, i.e. all columns of the dataset in a tuple.\n"
      ]
     },
     "execution_count": 144,
     "metadata": {},
     "output_type": "execute_result"
    }
   ],
   "source": [
    "?Dataset"
   ]
  },
  {
   "cell_type": "code",
   "execution_count": 145,
   "metadata": {},
   "outputs": [
    {
     "name": "stdout",
     "output_type": "stream",
     "text": [
      "search: \u001b[1mn\u001b[22m\u001b[1me\u001b[22m\u001b[1mi\u001b[22m\u001b[1mg\u001b[22m\u001b[1mh\u001b[22m\u001b[1mb\u001b[22m\u001b[1mo\u001b[22m\u001b[1mr\u001b[22m\u001b[1mh\u001b[22m\u001b[1mo\u001b[22m\u001b[1mo\u001b[22m\u001b[1md\u001b[22m Abstract\u001b[1mN\u001b[22m\u001b[1me\u001b[22m\u001b[1mi\u001b[22m\u001b[1mg\u001b[22m\u001b[1mh\u001b[22m\u001b[1mb\u001b[22m\u001b[1mo\u001b[22m\u001b[1mr\u001b[22m\u001b[1mh\u001b[22m\u001b[1mo\u001b[22m\u001b[1mo\u001b[22m\u001b[1md\u001b[22m FixedSize\u001b[1mN\u001b[22m\u001b[1me\u001b[22m\u001b[1mi\u001b[22m\u001b[1mg\u001b[22m\u001b[1mh\u001b[22m\u001b[1mb\u001b[22m\u001b[1mo\u001b[22m\u001b[1mr\u001b[22m\u001b[1mh\u001b[22m\u001b[1mo\u001b[22m\u001b[1mo\u001b[22m\u001b[1md\u001b[22m\n",
      "\n"
     ]
    },
    {
     "data": {
      "text/markdown": [
       "```\n",
       "neighborhood(point, tree, ntype)\n",
       "neighborhood(point, tree, ntype, n::Int, w::Int = 1)\n",
       "```\n",
       "\n",
       "Return a vector of indices which are the neighborhood of `point` in some `data`, where the `tree` was created using `tree = KDTree(data [, metric])`. The `ntype` is the type of neighborhood and can be any subtype of [`AbstractNeighborhood`](@ref).\n",
       "\n",
       "Use the second method when the `point` belongs in the data, i.e. `point = data[n]`. Then `w` stands for the Theiler window (positive integer). Only points that have index `abs(i - n) ≥ w` are returned as a neighborhood, to exclude close temporal neighbors. The default `w=1` is the case of excluding the `point` itself.\n",
       "\n",
       "## References\n",
       "\n",
       "`neighborhood` simply interfaces the functions `knn` and `inrange` from [NearestNeighbors.jl](https://github.com/KristofferC/NearestNeighbors.jl) by using the argument `ntype`.\n"
      ],
      "text/plain": [
       "```\n",
       "neighborhood(point, tree, ntype)\n",
       "neighborhood(point, tree, ntype, n::Int, w::Int = 1)\n",
       "```\n",
       "\n",
       "Return a vector of indices which are the neighborhood of `point` in some `data`, where the `tree` was created using `tree = KDTree(data [, metric])`. The `ntype` is the type of neighborhood and can be any subtype of [`AbstractNeighborhood`](@ref).\n",
       "\n",
       "Use the second method when the `point` belongs in the data, i.e. `point = data[n]`. Then `w` stands for the Theiler window (positive integer). Only points that have index `abs(i - n) ≥ w` are returned as a neighborhood, to exclude close temporal neighbors. The default `w=1` is the case of excluding the `point` itself.\n",
       "\n",
       "## References\n",
       "\n",
       "`neighborhood` simply interfaces the functions `knn` and `inrange` from [NearestNeighbors.jl](https://github.com/KristofferC/NearestNeighbors.jl) by using the argument `ntype`.\n"
      ]
     },
     "execution_count": 145,
     "metadata": {},
     "output_type": "execute_result"
    }
   ],
   "source": [
    "?neighborhood"
   ]
  },
  {
   "cell_type": "code",
   "execution_count": 146,
   "metadata": {},
   "outputs": [
    {
     "name": "stdout",
     "output_type": "stream",
     "text": [
      "search: \u001b[1mA\u001b[22m\u001b[1mb\u001b[22m\u001b[1ms\u001b[22m\u001b[1mt\u001b[22m\u001b[1mr\u001b[22m\u001b[1ma\u001b[22m\u001b[1mc\u001b[22m\u001b[1mt\u001b[22m\u001b[1mN\u001b[22m\u001b[1me\u001b[22m\u001b[1mi\u001b[22m\u001b[1mg\u001b[22m\u001b[1mh\u001b[22m\u001b[1mb\u001b[22m\u001b[1mo\u001b[22m\u001b[1mr\u001b[22m\u001b[1mh\u001b[22m\u001b[1mo\u001b[22m\u001b[1mo\u001b[22m\u001b[1md\u001b[22m\n",
      "\n"
     ]
    },
    {
     "data": {
      "text/markdown": [
       "```\n",
       "AbstractNeighborhood\n",
       "```\n",
       "\n",
       "Supertype of methods for deciding the neighborhood of points for a given point.\n",
       "\n",
       "Concrete subtypes:\n",
       "\n",
       "  * `FixedMassNeighborhood(K::Int)` : The neighborhood of a point consists of the `K` nearest neighbors of the point.\n",
       "  * `FixedSizeNeighborhood(ε::Real)` : The neighborhood of a point consists of all neighbors that have distance < `ε` from the point.\n",
       "\n",
       "See [`neighborhood`](@ref) for more.\n"
      ],
      "text/plain": [
       "```\n",
       "AbstractNeighborhood\n",
       "```\n",
       "\n",
       "Supertype of methods for deciding the neighborhood of points for a given point.\n",
       "\n",
       "Concrete subtypes:\n",
       "\n",
       "  * `FixedMassNeighborhood(K::Int)` : The neighborhood of a point consists of the `K` nearest neighbors of the point.\n",
       "  * `FixedSizeNeighborhood(ε::Real)` : The neighborhood of a point consists of all neighbors that have distance < `ε` from the point.\n",
       "\n",
       "See [`neighborhood`](@ref) for more.\n"
      ]
     },
     "execution_count": 146,
     "metadata": {},
     "output_type": "execute_result"
    }
   ],
   "source": [
    "?AbstractNeighborhood"
   ]
  }
 ],
 "metadata": {
  "kernelspec": {
   "display_name": "Julia 0.6.2",
   "language": "julia",
   "name": "julia-0.6"
  },
  "language_info": {
   "file_extension": ".jl",
   "mimetype": "application/julia",
   "name": "julia",
   "version": "0.6.2"
  }
 },
 "nbformat": 4,
 "nbformat_minor": 2
}
