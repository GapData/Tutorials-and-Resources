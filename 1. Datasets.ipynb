{
 "cells": [
  {
   "cell_type": "markdown",
   "metadata": {},
   "source": [
    "# Datasets\n",
    "\n",
    "Topics:\n",
    "* How are numerical data returned (and expected) in **DynamicalSystems.jl**.\n",
    "* Basic `Dataset` handling.\n",
    "\n",
    "Much of the functionality of **DynamicalSystems.jl** uses numerical data. We required a `struct` that would unify behavior across all functions that either return or require numerical data.\n",
    "\n",
    "To this end, we use a struct called simply `Dataset`, which is nothing more than a wrapper of a `Vector{SVector}}`:"
   ]
  },
  {
   "cell_type": "code",
   "execution_count": 1,
   "metadata": {
    "collapsed": true
   },
   "outputs": [],
   "source": [
    "using DynamicalSystems"
   ]
  },
  {
   "cell_type": "code",
   "execution_count": 2,
   "metadata": {},
   "outputs": [
    {
     "name": "stdout",
     "output_type": "stream",
     "text": [
      "search: \u001b[1mD\u001b[22m\u001b[1ma\u001b[22m\u001b[1mt\u001b[22m\u001b[1ma\u001b[22m\u001b[1ms\u001b[22m\u001b[1me\u001b[22m\u001b[1mt\u001b[22m Abstract\u001b[1mD\u001b[22m\u001b[1ma\u001b[22m\u001b[1mt\u001b[22m\u001b[1ma\u001b[22m\u001b[1ms\u001b[22m\u001b[1me\u001b[22m\u001b[1mt\u001b[22m \u001b[1mD\u001b[22myn\u001b[1ma\u001b[22mmicalSys\u001b[1mt\u001b[22memsB\u001b[1ma\u001b[22m\u001b[1ms\u001b[22m\u001b[1me\u001b[22m @\u001b[1md\u001b[22m\u001b[1ma\u001b[22m\u001b[1mt\u001b[22meform\u001b[1ma\u001b[22mt_\u001b[1ms\u001b[22mtr\n",
      "\n"
     ]
    },
    {
     "data": {
      "text/markdown": [
       "```\n",
       "Dataset{D, T} <: AbstractDataset{D,T}\n",
       "```\n",
       "\n",
       "A dedicated interface for datasets, i.e. vectors of vectors. It contains *equally-sized datapoints* of length `D`, represented by `SVector{D, T}`.\n",
       "\n",
       "It can be used exactly like a matrix that has each of the columns be the timeseries of each of the dynamic variables. [`trajectory`](@ref) always returns a `Dataset`. For example,\n",
       "\n",
       "```julia\n",
       "ds = Systems.towel()\n",
       "data = trajectory(ds, 1000) #this returns a dataset\n",
       "data[:, 2] # this is the second variable timeseries\n",
       "data[1] == data[1, :] # this is the first datapoint (D-dimensional)\n",
       "data[5, 3] # value of the third variable, at the 5th timepoint\n",
       "```\n",
       "\n",
       "Use `Matrix(dataset)` or `reinterpret(Matrix, dataset)` and `Dataset(matrix)` or `reinterpret(Dataset, matrix)` to convert. The `reinterpret` methods are cheaper but assume that each variable/timeseries is a *row* and not column of the `matrix`.\n",
       "\n",
       "If you have various timeseries vectors `x, y, z, ...` pass them like `Dataset(x, y, z, ...)`. You can use `columns(dataset)` to obtain the reverse, i.e. all columns of the dataset in a tuple.\n"
      ],
      "text/plain": [
       "```\n",
       "Dataset{D, T} <: AbstractDataset{D,T}\n",
       "```\n",
       "\n",
       "A dedicated interface for datasets, i.e. vectors of vectors. It contains *equally-sized datapoints* of length `D`, represented by `SVector{D, T}`.\n",
       "\n",
       "It can be used exactly like a matrix that has each of the columns be the timeseries of each of the dynamic variables. [`trajectory`](@ref) always returns a `Dataset`. For example,\n",
       "\n",
       "```julia\n",
       "ds = Systems.towel()\n",
       "data = trajectory(ds, 1000) #this returns a dataset\n",
       "data[:, 2] # this is the second variable timeseries\n",
       "data[1] == data[1, :] # this is the first datapoint (D-dimensional)\n",
       "data[5, 3] # value of the third variable, at the 5th timepoint\n",
       "```\n",
       "\n",
       "Use `Matrix(dataset)` or `reinterpret(Matrix, dataset)` and `Dataset(matrix)` or `reinterpret(Dataset, matrix)` to convert. The `reinterpret` methods are cheaper but assume that each variable/timeseries is a *row* and not column of the `matrix`.\n",
       "\n",
       "If you have various timeseries vectors `x, y, z, ...` pass them like `Dataset(x, y, z, ...)`. You can use `columns(dataset)` to obtain the reverse, i.e. all columns of the dataset in a tuple.\n"
      ]
     },
     "execution_count": 2,
     "metadata": {},
     "output_type": "execute_result"
    }
   ],
   "source": [
    "?Dataset"
   ]
  },
  {
   "cell_type": "markdown",
   "metadata": {},
   "source": [
    "---\n",
    "We chose a vector of `SVectors` because it gives big performance benefits in many different functions of the library.\n",
    "\n",
    "Special attention has been given so that subtypes of `AbstractDataset` behave exactly like some `Matrix` where each *row* is a *point* of the dataset, while each *column* is *one dynamic variable*.T he reason we choose this approach is because traditionally this is how scientific data are recorded, exported and passed around.\n",
    "\n",
    "**Datasets in DynamicalSystems.jl don't contain any time coordinate**.\n",
    "\n",
    "---\n",
    "## Handling a Dataset\n",
    "\n",
    "The documentation string already discribed how one handles a `Dataset`, which is identical to a `Matrix`. Besides that however, a `Dataset` has many extra goodies defined on top of it:"
   ]
  },
  {
   "cell_type": "code",
   "execution_count": 3,
   "metadata": {},
   "outputs": [
    {
     "data": {
      "text/plain": [
       "2-dimensional Dataset{Float64} with 1000 points:\n",
       " 0.85245    0.907641 \n",
       " 0.764112   0.64804  \n",
       " 0.750546   0.083024 \n",
       " 0.324464   0.823665 \n",
       " 0.318449   0.173401 \n",
       " 0.123943   0.972591 \n",
       " 0.857732   0.837367 \n",
       " 0.64909    0.756128 \n",
       " 0.280373   0.740378 \n",
       " 0.270682   0.630117 \n",
       " 0.0364393  0.849739 \n",
       " 0.820646   0.125905 \n",
       " 0.0147168  0.513893 \n",
       " ⋮                   \n",
       " 0.546555   0.56561  \n",
       " 0.998632   0.704277 \n",
       " 0.804399   0.446502 \n",
       " 0.0994692  0.28497  \n",
       " 0.600024   0.0581172\n",
       " 0.976807   0.712164 \n",
       " 0.36504    0.391619 \n",
       " 0.22077    0.719023 \n",
       " 0.362273   0.369374 \n",
       " 0.153819   0.0491542\n",
       " 0.440674   0.976756 \n",
       " 0.449408   0.0406894\n"
      ]
     },
     "execution_count": 3,
     "metadata": {},
     "output_type": "execute_result"
    }
   ],
   "source": [
    "data = Dataset(rand(1000, 2))"
   ]
  },
  {
   "cell_type": "code",
   "execution_count": 4,
   "metadata": {},
   "outputs": [
    {
     "data": {
      "text/plain": [
       "([0.000237359, 0.00238046], [0.999345, 0.999775])"
      ]
     },
     "execution_count": 4,
     "metadata": {},
     "output_type": "execute_result"
    }
   ],
   "source": [
    "# iteration:\n",
    "f = 0.0\n",
    "for point in data\n",
    "    f += mean(point)\n",
    "end\n",
    "\n",
    "# get columns\n",
    "x, y = columns(data)\n",
    "mean(x) ≈ mean(y)\n",
    "\n",
    "# minima, maxima, etc...\n",
    "mini = minima(data)\n",
    "maxi = maxima(data)\n",
    "mini, maxi = minmaxima(data)"
   ]
  },
  {
   "cell_type": "code",
   "execution_count": 5,
   "metadata": {},
   "outputs": [
    {
     "name": "stdout",
     "output_type": "stream",
     "text": [
      "  2.370 μs (1 allocation: 96 bytes)\n",
      "  2.418 μs (1 allocation: 96 bytes)\n",
      "  3.840 μs (2 allocations: 192 bytes)\n"
     ]
    },
    {
     "data": {
      "text/plain": [
       "([0.000237359, 0.00238046], [0.999345, 0.999775])"
      ]
     },
     "execution_count": 5,
     "metadata": {},
     "output_type": "execute_result"
    }
   ],
   "source": [
    "# Function minmaxima is faster than using the two individual ones\n",
    "using BenchmarkTools\n",
    "@btime maxima($data)\n",
    "@btime minima($data)\n",
    "@btime minmaxima($data)"
   ]
  },
  {
   "cell_type": "markdown",
   "metadata": {},
   "source": [
    "# I/O\n",
    "Input/output functionality for an `AbstractDataset` is already achieved using base Julia, specifically `writedlm` and `readdlm`.\n",
    "\n",
    "The thing to note is that all data of an `AbstractDataset` is contained within its field `data`.\n",
    "\n",
    "To write and read a dataset, simply do:"
   ]
  },
  {
   "cell_type": "code",
   "execution_count": 6,
   "metadata": {},
   "outputs": [
    {
     "data": {
      "text/plain": [
       "2-dimensional Dataset{Float64} with 1000 points:\n",
       " 0.85245    0.907641 \n",
       " 0.764112   0.64804  \n",
       " 0.750546   0.083024 \n",
       " 0.324464   0.823665 \n",
       " 0.318449   0.173401 \n",
       " 0.123943   0.972591 \n",
       " 0.857732   0.837367 \n",
       " 0.64909    0.756128 \n",
       " 0.280373   0.740378 \n",
       " 0.270682   0.630117 \n",
       " 0.0364393  0.849739 \n",
       " 0.820646   0.125905 \n",
       " 0.0147168  0.513893 \n",
       " ⋮                   \n",
       " 0.546555   0.56561  \n",
       " 0.998632   0.704277 \n",
       " 0.804399   0.446502 \n",
       " 0.0994692  0.28497  \n",
       " 0.600024   0.0581172\n",
       " 0.976807   0.712164 \n",
       " 0.36504    0.391619 \n",
       " 0.22077    0.719023 \n",
       " 0.362273   0.369374 \n",
       " 0.153819   0.0491542\n",
       " 0.440674   0.976756 \n",
       " 0.449408   0.0406894\n"
      ]
     },
     "execution_count": 6,
     "metadata": {},
     "output_type": "execute_result"
    }
   ],
   "source": [
    "# I will write and read using delimiter ','\n",
    "writedlm(\"data.txt\", data.data, ',')\n",
    "\n",
    "# Don't forget to convert the matrix to a Dataset when reading\n",
    "data = Dataset(readdlm(\"data.txt\", ',', Float64))"
   ]
  }
 ],
 "metadata": {
  "kernelspec": {
   "display_name": "Julia 0.6.2",
   "language": "julia",
   "name": "julia-0.6"
  },
  "language_info": {
   "file_extension": ".jl",
   "mimetype": "application/julia",
   "name": "julia",
   "version": "0.6.2"
  }
 },
 "nbformat": 4,
 "nbformat_minor": 2
}
