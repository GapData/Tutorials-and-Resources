{
 "cells": [
  {
   "cell_type": "markdown",
   "metadata": {},
   "source": [
    "# Datasets\n",
    "\n",
    "Topics:\n",
    "* How are numerical data returned (and expected) in **DynamicalSystems.jl**.\n",
    "* Basic `Dataset` handling.\n",
    "* Neighborhoods.\n",
    "\n",
    "---\n",
    "\n",
    "Much of the functionality of **DynamicalSystems.jl** uses numerical data. We required a `struct` that would unify behavior across all functions that either return or require numerical data.\n",
    "\n",
    "To this end, we use a struct called simply `Dataset`."
   ]
  },
  {
   "cell_type": "code",
   "execution_count": 1,
   "metadata": {
    "collapsed": true
   },
   "outputs": [],
   "source": [
    "using DynamicalSystems"
   ]
  },
  {
   "cell_type": "code",
   "execution_count": 2,
   "metadata": {},
   "outputs": [
    {
     "data": {
      "text/plain": [
       "2-dimensional Dataset{Float64} with 1000 points:\n",
       " 0.990605  0.225951 \n",
       " 0.812981  0.154526 \n",
       " 0.490817  0.962962 \n",
       " 0.225787  0.600326 \n",
       " 0.688322  0.443765 \n",
       " 0.536709  0.918189 \n",
       " 0.448972  0.680773 \n",
       " 0.909004  0.997239 \n",
       " 0.460936  0.541494 \n",
       " 0.716157  0.898359 \n",
       " 0.637662  0.380442 \n",
       " 0.869326  0.676887 \n",
       " 0.335159  0.299579 \n",
       " ⋮                  \n",
       " 0.309705  0.515526 \n",
       " 0.876828  0.795993 \n",
       " 0.427572  0.209889 \n",
       " 0.482404  0.771648 \n",
       " 0.113016  0.274178 \n",
       " 0.348546  0.0380722\n",
       " 0.375838  0.562152 \n",
       " 0.925618  0.346873 \n",
       " 0.336631  0.94357  \n",
       " 0.51948   0.327394 \n",
       " 0.669318  0.581128 \n",
       " 0.43938   0.986355 \n"
      ]
     },
     "execution_count": 2,
     "metadata": {},
     "output_type": "execute_result"
    }
   ],
   "source": [
    "x = rand(1000)\n",
    "y = rand(1000)\n",
    "dataset = Dataset(x,y)"
   ]
  },
  {
   "cell_type": "markdown",
   "metadata": {},
   "source": [
    "A `Dataset` is a subtype of `AbstractDataset`:"
   ]
  },
  {
   "cell_type": "code",
   "execution_count": 3,
   "metadata": {},
   "outputs": [
    {
     "data": {
      "text/html": [
       "true"
      ],
      "text/plain": [
       "true"
      ]
     },
     "execution_count": 3,
     "metadata": {},
     "output_type": "execute_result"
    }
   ],
   "source": [
    "typeof(dataset) <: AbstractDataset"
   ]
  },
  {
   "cell_type": "markdown",
   "metadata": {},
   "source": [
    "All subtypes of `AbstractDataset` contain their data in the field `data`:"
   ]
  },
  {
   "cell_type": "code",
   "execution_count": 4,
   "metadata": {},
   "outputs": [
    {
     "data": {
      "text/plain": [
       "1000-element Array{StaticArrays.SArray{Tuple{2},Float64,1,2},1}:\n",
       " [0.990605, 0.225951] \n",
       " [0.812981, 0.154526] \n",
       " [0.490817, 0.962962] \n",
       " [0.225787, 0.600326] \n",
       " [0.688322, 0.443765] \n",
       " [0.536709, 0.918189] \n",
       " [0.448972, 0.680773] \n",
       " [0.909004, 0.997239] \n",
       " [0.460936, 0.541494] \n",
       " [0.716157, 0.898359] \n",
       " [0.637662, 0.380442] \n",
       " [0.869326, 0.676887] \n",
       " [0.335159, 0.299579] \n",
       " ⋮                    \n",
       " [0.309705, 0.515526] \n",
       " [0.876828, 0.795993] \n",
       " [0.427572, 0.209889] \n",
       " [0.482404, 0.771648] \n",
       " [0.113016, 0.274178] \n",
       " [0.348546, 0.0380722]\n",
       " [0.375838, 0.562152] \n",
       " [0.925618, 0.346873] \n",
       " [0.336631, 0.94357]  \n",
       " [0.51948, 0.327394]  \n",
       " [0.669318, 0.581128] \n",
       " [0.43938, 0.986355]  "
      ]
     },
     "execution_count": 4,
     "metadata": {},
     "output_type": "execute_result"
    }
   ],
   "source": [
    "dataset.data"
   ]
  },
  {
   "cell_type": "markdown",
   "metadata": {},
   "source": [
    "We chose a vector of `SVectors` as the internal representation of the data because it gives big performance gains in many functions of the library."
   ]
  },
  {
   "cell_type": "markdown",
   "metadata": {},
   "source": [
    "# Creating a Dataset\n",
    "\n",
    "Most functions of **DynamicalSystems.jl** that return numerical data, return it in the form of a `Dataset`.\n",
    "\n",
    "If you already have the data though, there are many ways to create a dataset:"
   ]
  },
  {
   "cell_type": "code",
   "execution_count": 5,
   "metadata": {},
   "outputs": [
    {
     "data": {
      "text/html": [
       "true"
      ],
      "text/plain": [
       "true"
      ]
     },
     "execution_count": 5,
     "metadata": {},
     "output_type": "execute_result"
    }
   ],
   "source": [
    "# From matrix:\n",
    "m = rand(1000, 5)\n",
    "data = Dataset(m)\n",
    "\n",
    "# using re-interpret if each *row* is one variable:\n",
    "m = transpose(m)\n",
    "data2 = reinterpret(Dataset, m)\n",
    "\n",
    "data2 == data"
   ]
  },
  {
   "cell_type": "code",
   "execution_count": 6,
   "metadata": {},
   "outputs": [
    {
     "ename": "LoadError",
     "evalue": "\u001b[91mBoundsError: attempt to access 100-element Array{Float64,1} at index [101]\u001b[39m",
     "output_type": "error",
     "traceback": [
      "\u001b[91mBoundsError: attempt to access 100-element Array{Float64,1} at index [101]\u001b[39m",
      "",
      "Stacktrace:",
      " [1] \u001b[1mmacro expansion\u001b[22m\u001b[22m at \u001b[1mC:\\Users\\datseris\\.julia\\v0.6\\DynamicalSystemsBase\\src\\dataset.jl:148\u001b[22m\u001b[22m [inlined]",
      " [2] \u001b[1m_dataset\u001b[22m\u001b[22m\u001b[1m(\u001b[22m\u001b[22m::Val{2}, ::Array{Float64,1}, ::Array{Float64,1}\u001b[1m)\u001b[22m\u001b[22m at \u001b[1mC:\\Users\\datseris\\.julia\\v0.6\\DynamicalSystemsBase\\src\\dataset.jl:142\u001b[22m\u001b[22m",
      " [3] \u001b[1mDynamicalSystemsBase.Dataset\u001b[22m\u001b[22m\u001b[1m(\u001b[22m\u001b[22m::Array{Float64,1}, ::Array{Float64,1}\u001b[1m)\u001b[22m\u001b[22m at \u001b[1mC:\\Users\\datseris\\.julia\\v0.6\\DynamicalSystemsBase\\src\\dataset.jl:156\u001b[22m\u001b[22m",
      " [4] \u001b[1minclude_string\u001b[22m\u001b[22m\u001b[1m(\u001b[22m\u001b[22m::String, ::String\u001b[1m)\u001b[22m\u001b[22m at \u001b[1m.\\loading.jl:522\u001b[22m\u001b[22m"
     ]
    }
   ],
   "source": [
    "# From columns\n",
    "x, y = rand(1000), rand(1000)\n",
    "data = Dataset(x, y)\n",
    "\n",
    "# All points of a dataset must be equally sized:\n",
    "z = rand(100)\n",
    "Dataset(x, z)"
   ]
  },
  {
   "cell_type": "markdown",
   "metadata": {},
   "source": [
    "# Handling a Dataset\n",
    "\n",
    "Special attention has been given so that subtypes of `AbstractDataset` behave exactly like some `Matrix` where each *row* is a *point* of the dataset, while each *column* is *one dynamic variable*. The reason we choose this approach is because traditionally this is how scientific data are recorded, exported and passed around."
   ]
  },
  {
   "cell_type": "code",
   "execution_count": 7,
   "metadata": {},
   "outputs": [
    {
     "data": {
      "text/html": [
       "0.8923728336240995"
      ],
      "text/plain": [
       "0.8923728336240995"
      ]
     },
     "execution_count": 7,
     "metadata": {},
     "output_type": "execute_result"
    }
   ],
   "source": [
    "# Create some random dataset:\n",
    "dataset = Dataset(rand(10000, 3))\n",
    "\n",
    "dataset[:, 2] # this is the second variable timeseries\n",
    "dataset[1] == dataset[1, :] # this is the first datapoint (D-dimensional)\n",
    "dataset[5, 3] # value of the third variable, at the 5th timepoint"
   ]
  },
  {
   "cell_type": "code",
   "execution_count": 8,
   "metadata": {},
   "outputs": [
    {
     "data": {
      "text/plain": [
       "([0.000285759, 0.00017747, 2.06445e-5], [0.999945, 1.0, 0.999852])"
      ]
     },
     "execution_count": 8,
     "metadata": {},
     "output_type": "execute_result"
    }
   ],
   "source": [
    "# iteration:\n",
    "f = 0.0\n",
    "for point in dataset\n",
    "    f += mean(point)\n",
    "end\n",
    "\n",
    "# get columns\n",
    "x, y = columns(dataset)\n",
    "mean(x) ≈ mean(y)\n",
    "\n",
    "# minima, maxima, etc...\n",
    "mini = minima(dataset)\n",
    "maxi = maxima(dataset)\n",
    "mini, maxi = minmaxima(dataset)"
   ]
  },
  {
   "cell_type": "code",
   "execution_count": 9,
   "metadata": {},
   "outputs": [
    {
     "name": "stdout",
     "output_type": "stream",
     "text": [
      "  25.864 μs (1 allocation: 112 bytes)\n",
      "  26.685 μs (1 allocation: 112 bytes)\n",
      "  43.518 μs (2 allocations: 224 bytes)\n"
     ]
    },
    {
     "data": {
      "text/plain": [
       "([0.000285759, 0.00017747, 2.06445e-5], [0.999945, 1.0, 0.999852])"
      ]
     },
     "execution_count": 9,
     "metadata": {},
     "output_type": "execute_result"
    }
   ],
   "source": [
    "# Function minmaxima is faster than using the two individual ones\n",
    "using BenchmarkTools\n",
    "@btime maxima($dataset)\n",
    "@btime minima($dataset)\n",
    "@btime minmaxima($dataset)"
   ]
  },
  {
   "cell_type": "markdown",
   "metadata": {},
   "source": [
    "# I/O\n",
    "Input/output functionality for an `AbstractDataset` is already achieved using base Julia, specifically `writedlm` and `readdlm`.\n",
    "\n",
    "The thing to note is that all data of an `AbstractDataset` is contained within its field `data`.\n",
    "\n",
    "To write and read a dataset, simply do:"
   ]
  },
  {
   "cell_type": "code",
   "execution_count": 10,
   "metadata": {},
   "outputs": [
    {
     "data": {
      "text/plain": [
       "2-dimensional Dataset{Float64} with 1000 points:\n",
       " 0.623655  0.794018 \n",
       " 0.327743  0.5294   \n",
       " 0.744811  0.578711 \n",
       " 0.450533  0.984161 \n",
       " 0.113491  0.729811 \n",
       " 0.964226  0.219892 \n",
       " 0.982188  0.922891 \n",
       " 0.205943  0.3872   \n",
       " 0.657739  0.245811 \n",
       " 0.462655  0.907499 \n",
       " 0.293036  0.73643  \n",
       " 0.383197  0.144261 \n",
       " 0.248561  0.920899 \n",
       " ⋮                  \n",
       " 0.43992   0.498417 \n",
       " 0.55771   0.955456 \n",
       " 0.92023   0.0101294\n",
       " 0.856417  0.899826 \n",
       " 0.523095  0.77775  \n",
       " 0.123051  0.512756 \n",
       " 0.201588  0.412181 \n",
       " 0.956699  0.143071 \n",
       " 0.98242   0.249353 \n",
       " 0.50086   0.781588 \n",
       " 0.472521  0.578034 \n",
       " 0.648476  0.821133 \n"
      ]
     },
     "execution_count": 10,
     "metadata": {},
     "output_type": "execute_result"
    }
   ],
   "source": [
    "# I will write and read using delimiter ','\n",
    "writedlm(\"data.txt\", data.data, ',')\n",
    "\n",
    "# Don't forget to convert the matrix to a Dataset when reading\n",
    "data = Dataset(readdlm(\"data.txt\", ',', Float64))"
   ]
  },
  {
   "cell_type": "code",
   "execution_count": 11,
   "metadata": {},
   "outputs": [
    {
     "data": {
      "text/html": [
       "false"
      ],
      "text/plain": [
       "false"
      ]
     },
     "execution_count": 11,
     "metadata": {},
     "output_type": "execute_result"
    }
   ],
   "source": [
    "# delete the dummy file we created:\n",
    "rm(\"data.txt\")\n",
    "isfile(\"data.txt\")"
   ]
  },
  {
   "cell_type": "markdown",
   "metadata": {},
   "source": [
    "# Neighborhoods \n",
    "\n",
    "A \"neighborhood\" is a collection of points that is near a given point. `Dataset`s the amazing module [`NearestNeighbors`](https://github.com/KristofferC/NearestNeighbors.jl) in order to find this neighborhood.\n",
    "\n",
    "We use the function `neighborhood`. The call singature is:\n",
    "```julia\n",
    "neighborhood(point, tree, ntype)\n",
    "```\n"
   ]
  },
  {
   "cell_type": "markdown",
   "metadata": {},
   "source": [
    "`point` is simply the query point. `tree` is the structure required by [`NearestNeighbors`](https://github.com/KristofferC/NearestNeighbors.jl), and is obtained simply by:"
   ]
  },
  {
   "cell_type": "code",
   "execution_count": 12,
   "metadata": {},
   "outputs": [
    {
     "data": {
      "text/plain": [
       "NearestNeighbors.KDTree{StaticArrays.SArray{Tuple{3},Float64,1,3},Distances.Euclidean,Float64}\n",
       "  Number of points: 10000\n",
       "  Dimensions: 3\n",
       "  Metric: Distances.Euclidean(0.0)\n",
       "  Reordered: true"
      ]
     },
     "execution_count": 12,
     "metadata": {},
     "output_type": "execute_result"
    }
   ],
   "source": [
    "tree = KDTree(dataset)"
   ]
  },
  {
   "cell_type": "markdown",
   "metadata": {},
   "source": [
    "The third argument to `neighborhood` is the *type* of the neighborhood. \n",
    "\n",
    "* There are two types of neighborhoods!\n",
    "\n",
    "The first one is defined as the `k` nearest points to a given point. It is represented in code by:"
   ]
  },
  {
   "cell_type": "code",
   "execution_count": 13,
   "metadata": {},
   "outputs": [
    {
     "data": {
      "text/plain": [
       "DynamicalSystemsBase.FixedMassNeighborhood(3)"
      ]
     },
     "execution_count": 13,
     "metadata": {},
     "output_type": "execute_result"
    }
   ],
   "source": [
    "mybuddies = FixedMassNeighborhood(3) # for experts: does a knn search"
   ]
  },
  {
   "cell_type": "code",
   "execution_count": 14,
   "metadata": {},
   "outputs": [
    {
     "data": {
      "text/plain": [
       "3-element Array{Int64,1}:\n",
       " 2230\n",
       " 1635\n",
       " 9531"
      ]
     },
     "execution_count": 14,
     "metadata": {},
     "output_type": "execute_result"
    }
   ],
   "source": [
    "point = ones(3)\n",
    "n = neighborhood(point, tree, mybuddies)"
   ]
  },
  {
   "cell_type": "markdown",
   "metadata": {},
   "source": [
    "Notice that the `neighborhood` function does not return the points themselves, but rather the indices of the points in the original data:"
   ]
  },
  {
   "cell_type": "code",
   "execution_count": 15,
   "metadata": {},
   "outputs": [
    {
     "name": "stdout",
     "output_type": "stream",
     "text": [
      "[0.994833, 0.952813, 0.977146]\n",
      "[0.980235, 0.962263, 0.987385]\n",
      "[0.990768, 0.973388, 0.992335]\n"
     ]
    }
   ],
   "source": [
    "for i in n\n",
    "    println(dataset[i])\n",
    "end"
   ]
  },
  {
   "cell_type": "markdown",
   "metadata": {},
   "source": [
    "The second type of neighborhood is all the points that are within some given distance `ε` from a point.\n",
    "\n",
    "In code, we represent this as:"
   ]
  },
  {
   "cell_type": "code",
   "execution_count": 16,
   "metadata": {},
   "outputs": [
    {
     "data": {
      "text/plain": [
       "DynamicalSystemsBase.FixedSizeNeighborhood(0.001)"
      ]
     },
     "execution_count": 16,
     "metadata": {},
     "output_type": "execute_result"
    }
   ],
   "source": [
    "where_u_at = FixedSizeNeighborhood(0.001) # for experts: does an inrange search"
   ]
  },
  {
   "cell_type": "code",
   "execution_count": 17,
   "metadata": {},
   "outputs": [
    {
     "data": {
      "text/plain": [
       "0-element Array{Int64,1}"
      ]
     },
     "execution_count": 17,
     "metadata": {},
     "output_type": "execute_result"
    }
   ],
   "source": [
    "n2 = neighborhood(point, tree, where_u_at)"
   ]
  },
  {
   "cell_type": "code",
   "execution_count": 18,
   "metadata": {},
   "outputs": [
    {
     "data": {
      "text/plain": [
       "8-element Array{Int64,1}:\n",
       " 1571\n",
       " 7354\n",
       "  972\n",
       " 2230\n",
       " 1635\n",
       " 8851\n",
       " 9531\n",
       " 1954"
      ]
     },
     "execution_count": 18,
     "metadata": {},
     "output_type": "execute_result"
    }
   ],
   "source": [
    "plz_come_closer = FixedSizeNeighborhood(0.1)\n",
    "n2 = neighborhood(point, tree, plz_come_closer)"
   ]
  },
  {
   "cell_type": "code",
   "execution_count": 19,
   "metadata": {
    "scrolled": true
   },
   "outputs": [
    {
     "name": "stdout",
     "output_type": "stream",
     "text": [
      "[0.995186, 0.936665, 0.935324]\n",
      "[0.967531, 0.943782, 0.963174]\n",
      "[0.961248, 0.942233, 0.946658]\n",
      "[0.994833, 0.952813, 0.977146]\n",
      "[0.980235, 0.962263, 0.987385]\n",
      "[0.919214, 0.993461, 0.98792]\n",
      "[0.990768, 0.973388, 0.992335]\n",
      "[0.944716, 0.998348, 0.924357]\n"
     ]
    }
   ],
   "source": [
    "for i in n2\n",
    "    println(dataset[i])\n",
    "end"
   ]
  },
  {
   "cell_type": "markdown",
   "metadata": {},
   "source": [
    "Okay, so points that have distance < ε are accepted as a neighborhood.\n",
    "\n",
    "What is the \"distance\" though? When defining a `tree`, you can optionally give a distance function. By default this is the Euclidean distance, but others also work:"
   ]
  },
  {
   "cell_type": "code",
   "execution_count": 20,
   "metadata": {},
   "outputs": [
    {
     "data": {
      "text/plain": [
       "NearestNeighbors.KDTree{StaticArrays.SArray{Tuple{3},Float64,1,3},Distances.Chebyshev,Float64}\n",
       "  Number of points: 10000\n",
       "  Dimensions: 3\n",
       "  Metric: Distances.Chebyshev()\n",
       "  Reordered: true"
      ]
     },
     "execution_count": 20,
     "metadata": {},
     "output_type": "execute_result"
    }
   ],
   "source": [
    "using Distances # to get distance functions\n",
    "funky_tree = KDTree(dataset, Chebyshev())"
   ]
  },
  {
   "cell_type": "code",
   "execution_count": 21,
   "metadata": {},
   "outputs": [
    {
     "data": {
      "text/plain": [
       "12-element Array{Int64,1}:\n",
       " 5147\n",
       " 1571\n",
       " 7354\n",
       "  972\n",
       " 2230\n",
       " 1635\n",
       " 8851\n",
       " 9531\n",
       " 1954\n",
       " 6309\n",
       " 7374\n",
       " 4367"
      ]
     },
     "execution_count": 21,
     "metadata": {},
     "output_type": "execute_result"
    }
   ],
   "source": [
    "n3 = neighborhood(point, funky_tree, plz_come_closer)"
   ]
  },
  {
   "cell_type": "markdown",
   "metadata": {},
   "source": [
    "# Excluding temporal neighbors\n",
    "\n",
    "Before moving on, let's see one last thing:"
   ]
  },
  {
   "cell_type": "code",
   "execution_count": 22,
   "metadata": {},
   "outputs": [
    {
     "data": {
      "text/plain": [
       "3-element StaticArrays.SArray{Tuple{3},Float64,1,3}:\n",
       " 0.590523\n",
       " 0.942317\n",
       " 0.855156"
      ]
     },
     "execution_count": 22,
     "metadata": {},
     "output_type": "execute_result"
    }
   ],
   "source": [
    "# the point I want the neighborhood is now part of my dataset:\n",
    "point = dataset[end]"
   ]
  },
  {
   "cell_type": "code",
   "execution_count": 23,
   "metadata": {},
   "outputs": [
    {
     "name": "stdout",
     "output_type": "stream",
     "text": [
      "[10000]\n",
      "[10000]\n"
     ]
    }
   ],
   "source": [
    "# Reminder of where the tree comes from:\n",
    "tree = KDTree(dataset)\n",
    "\n",
    "# Find suuuuuuuper close neighbors:\n",
    "ε = 0.000001\n",
    "where_u_at = FixedSizeNeighborhood(ε)\n",
    "n2 = neighborhood(point, tree, where_u_at)\n",
    "\n",
    "# Find the nearest neighbor:\n",
    "my_best_friend = FixedMassNeighborhood(1)\n",
    "n3 = neighborhood(point, tree, my_best_friend)\n",
    "\n",
    "println(n2)\n",
    "println(n3)"
   ]
  },
  {
   "cell_type": "code",
   "execution_count": 24,
   "metadata": {},
   "outputs": [
    {
     "data": {
      "text/html": [
       "true"
      ],
      "text/plain": [
       "true"
      ]
     },
     "execution_count": 24,
     "metadata": {},
     "output_type": "execute_result"
    }
   ],
   "source": [
    "length(dataset) == n2[1] == n3[1]"
   ]
  },
  {
   "cell_type": "markdown",
   "metadata": {},
   "source": [
    "*Apparently my best friend is myself. Who would have thought...*\n",
    "\n",
    "**What is happening here is that the `neighborhood` also counted the point itself, since it is also part of the dataset.**\n",
    "\n",
    "* Almost always this behavior needs to be avoided. For this reason, there is a second method for `neighborhood`:\n",
    "\n",
    "```julia\n",
    "neighborhood(point, tree, ntype, idx::Int, w::Int = 1)\n",
    "```\n",
    "\n",
    "In this case, `idx` is the index of the point in the original data. `w` stands for the Theiler window (positive integer).\n",
    "\n",
    "Only points that have index\n",
    "`abs(i - idx) ≥ w` are returned as a neighborhood, to exclude close temporal neighbors.\n",
    "\n",
    "* The default `w=1` is the case of exluding the `point` itself.\n",
    "\n",
    "Let's revisit the last example (using the default value of `w = 1`):"
   ]
  },
  {
   "cell_type": "code",
   "execution_count": 25,
   "metadata": {},
   "outputs": [
    {
     "name": "stdout",
     "output_type": "stream",
     "text": [
      "Int64[]\n",
      "[8737]\n"
     ]
    }
   ],
   "source": [
    "point = dataset[end]\n",
    "idx = length(dataset)\n",
    "\n",
    "n2 = neighborhood(point, tree, where_u_at, idx)\n",
    "n3 = neighborhood(point, tree, my_best_friend, idx)\n",
    "\n",
    "println(n2)\n",
    "println(n3)"
   ]
  },
  {
   "cell_type": "markdown",
   "metadata": {},
   "source": [
    "As you can see, there isn't *any* neighbor of `point` with distance `< 0.000001` in this dataset, but there is always a nearest neighbor:"
   ]
  },
  {
   "cell_type": "code",
   "execution_count": 26,
   "metadata": {},
   "outputs": [
    {
     "data": {
      "text/plain": [
       "3-element StaticArrays.SArray{Tuple{3},Float64,1,3}:\n",
       " 0.598972\n",
       " 0.929458\n",
       " 0.854145"
      ]
     },
     "execution_count": 26,
     "metadata": {},
     "output_type": "execute_result"
    }
   ],
   "source": [
    "dataset[n3[1]]"
   ]
  },
  {
   "cell_type": "markdown",
   "metadata": {},
   "source": [
    "# Documentation Strings"
   ]
  },
  {
   "cell_type": "code",
   "execution_count": 27,
   "metadata": {},
   "outputs": [
    {
     "name": "stdout",
     "output_type": "stream",
     "text": [
      "search: \u001b[1mD\u001b[22m\u001b[1ma\u001b[22m\u001b[1mt\u001b[22m\u001b[1ma\u001b[22m\u001b[1ms\u001b[22m\u001b[1me\u001b[22m\u001b[1mt\u001b[22m write_\u001b[1md\u001b[22m\u001b[1ma\u001b[22m\u001b[1mt\u001b[22m\u001b[1ma\u001b[22m\u001b[1ms\u001b[22m\u001b[1me\u001b[22m\u001b[1mt\u001b[22m rea\u001b[1md\u001b[22m_d\u001b[1ma\u001b[22m\u001b[1mt\u001b[22m\u001b[1ma\u001b[22m\u001b[1ms\u001b[22m\u001b[1me\u001b[22m\u001b[1mt\u001b[22m Abstract\u001b[1mD\u001b[22m\u001b[1ma\u001b[22m\u001b[1mt\u001b[22m\u001b[1ma\u001b[22m\u001b[1ms\u001b[22m\u001b[1me\u001b[22m\u001b[1mt\u001b[22m \u001b[1mD\u001b[22myn\u001b[1ma\u001b[22mmicalSys\u001b[1mt\u001b[22memsB\u001b[1ma\u001b[22m\u001b[1ms\u001b[22m\u001b[1me\u001b[22m\n",
      "\n"
     ]
    },
    {
     "data": {
      "text/markdown": [
       "```\n",
       "Dataset{D, T} <: AbstractDataset{D,T}\n",
       "```\n",
       "\n",
       "A dedicated interface for datasets, i.e. vectors of vectors. It contains *equally-sized datapoints* of length `D`, represented by `SVector{D, T}`.\n",
       "\n",
       "It can be used exactly like a matrix that has each of the columns be the timeseries of each of the dynamic variables. [`trajectory`](@ref) always returns a `Dataset`. For example,\n",
       "\n",
       "```julia\n",
       "ds = Systems.towel()\n",
       "data = trajectory(ds, 1000) #this returns a dataset\n",
       "data[:, 2] # this is the second variable timeseries\n",
       "data[1] == data[1, :] # this is the first datapoint (D-dimensional)\n",
       "data[5, 3] # value of the third variable, at the 5th timepoint\n",
       "```\n",
       "\n",
       "Use `Matrix(dataset)` or `reinterpret(Matrix, dataset)` and `Dataset(matrix)` or `reinterpret(Dataset, matrix)` to convert. The `reinterpret` methods are cheaper but assume that each variable/timeseries is a *row* and not column of the `matrix`.\n",
       "\n",
       "If you have various timeseries vectors `x, y, z, ...` pass them like `Dataset(x, y, z, ...)`. You can use `columns(dataset)` to obtain the reverse, i.e. all columns of the dataset in a tuple.\n"
      ],
      "text/plain": [
       "```\n",
       "Dataset{D, T} <: AbstractDataset{D,T}\n",
       "```\n",
       "\n",
       "A dedicated interface for datasets, i.e. vectors of vectors. It contains *equally-sized datapoints* of length `D`, represented by `SVector{D, T}`.\n",
       "\n",
       "It can be used exactly like a matrix that has each of the columns be the timeseries of each of the dynamic variables. [`trajectory`](@ref) always returns a `Dataset`. For example,\n",
       "\n",
       "```julia\n",
       "ds = Systems.towel()\n",
       "data = trajectory(ds, 1000) #this returns a dataset\n",
       "data[:, 2] # this is the second variable timeseries\n",
       "data[1] == data[1, :] # this is the first datapoint (D-dimensional)\n",
       "data[5, 3] # value of the third variable, at the 5th timepoint\n",
       "```\n",
       "\n",
       "Use `Matrix(dataset)` or `reinterpret(Matrix, dataset)` and `Dataset(matrix)` or `reinterpret(Dataset, matrix)` to convert. The `reinterpret` methods are cheaper but assume that each variable/timeseries is a *row* and not column of the `matrix`.\n",
       "\n",
       "If you have various timeseries vectors `x, y, z, ...` pass them like `Dataset(x, y, z, ...)`. You can use `columns(dataset)` to obtain the reverse, i.e. all columns of the dataset in a tuple.\n"
      ]
     },
     "execution_count": 27,
     "metadata": {},
     "output_type": "execute_result"
    }
   ],
   "source": [
    "?Dataset"
   ]
  },
  {
   "cell_type": "code",
   "execution_count": 28,
   "metadata": {},
   "outputs": [
    {
     "name": "stdout",
     "output_type": "stream",
     "text": [
      "search: \u001b[1mn\u001b[22m\u001b[1me\u001b[22m\u001b[1mi\u001b[22m\u001b[1mg\u001b[22m\u001b[1mh\u001b[22m\u001b[1mb\u001b[22m\u001b[1mo\u001b[22m\u001b[1mr\u001b[22m\u001b[1mh\u001b[22m\u001b[1mo\u001b[22m\u001b[1mo\u001b[22m\u001b[1md\u001b[22m Abstract\u001b[1mN\u001b[22m\u001b[1me\u001b[22m\u001b[1mi\u001b[22m\u001b[1mg\u001b[22m\u001b[1mh\u001b[22m\u001b[1mb\u001b[22m\u001b[1mo\u001b[22m\u001b[1mr\u001b[22m\u001b[1mh\u001b[22m\u001b[1mo\u001b[22m\u001b[1mo\u001b[22m\u001b[1md\u001b[22m FixedSize\u001b[1mN\u001b[22m\u001b[1me\u001b[22m\u001b[1mi\u001b[22m\u001b[1mg\u001b[22m\u001b[1mh\u001b[22m\u001b[1mb\u001b[22m\u001b[1mo\u001b[22m\u001b[1mr\u001b[22m\u001b[1mh\u001b[22m\u001b[1mo\u001b[22m\u001b[1mo\u001b[22m\u001b[1md\u001b[22m\n",
      "\n"
     ]
    },
    {
     "data": {
      "text/markdown": [
       "```\n",
       "neighborhood(point, tree, ntype)\n",
       "neighborhood(point, tree, ntype, n::Int, w::Int = 1)\n",
       "```\n",
       "\n",
       "Return a vector of indices which are the neighborhood of `point` in some `data`, where the `tree` was created using `tree = KDTree(data [, metric])`. The `ntype` is the type of neighborhood and can be any subtype of [`AbstractNeighborhood`](@ref).\n",
       "\n",
       "Use the second method when the `point` belongs in the data, i.e. `point = data[n]`. Then `w` stands for the Theiler window (positive integer). Only points that have index `abs(i - n) ≥ w` are returned as a neighborhood, to exclude close temporal neighbors. The default `w=1` is the case of exluding the `point` itself.\n",
       "\n",
       "## References\n",
       "\n",
       "`neighborhood` simply interfaces the functions `knn` and `inrange` from [NearestNeighbors.jl](https://github.com/KristofferC/NearestNeighbors.jl) by using the argument `ntype`.\n"
      ],
      "text/plain": [
       "```\n",
       "neighborhood(point, tree, ntype)\n",
       "neighborhood(point, tree, ntype, n::Int, w::Int = 1)\n",
       "```\n",
       "\n",
       "Return a vector of indices which are the neighborhood of `point` in some `data`, where the `tree` was created using `tree = KDTree(data [, metric])`. The `ntype` is the type of neighborhood and can be any subtype of [`AbstractNeighborhood`](@ref).\n",
       "\n",
       "Use the second method when the `point` belongs in the data, i.e. `point = data[n]`. Then `w` stands for the Theiler window (positive integer). Only points that have index `abs(i - n) ≥ w` are returned as a neighborhood, to exclude close temporal neighbors. The default `w=1` is the case of exluding the `point` itself.\n",
       "\n",
       "## References\n",
       "\n",
       "`neighborhood` simply interfaces the functions `knn` and `inrange` from [NearestNeighbors.jl](https://github.com/KristofferC/NearestNeighbors.jl) by using the argument `ntype`.\n"
      ]
     },
     "execution_count": 28,
     "metadata": {},
     "output_type": "execute_result"
    }
   ],
   "source": [
    "?neighborhood"
   ]
  },
  {
   "cell_type": "code",
   "execution_count": 29,
   "metadata": {},
   "outputs": [
    {
     "name": "stdout",
     "output_type": "stream",
     "text": [
      "search: \u001b[1mA\u001b[22m\u001b[1mb\u001b[22m\u001b[1ms\u001b[22m\u001b[1mt\u001b[22m\u001b[1mr\u001b[22m\u001b[1ma\u001b[22m\u001b[1mc\u001b[22m\u001b[1mt\u001b[22m\u001b[1mN\u001b[22m\u001b[1me\u001b[22m\u001b[1mi\u001b[22m\u001b[1mg\u001b[22m\u001b[1mh\u001b[22m\u001b[1mb\u001b[22m\u001b[1mo\u001b[22m\u001b[1mr\u001b[22m\u001b[1mh\u001b[22m\u001b[1mo\u001b[22m\u001b[1mo\u001b[22m\u001b[1md\u001b[22m\n",
      "\n"
     ]
    },
    {
     "data": {
      "text/markdown": [
       "```\n",
       "AbstractNeighborhood\n",
       "```\n",
       "\n",
       "Supertype of methods for deciding the neighborhood of points for a given point.\n",
       "\n",
       "Concrete subtypes:\n",
       "\n",
       "  * `FixedMassNeighborhood(K::Int)` : The neighborhood of a point consists of the `K` nearest neighbors of the point.\n",
       "  * `FixedSizeNeighborhood(ε::Real)` : The neighborhood of a point consists of all neighbors that have distance < `ε` from the point.\n",
       "\n",
       "See [`neighborhood`](@ref) for more.\n"
      ],
      "text/plain": [
       "```\n",
       "AbstractNeighborhood\n",
       "```\n",
       "\n",
       "Supertype of methods for deciding the neighborhood of points for a given point.\n",
       "\n",
       "Concrete subtypes:\n",
       "\n",
       "  * `FixedMassNeighborhood(K::Int)` : The neighborhood of a point consists of the `K` nearest neighbors of the point.\n",
       "  * `FixedSizeNeighborhood(ε::Real)` : The neighborhood of a point consists of all neighbors that have distance < `ε` from the point.\n",
       "\n",
       "See [`neighborhood`](@ref) for more.\n"
      ]
     },
     "execution_count": 29,
     "metadata": {},
     "output_type": "execute_result"
    }
   ],
   "source": [
    "?AbstractNeighborhood"
   ]
  }
 ],
 "metadata": {
  "kernelspec": {
   "display_name": "Julia 0.6.2",
   "language": "julia",
   "name": "julia-0.6"
  },
  "language_info": {
   "file_extension": ".jl",
   "mimetype": "application/julia",
   "name": "julia",
   "version": "0.6.2"
  }
 },
 "nbformat": 4,
 "nbformat_minor": 2
}
