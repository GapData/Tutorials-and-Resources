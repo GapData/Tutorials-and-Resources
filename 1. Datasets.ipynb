{
 "cells": [
  {
   "cell_type": "markdown",
   "metadata": {},
   "source": [
    "# Datasets\n",
    "\n",
    "Topics:\n",
    "* How are numerical data returned (and expected) in **DynamicalSystems.jl**.\n",
    "* Basic `Dataset` handling.\n",
    "* Neighborhoods.\n",
    "\n",
    "---\n",
    "\n",
    "Much of the functionality of **DynamicalSystems.jl** uses numerical data. We required a structure that would unify behavior across all functions that either return or require numerical data.\n",
    "\n",
    "This structure is the `Dataset`."
   ]
  },
  {
   "cell_type": "code",
   "execution_count": 1,
   "metadata": {},
   "outputs": [
    {
     "name": "stderr",
     "output_type": "stream",
     "text": [
      "\u001b[1m\u001b[36mINFO: \u001b[39m\u001b[22m\u001b[36mRecompiling stale cache file C:\\Users\\datseris\\.julia\\lib\\v0.6\\ChaosTools.ji for module ChaosTools.\n",
      "\u001b[39m\u001b[1m\u001b[36mINFO: \u001b[39m\u001b[22m\u001b[36mRecompiling stale cache file C:\\Users\\datseris\\.julia\\lib\\v0.6\\DynamicalSystems.ji for module DynamicalSystems.\n",
      "\u001b[39m"
     ]
    }
   ],
   "source": [
    "# Pkg.add(\"DynamicalSystems\")\n",
    "using DynamicalSystems"
   ]
  },
  {
   "cell_type": "code",
   "execution_count": 2,
   "metadata": {},
   "outputs": [
    {
     "data": {
      "text/plain": [
       "2-dimensional Dataset{Float64} with 1000 points:\n",
       " 0.685053   0.73252  \n",
       " 0.794967   0.0889916\n",
       " 0.116339   0.336318 \n",
       " 0.319631   0.872275 \n",
       " 0.175841   0.14791  \n",
       " 0.122834   0.611689 \n",
       " 0.922783   0.493622 \n",
       " 0.400829   0.896963 \n",
       " 0.525705   0.706049 \n",
       " 0.0500803  0.0440846\n",
       " 0.380059   0.832833 \n",
       " 0.707066   0.469951 \n",
       " 0.230633   0.540681 \n",
       " ⋮                   \n",
       " 0.986044   0.267067 \n",
       " 0.611678   0.0413836\n",
       " 0.671049   0.350544 \n",
       " 0.452864   0.751479 \n",
       " 0.0665961  0.603188 \n",
       " 0.721967   0.706961 \n",
       " 0.482561   0.239578 \n",
       " 0.957915   0.215446 \n",
       " 0.131012   0.104273 \n",
       " 0.669764   0.405943 \n",
       " 0.150816   0.804719 \n",
       " 0.36857    0.29134  \n"
      ]
     },
     "execution_count": 2,
     "metadata": {},
     "output_type": "execute_result"
    }
   ],
   "source": [
    "x = rand(1000)\n",
    "y = rand(1000)\n",
    "dataset = Dataset(x,y)"
   ]
  },
  {
   "cell_type": "markdown",
   "metadata": {},
   "source": [
    "A `Dataset` is a subtype of `AbstractDataset`:"
   ]
  },
  {
   "cell_type": "code",
   "execution_count": 3,
   "metadata": {},
   "outputs": [
    {
     "data": {
      "text/html": [
       "true"
      ],
      "text/plain": [
       "true"
      ]
     },
     "execution_count": 3,
     "metadata": {},
     "output_type": "execute_result"
    }
   ],
   "source": [
    "typeof(dataset) <: AbstractDataset"
   ]
  },
  {
   "cell_type": "markdown",
   "metadata": {},
   "source": [
    "All subtypes of `AbstractDataset` contain their data in the field `data`:"
   ]
  },
  {
   "cell_type": "code",
   "execution_count": 4,
   "metadata": {},
   "outputs": [
    {
     "data": {
      "text/plain": [
       "1000-element Array{StaticArrays.SArray{Tuple{2},Float64,1,2},1}:\n",
       " [0.685053, 0.73252]   \n",
       " [0.794967, 0.0889916] \n",
       " [0.116339, 0.336318]  \n",
       " [0.319631, 0.872275]  \n",
       " [0.175841, 0.14791]   \n",
       " [0.122834, 0.611689]  \n",
       " [0.922783, 0.493622]  \n",
       " [0.400829, 0.896963]  \n",
       " [0.525705, 0.706049]  \n",
       " [0.0500803, 0.0440846]\n",
       " [0.380059, 0.832833]  \n",
       " [0.707066, 0.469951]  \n",
       " [0.230633, 0.540681]  \n",
       " ⋮                     \n",
       " [0.986044, 0.267067]  \n",
       " [0.611678, 0.0413836] \n",
       " [0.671049, 0.350544]  \n",
       " [0.452864, 0.751479]  \n",
       " [0.0665961, 0.603188] \n",
       " [0.721967, 0.706961]  \n",
       " [0.482561, 0.239578]  \n",
       " [0.957915, 0.215446]  \n",
       " [0.131012, 0.104273]  \n",
       " [0.669764, 0.405943]  \n",
       " [0.150816, 0.804719]  \n",
       " [0.36857, 0.29134]    "
      ]
     },
     "execution_count": 4,
     "metadata": {},
     "output_type": "execute_result"
    }
   ],
   "source": [
    "dataset.data"
   ]
  },
  {
   "cell_type": "code",
   "execution_count": 5,
   "metadata": {},
   "outputs": [
    {
     "data": {
      "text/plain": [
       "Array{StaticArrays.SArray{Tuple{2},Float64,1,2},1}"
      ]
     },
     "execution_count": 5,
     "metadata": {},
     "output_type": "execute_result"
    }
   ],
   "source": [
    "typeof(dataset.data)"
   ]
  },
  {
   "cell_type": "markdown",
   "metadata": {},
   "source": [
    "* This means that the data are contained in a `Vector` of `SVector`s (which are statically sized vectors)."
   ]
  },
  {
   "cell_type": "markdown",
   "metadata": {},
   "source": [
    "We chose a vector of `SVectors` as the internal representation of the data because it gives big performance gains in many functions of the library."
   ]
  },
  {
   "cell_type": "markdown",
   "metadata": {},
   "source": [
    "# Creating a Dataset\n",
    "\n",
    "Most functions of **DynamicalSystems.jl** that return numerical data, return it in the form of a `Dataset`.\n",
    "\n",
    "If you already have the data though, there are many ways to create a dataset:"
   ]
  },
  {
   "cell_type": "code",
   "execution_count": 6,
   "metadata": {},
   "outputs": [
    {
     "data": {
      "text/plain": [
       "5-dimensional Dataset{Float64} with 1000 points:\n",
       " 0.938389   0.211422   0.226546    0.763744   0.897615 \n",
       " 0.549869   0.247598   0.964724    0.808817   0.666845 \n",
       " 0.0948477  0.0259562  0.903702    0.0762062  0.670173 \n",
       " 0.659321   0.682475   0.468257    0.101155   0.172539 \n",
       " 0.551967   0.133988   0.968181    0.217272   0.763818 \n",
       " 0.616987   0.390742   0.627401    0.336416   0.326163 \n",
       " 0.252229   0.457863   0.37837     0.362139   0.634866 \n",
       " 0.625016   0.90596    0.23407     0.429219   0.0805099\n",
       " 0.768675   0.627347   0.322967    0.258017   0.803529 \n",
       " 0.183717   0.265727   0.723414    0.732449   0.799991 \n",
       " 0.500832   0.503597   0.785832    0.48966    0.0521491\n",
       " 0.700686   0.14947    0.164091    0.851882   0.208668 \n",
       " 0.105927   0.87894    0.173601    0.890038   0.467465 \n",
       " ⋮                                                     \n",
       " 0.154146   0.720938   0.747165    0.284099   0.0420155\n",
       " 0.977539   0.159134   0.0332846   0.65252    0.187167 \n",
       " 0.341352   0.802107   0.00794109  0.660082   0.768523 \n",
       " 0.309135   0.138901   0.91027     0.591073   0.852718 \n",
       " 0.102664   0.572281   0.722934    0.210902   0.874471 \n",
       " 0.94268    0.648381   0.88169     0.77583    0.467059 \n",
       " 0.332791   0.339837   0.895419    0.849166   0.0866555\n",
       " 0.824787   0.712253   0.594463    0.239959   0.0993452\n",
       " 0.302522   0.658449   0.656556    0.260534   0.275279 \n",
       " 0.818533   0.511116   0.767536    0.227368   0.719362 \n",
       " 0.356739   0.961995   0.139519    0.0601201  0.188385 \n",
       " 0.452464   0.428151   0.114611    0.844703   0.672522 \n"
      ]
     },
     "execution_count": 6,
     "metadata": {},
     "output_type": "execute_result"
    }
   ],
   "source": [
    "# From matrix where each column is one variable:\n",
    "m = rand(1000, 5)\n",
    "data = Dataset(m)"
   ]
  },
  {
   "cell_type": "code",
   "execution_count": 7,
   "metadata": {},
   "outputs": [
    {
     "data": {
      "text/plain": [
       "5-dimensional Dataset{Float64} with 1000 points:\n",
       " 0.938389   0.211422   0.226546    0.763744   0.897615 \n",
       " 0.549869   0.247598   0.964724    0.808817   0.666845 \n",
       " 0.0948477  0.0259562  0.903702    0.0762062  0.670173 \n",
       " 0.659321   0.682475   0.468257    0.101155   0.172539 \n",
       " 0.551967   0.133988   0.968181    0.217272   0.763818 \n",
       " 0.616987   0.390742   0.627401    0.336416   0.326163 \n",
       " 0.252229   0.457863   0.37837     0.362139   0.634866 \n",
       " 0.625016   0.90596    0.23407     0.429219   0.0805099\n",
       " 0.768675   0.627347   0.322967    0.258017   0.803529 \n",
       " 0.183717   0.265727   0.723414    0.732449   0.799991 \n",
       " 0.500832   0.503597   0.785832    0.48966    0.0521491\n",
       " 0.700686   0.14947    0.164091    0.851882   0.208668 \n",
       " 0.105927   0.87894    0.173601    0.890038   0.467465 \n",
       " ⋮                                                     \n",
       " 0.154146   0.720938   0.747165    0.284099   0.0420155\n",
       " 0.977539   0.159134   0.0332846   0.65252    0.187167 \n",
       " 0.341352   0.802107   0.00794109  0.660082   0.768523 \n",
       " 0.309135   0.138901   0.91027     0.591073   0.852718 \n",
       " 0.102664   0.572281   0.722934    0.210902   0.874471 \n",
       " 0.94268    0.648381   0.88169     0.77583    0.467059 \n",
       " 0.332791   0.339837   0.895419    0.849166   0.0866555\n",
       " 0.824787   0.712253   0.594463    0.239959   0.0993452\n",
       " 0.302522   0.658449   0.656556    0.260534   0.275279 \n",
       " 0.818533   0.511116   0.767536    0.227368   0.719362 \n",
       " 0.356739   0.961995   0.139519    0.0601201  0.188385 \n",
       " 0.452464   0.428151   0.114611    0.844703   0.672522 \n"
      ]
     },
     "execution_count": 7,
     "metadata": {},
     "output_type": "execute_result"
    }
   ],
   "source": [
    "# use re-interpret if each *row* is one variable:\n",
    "m = transpose(m)\n",
    "data2 = reinterpret(Dataset, m)"
   ]
  },
  {
   "cell_type": "code",
   "execution_count": 8,
   "metadata": {},
   "outputs": [
    {
     "data": {
      "text/html": [
       "true"
      ],
      "text/plain": [
       "true"
      ]
     },
     "execution_count": 8,
     "metadata": {},
     "output_type": "execute_result"
    }
   ],
   "source": [
    "data2 == data"
   ]
  },
  {
   "cell_type": "code",
   "execution_count": 9,
   "metadata": {},
   "outputs": [
    {
     "ename": "LoadError",
     "evalue": "\u001b[91mBoundsError: attempt to access 100-element Array{Float64,1} at index [101]\u001b[39m",
     "output_type": "error",
     "traceback": [
      "\u001b[91mBoundsError: attempt to access 100-element Array{Float64,1} at index [101]\u001b[39m",
      "",
      "Stacktrace:",
      " [1] \u001b[1mmacro expansion\u001b[22m\u001b[22m at \u001b[1mC:\\Users\\datseris\\.julia\\v0.6\\DynamicalSystemsBase\\src\\dataset.jl:148\u001b[22m\u001b[22m [inlined]",
      " [2] \u001b[1m_dataset\u001b[22m\u001b[22m\u001b[1m(\u001b[22m\u001b[22m::Array{Float64,1}, ::Array{Float64,1}\u001b[1m)\u001b[22m\u001b[22m at \u001b[1mC:\\Users\\datseris\\.julia\\v0.6\\DynamicalSystemsBase\\src\\dataset.jl:142\u001b[22m\u001b[22m",
      " [3] \u001b[1mDynamicalSystemsBase.Dataset\u001b[22m\u001b[22m\u001b[1m(\u001b[22m\u001b[22m::Array{Float64,1}, ::Array{Float64,1}\u001b[1m)\u001b[22m\u001b[22m at \u001b[1mC:\\Users\\datseris\\.julia\\v0.6\\DynamicalSystemsBase\\src\\dataset.jl:155\u001b[22m\u001b[22m",
      " [4] \u001b[1minclude_string\u001b[22m\u001b[22m\u001b[1m(\u001b[22m\u001b[22m::String, ::String\u001b[1m)\u001b[22m\u001b[22m at \u001b[1m.\\loading.jl:522\u001b[22m\u001b[22m"
     ]
    }
   ],
   "source": [
    "# From individual columns\n",
    "x, y = rand(1000), rand(1000)\n",
    "data = Dataset(x, y)\n",
    "\n",
    "# All points of a dataset must be equally sized:\n",
    "z = rand(100)\n",
    "Dataset(x, z)"
   ]
  },
  {
   "cell_type": "markdown",
   "metadata": {},
   "source": [
    "# Handling a Dataset\n",
    "\n",
    "** Subtypes of `AbstractDataset` behave like some `Matrix` where each *row* is a *point* of the dataset, while each *column* is *one dynamic variable*. **\n",
    "\n",
    "* The reason we choose this approach is because traditionally this is how scientific data are recorded, exported and passed around."
   ]
  },
  {
   "cell_type": "code",
   "execution_count": 10,
   "metadata": {},
   "outputs": [
    {
     "data": {
      "text/plain": [
       "DynamicalSystemsBase.Dataset{3,Float64}"
      ]
     },
     "execution_count": 10,
     "metadata": {},
     "output_type": "execute_result"
    }
   ],
   "source": [
    "# Create some random dataset:\n",
    "dataset = Dataset(rand(10000, 3));\n",
    "typeof(dataset)"
   ]
  },
  {
   "cell_type": "code",
   "execution_count": 11,
   "metadata": {},
   "outputs": [
    {
     "data": {
      "text/plain": [
       "10000-element Array{Float64,1}:\n",
       " 0.228718\n",
       " 0.888424\n",
       " 0.977115\n",
       " 0.155934\n",
       " 0.88932 \n",
       " 0.145428\n",
       " 0.430117\n",
       " 0.90077 \n",
       " 0.601241\n",
       " 0.296718\n",
       " 0.359361\n",
       " 0.681379\n",
       " 0.504481\n",
       " ⋮       \n",
       " 0.178406\n",
       " 0.680972\n",
       " 0.688331\n",
       " 0.385725\n",
       " 0.588239\n",
       " 0.498226\n",
       " 0.423515\n",
       " 0.956837\n",
       " 0.995455\n",
       " 0.193505\n",
       " 0.736879\n",
       " 0.159393"
      ]
     },
     "execution_count": 11,
     "metadata": {},
     "output_type": "execute_result"
    }
   ],
   "source": [
    "dataset[:, 2] # this is the second variable series"
   ]
  },
  {
   "cell_type": "code",
   "execution_count": 12,
   "metadata": {},
   "outputs": [
    {
     "data": {
      "text/plain": [
       "3-element StaticArrays.SArray{Tuple{3},Float64,1,3}:\n",
       " 0.532608\n",
       " 0.228718\n",
       " 0.848861"
      ]
     },
     "execution_count": 12,
     "metadata": {},
     "output_type": "execute_result"
    }
   ],
   "source": [
    "dataset[1, :] # this is the first datapoint (3-dimensional)"
   ]
  },
  {
   "cell_type": "code",
   "execution_count": 13,
   "metadata": {},
   "outputs": [
    {
     "data": {
      "text/plain": [
       "3-element StaticArrays.SArray{Tuple{3},Float64,1,3}:\n",
       " 0.532608\n",
       " 0.228718\n",
       " 0.848861"
      ]
     },
     "execution_count": 13,
     "metadata": {},
     "output_type": "execute_result"
    }
   ],
   "source": [
    "dataset[1] # acessing with a single index is like accessing a vector of points"
   ]
  },
  {
   "cell_type": "code",
   "execution_count": 14,
   "metadata": {
    "scrolled": true
   },
   "outputs": [
    {
     "data": {
      "text/html": [
       "0.8893197684782828"
      ],
      "text/plain": [
       "0.8893197684782828"
      ]
     },
     "execution_count": 14,
     "metadata": {},
     "output_type": "execute_result"
    }
   ],
   "source": [
    "dataset[5, 2] # value of the second variable, at the 5th timepoint"
   ]
  },
  {
   "cell_type": "code",
   "execution_count": 15,
   "metadata": {},
   "outputs": [
    {
     "data": {
      "text/plain": [
       "(0.4997359628293707, 0.5005101728772056)"
      ]
     },
     "execution_count": 15,
     "metadata": {},
     "output_type": "execute_result"
    }
   ],
   "source": [
    "# get columns\n",
    "x, y = columns(dataset)\n",
    "mean(x), mean(y)"
   ]
  },
  {
   "cell_type": "code",
   "execution_count": 16,
   "metadata": {},
   "outputs": [
    {
     "data": {
      "text/html": [
       "5015.252874108764"
      ],
      "text/plain": [
       "5015.252874108764"
      ]
     },
     "execution_count": 16,
     "metadata": {},
     "output_type": "execute_result"
    }
   ],
   "source": [
    "# iteration:\n",
    "f = 0.0\n",
    "for point ∈ dataset  # same as `point ∈ dataset` , do \\in<tab> for ∈\n",
    "    f += mean(point)\n",
    "end\n",
    "f"
   ]
  },
  {
   "cell_type": "code",
   "execution_count": 17,
   "metadata": {},
   "outputs": [
    {
     "data": {
      "text/plain": [
       "([0.000148504, 0.000173894, 7.52062e-5], [0.999936, 0.999983, 0.999981])"
      ]
     },
     "execution_count": 17,
     "metadata": {},
     "output_type": "execute_result"
    }
   ],
   "source": [
    "# minima, maxima\n",
    "mini = minima(dataset)\n",
    "maxi = maxima(dataset)\n",
    "mini, maxi = minmaxima(dataset)"
   ]
  },
  {
   "cell_type": "code",
   "execution_count": 18,
   "metadata": {},
   "outputs": [
    {
     "name": "stdout",
     "output_type": "stream",
     "text": [
      "  26.685 μs (1 allocation: 112 bytes)\n",
      "  26.685 μs (1 allocation: 112 bytes)\n",
      "  45.981 μs (2 allocations: 224 bytes)\n"
     ]
    }
   ],
   "source": [
    "# Function minmaxima is faster than using the two individual ones\n",
    "using BenchmarkTools\n",
    "@btime maxima($dataset)\n",
    "@btime minima($dataset)\n",
    "@btime minmaxima($dataset);"
   ]
  },
  {
   "cell_type": "markdown",
   "metadata": {},
   "source": [
    "# I/O\n",
    "Input/output functionality for an `AbstractDataset` is already achieved using base Julia:\n",
    "1. `writedlm` for writting\n",
    "2. `readdlm` for reading.\n",
    "\n",
    "To write and read a dataset, simply use the `data` field:"
   ]
  },
  {
   "cell_type": "code",
   "execution_count": 19,
   "metadata": {},
   "outputs": [
    {
     "data": {
      "text/plain": [
       "3-dimensional Dataset{Float64} with 1000 points:\n",
       " 0.156433   0.996693    0.760031  \n",
       " 0.449242   0.830958    0.700282  \n",
       " 0.228454   0.46779     0.702444  \n",
       " 0.71223    0.535813    0.861171  \n",
       " 0.422346   0.132154    0.111887  \n",
       " 0.559868   0.151468    0.583483  \n",
       " 0.406699   0.00833475  0.567344  \n",
       " 0.452598   0.121519    0.982545  \n",
       " 0.437886   0.67973     0.839332  \n",
       " 0.684247   0.344526    0.0967143 \n",
       " 0.260073   0.583528    0.547732  \n",
       " 0.912595   0.723635    0.478863  \n",
       " 0.0173768  0.815204    0.902385  \n",
       " ⋮                                \n",
       " 0.139292   0.897499    0.0726134 \n",
       " 0.921404   0.254743    0.656177  \n",
       " 0.966753   0.643486    0.488232  \n",
       " 0.191791   0.374992    0.291254  \n",
       " 0.256613   0.288416    0.00841836\n",
       " 0.282451   0.181273    0.981363  \n",
       " 0.697728   0.0568779   0.683246  \n",
       " 0.376258   0.760088    0.322551  \n",
       " 0.458258   0.645002    0.952668  \n",
       " 0.309075   0.351741    0.906157  \n",
       " 0.774603   0.818155    0.625893  \n",
       " 0.585434   0.0391121   0.514847  \n"
      ]
     },
     "execution_count": 19,
     "metadata": {},
     "output_type": "execute_result"
    }
   ],
   "source": [
    "dataset = Dataset(rand(1000,3))\n",
    "\n",
    "# I will write and read using delimiter ','\n",
    "writedlm(\"data.txt\", dataset.data, ',')\n",
    "\n",
    "# Load the data from text:\n",
    "data = Dataset(readdlm(\"data.txt\", ',', Float64))\n",
    "# Don't forget to convert the matrix to a Dataset when reading!"
   ]
  },
  {
   "cell_type": "code",
   "execution_count": 20,
   "metadata": {},
   "outputs": [
    {
     "data": {
      "text/html": [
       "false"
      ],
      "text/plain": [
       "false"
      ]
     },
     "execution_count": 20,
     "metadata": {},
     "output_type": "execute_result"
    }
   ],
   "source": [
    "# delete the dummy file we created:\n",
    "rm(\"data.txt\")\n",
    "isfile(\"data.txt\")"
   ]
  },
  {
   "cell_type": "markdown",
   "metadata": {},
   "source": [
    "# Neighborhoods \n",
    "\n",
    "A \"neighborhood\" is a collection of points that is near a given point. `Dataset`s interface the module [`NearestNeighbors`](https://github.com/KristofferC/NearestNeighbors.jl) in order to find this neighborhood.\n",
    "\n",
    "We use the function `neighborhood`. The call singature is:\n",
    "```julia\n",
    "neighborhood(point, tree, ntype)\n",
    "```\n"
   ]
  },
  {
   "cell_type": "markdown",
   "metadata": {},
   "source": [
    "`point` is simply the query point. `tree` is the structure required by [`NearestNeighbors`](https://github.com/KristofferC/NearestNeighbors.jl), and is obtained simply by:"
   ]
  },
  {
   "cell_type": "code",
   "execution_count": 21,
   "metadata": {},
   "outputs": [
    {
     "data": {
      "text/plain": [
       "NearestNeighbors.KDTree{StaticArrays.SArray{Tuple{3},Float64,1,3},Distances.Euclidean,Float64}\n",
       "  Number of points: 1000\n",
       "  Dimensions: 3\n",
       "  Metric: Distances.Euclidean(0.0)\n",
       "  Reordered: true"
      ]
     },
     "execution_count": 21,
     "metadata": {},
     "output_type": "execute_result"
    }
   ],
   "source": [
    "tree = KDTree(dataset)"
   ]
  },
  {
   "cell_type": "markdown",
   "metadata": {},
   "source": [
    "The third argument to `neighborhood` is the *type* of the neighborhood. \n",
    "\n",
    "* There are two types of neighborhoods!\n",
    "\n",
    "The first one is defined as the `k` nearest points to a given point. It is represented in code by:"
   ]
  },
  {
   "cell_type": "code",
   "execution_count": 22,
   "metadata": {},
   "outputs": [
    {
     "data": {
      "text/plain": [
       "DynamicalSystemsBase.FixedMassNeighborhood(3)"
      ]
     },
     "execution_count": 22,
     "metadata": {},
     "output_type": "execute_result"
    }
   ],
   "source": [
    "mybuddies = FixedMassNeighborhood(3) # for experts: does a knn search"
   ]
  },
  {
   "cell_type": "code",
   "execution_count": 23,
   "metadata": {},
   "outputs": [
    {
     "data": {
      "text/plain": [
       "3-element Array{Int64,1}:\n",
       " 374\n",
       " 245\n",
       " 169"
      ]
     },
     "execution_count": 23,
     "metadata": {},
     "output_type": "execute_result"
    }
   ],
   "source": [
    "point = ones(3)\n",
    "n = neighborhood(point, tree, mybuddies)"
   ]
  },
  {
   "cell_type": "markdown",
   "metadata": {},
   "source": [
    "Notice that the `neighborhood` function does not return the points themselves, but rather the indices of the points in the original data:"
   ]
  },
  {
   "cell_type": "code",
   "execution_count": 24,
   "metadata": {},
   "outputs": [
    {
     "name": "stdout",
     "output_type": "stream",
     "text": [
      "neighborhood of [1.0, 1.0, 1.0] is:\n",
      "[0.894917, 0.911732, 0.980697]\n",
      "[0.993621, 0.987839, 0.881758]\n",
      "[0.877541, 0.937721, 0.986534]\n"
     ]
    }
   ],
   "source": [
    "println(\"neighborhood of $(point) is:\")\n",
    "\n",
    "for i in n\n",
    "    println(dataset[i])\n",
    "end"
   ]
  },
  {
   "cell_type": "markdown",
   "metadata": {},
   "source": [
    "---\n",
    "\n",
    "The second type of neighborhood is all the points that are within some given distance `ε` from a point.\n",
    "\n",
    "In code, we represent this as:"
   ]
  },
  {
   "cell_type": "code",
   "execution_count": 25,
   "metadata": {},
   "outputs": [
    {
     "data": {
      "text/plain": [
       "DynamicalSystemsBase.FixedSizeNeighborhood(0.001)"
      ]
     },
     "execution_count": 25,
     "metadata": {},
     "output_type": "execute_result"
    }
   ],
   "source": [
    "where_u_at = FixedSizeNeighborhood(0.001) # for experts: does an inrange search"
   ]
  },
  {
   "cell_type": "code",
   "execution_count": 26,
   "metadata": {},
   "outputs": [
    {
     "data": {
      "text/plain": [
       "0-element Array{Int64,1}"
      ]
     },
     "execution_count": 26,
     "metadata": {},
     "output_type": "execute_result"
    }
   ],
   "source": [
    "n2 = neighborhood(point, tree, where_u_at)"
   ]
  },
  {
   "cell_type": "code",
   "execution_count": 27,
   "metadata": {},
   "outputs": [
    {
     "data": {
      "text/plain": [
       "5-element Array{Int64,1}:\n",
       " 350\n",
       " 169\n",
       " 374\n",
       " 245\n",
       " 669"
      ]
     },
     "execution_count": 27,
     "metadata": {},
     "output_type": "execute_result"
    }
   ],
   "source": [
    "plz_come_closer = FixedSizeNeighborhood(0.2)\n",
    "n2 = neighborhood(point, tree, plz_come_closer)"
   ]
  },
  {
   "cell_type": "code",
   "execution_count": 28,
   "metadata": {
    "scrolled": true
   },
   "outputs": [
    {
     "name": "stdout",
     "output_type": "stream",
     "text": [
      "neighborhood of [1.0, 1.0, 1.0] is:\n",
      "[0.867781, 0.959831, 0.958156]\n",
      "[0.877541, 0.937721, 0.986534]\n",
      "[0.894917, 0.911732, 0.980697]\n",
      "[0.993621, 0.987839, 0.881758]\n",
      "[0.987789, 0.810901, 0.988053]\n"
     ]
    }
   ],
   "source": [
    "println(\"neighborhood of $(point) is:\")\n",
    "\n",
    "for i in n2\n",
    "    println(dataset[i])\n",
    "end"
   ]
  },
  {
   "cell_type": "markdown",
   "metadata": {},
   "source": [
    "Okay, so points that have distance < ε are accepted as a neighborhood.\n",
    "\n",
    "What is the \"distance\" though? When defining a `tree`, you can optionally give a distance function. By default this is the Euclidean distance, but others also work:"
   ]
  },
  {
   "cell_type": "code",
   "execution_count": 29,
   "metadata": {},
   "outputs": [
    {
     "data": {
      "text/plain": [
       "NearestNeighbors.KDTree{StaticArrays.SArray{Tuple{3},Float64,1,3},Distances.Chebyshev,Float64}\n",
       "  Number of points: 1000\n",
       "  Dimensions: 3\n",
       "  Metric: Distances.Chebyshev()\n",
       "  Reordered: true"
      ]
     },
     "execution_count": 29,
     "metadata": {},
     "output_type": "execute_result"
    }
   ],
   "source": [
    "using Distances # to get distance functions\n",
    "funky_tree = KDTree(dataset, Chebyshev())"
   ]
  },
  {
   "cell_type": "code",
   "execution_count": 30,
   "metadata": {},
   "outputs": [
    {
     "data": {
      "text/plain": [
       "10-element Array{Int64,1}:\n",
       " 824\n",
       " 350\n",
       " 169\n",
       " 642\n",
       " 144\n",
       " 275\n",
       " 374\n",
       " 245\n",
       " 686\n",
       " 669"
      ]
     },
     "execution_count": 30,
     "metadata": {},
     "output_type": "execute_result"
    }
   ],
   "source": [
    "n3 = neighborhood(point, funky_tree, plz_come_closer)"
   ]
  },
  {
   "cell_type": "markdown",
   "metadata": {},
   "source": [
    "# Excluding temporal neighbors\n",
    "\n",
    "Before moving on, let's see one last thing:"
   ]
  },
  {
   "cell_type": "code",
   "execution_count": 31,
   "metadata": {},
   "outputs": [
    {
     "data": {
      "text/plain": [
       "3-element StaticArrays.SArray{Tuple{3},Float64,1,3}:\n",
       " 0.585434 \n",
       " 0.0391121\n",
       " 0.514847 "
      ]
     },
     "execution_count": 31,
     "metadata": {},
     "output_type": "execute_result"
    }
   ],
   "source": [
    "# the point I want the neighborhood is now part of my dataset:\n",
    "point = dataset[end]"
   ]
  },
  {
   "cell_type": "code",
   "execution_count": 32,
   "metadata": {},
   "outputs": [
    {
     "name": "stdout",
     "output_type": "stream",
     "text": [
      "[1000]\n",
      "[1000]\n"
     ]
    }
   ],
   "source": [
    "# Let's calculate again the two neighborhoods\n",
    "\n",
    "tree = KDTree(dataset)\n",
    "\n",
    "# Find suuuuuuuper close neighbors:\n",
    "ε = 0.000001\n",
    "where_u_at = FixedSizeNeighborhood(ε)\n",
    "n2 = neighborhood(point, tree, where_u_at)\n",
    "\n",
    "# Find the nearest neighbor:\n",
    "my_best_friend = FixedMassNeighborhood(1)\n",
    "n3 = neighborhood(point, tree, my_best_friend)\n",
    "\n",
    "println(n2)\n",
    "println(n3)"
   ]
  },
  {
   "cell_type": "code",
   "execution_count": 33,
   "metadata": {},
   "outputs": [
    {
     "data": {
      "text/html": [
       "true"
      ],
      "text/plain": [
       "true"
      ]
     },
     "execution_count": 33,
     "metadata": {},
     "output_type": "execute_result"
    }
   ],
   "source": [
    "length(dataset) == n2[1] == n3[1]"
   ]
  },
  {
   "cell_type": "markdown",
   "metadata": {},
   "source": [
    "*Apparently my best friend is myself. Who would have thought...*\n",
    "\n",
    "**What is happening here is that the `neighborhood` also counted the point itself, since it is also part of the dataset.**\n",
    "\n",
    "* Almost always this behavior needs to be avoided. For this reason, there is a second method for `neighborhood`:\n",
    "\n",
    "```julia\n",
    "neighborhood(point, tree, ntype, idx::Int, w::Int = 1)\n",
    "```\n",
    "\n",
    "In this case, `idx` is the index of the point in the original data. `w` stands for the Theiler window (positive integer).\n",
    "\n",
    "Only points that have index\n",
    "`abs(i - idx) ≥ w` are returned as a neighborhood, to exclude close temporal neighbors.\n",
    "\n",
    "* The default `w=1` is the case of exluding the `point` itself.\n",
    "\n",
    "Let's revisit the last example (using the default value of `w = 1`):"
   ]
  },
  {
   "cell_type": "code",
   "execution_count": 34,
   "metadata": {},
   "outputs": [
    {
     "name": "stdout",
     "output_type": "stream",
     "text": [
      "Int64[]\n",
      "[216]\n"
     ]
    }
   ],
   "source": [
    "point = dataset[end]\n",
    "idx = length(dataset)\n",
    "\n",
    "n2 = neighborhood(point, tree, where_u_at, idx)\n",
    "n3 = neighborhood(point, tree, my_best_friend, idx)\n",
    "\n",
    "println(n2)\n",
    "println(n3)"
   ]
  },
  {
   "cell_type": "markdown",
   "metadata": {},
   "source": [
    "As you can see, there isn't *any* neighbor of `point` with distance `< 0.000001` in this dataset, but there is always a nearest neighbor:"
   ]
  },
  {
   "cell_type": "code",
   "execution_count": 35,
   "metadata": {},
   "outputs": [
    {
     "name": "stdout",
     "output_type": "stream",
     "text": [
      "[0.588396, 0.100388, 0.524337] is the nearest neighbor of [0.585434, 0.0391121, 0.514847]\n"
     ]
    }
   ],
   "source": [
    "println(dataset[n3[1]], \" is the nearest neighbor of \", point)"
   ]
  },
  {
   "cell_type": "markdown",
   "metadata": {},
   "source": [
    "# Documentation Strings"
   ]
  },
  {
   "cell_type": "code",
   "execution_count": 36,
   "metadata": {},
   "outputs": [
    {
     "name": "stdout",
     "output_type": "stream",
     "text": [
      "search: \u001b[1mD\u001b[22m\u001b[1ma\u001b[22m\u001b[1mt\u001b[22m\u001b[1ma\u001b[22m\u001b[1ms\u001b[22m\u001b[1me\u001b[22m\u001b[1mt\u001b[22m Abstract\u001b[1mD\u001b[22m\u001b[1ma\u001b[22m\u001b[1mt\u001b[22m\u001b[1ma\u001b[22m\u001b[1ms\u001b[22m\u001b[1me\u001b[22m\u001b[1mt\u001b[22m \u001b[1mD\u001b[22myn\u001b[1ma\u001b[22mmicalSys\u001b[1mt\u001b[22memsB\u001b[1ma\u001b[22m\u001b[1ms\u001b[22m\u001b[1me\u001b[22m @\u001b[1md\u001b[22m\u001b[1ma\u001b[22m\u001b[1mt\u001b[22meform\u001b[1ma\u001b[22mt_\u001b[1ms\u001b[22mtr\n",
      "\n"
     ]
    },
    {
     "data": {
      "text/markdown": [
       "```\n",
       "Dataset{D, T} <: AbstractDataset{D,T}\n",
       "```\n",
       "\n",
       "A dedicated interface for datasets, i.e. vectors of vectors. It contains *equally-sized datapoints* of length `D`, represented by `SVector{D, T}`.\n",
       "\n",
       "It can be used exactly like a matrix that has each of the columns be the timeseries of each of the dynamic variables. [`trajectory`](@ref) always returns a `Dataset`. For example,\n",
       "\n",
       "```julia\n",
       "ds = Systems.towel()\n",
       "data = trajectory(ds, 1000) #this returns a dataset\n",
       "data[:, 2] # this is the second variable timeseries\n",
       "data[1] == data[1, :] # this is the first datapoint (D-dimensional)\n",
       "data[5, 3] # value of the third variable, at the 5th timepoint\n",
       "```\n",
       "\n",
       "Use `Matrix(dataset)` or `reinterpret(Matrix, dataset)` and `Dataset(matrix)` or `reinterpret(Dataset, matrix)` to convert. The `reinterpret` methods are cheaper but assume that each variable/timeseries is a *row* and not column of the `matrix`.\n",
       "\n",
       "If you have various timeseries vectors `x, y, z, ...` pass them like `Dataset(x, y, z, ...)`. You can use `columns(dataset)` to obtain the reverse, i.e. all columns of the dataset in a tuple.\n"
      ],
      "text/plain": [
       "```\n",
       "Dataset{D, T} <: AbstractDataset{D,T}\n",
       "```\n",
       "\n",
       "A dedicated interface for datasets, i.e. vectors of vectors. It contains *equally-sized datapoints* of length `D`, represented by `SVector{D, T}`.\n",
       "\n",
       "It can be used exactly like a matrix that has each of the columns be the timeseries of each of the dynamic variables. [`trajectory`](@ref) always returns a `Dataset`. For example,\n",
       "\n",
       "```julia\n",
       "ds = Systems.towel()\n",
       "data = trajectory(ds, 1000) #this returns a dataset\n",
       "data[:, 2] # this is the second variable timeseries\n",
       "data[1] == data[1, :] # this is the first datapoint (D-dimensional)\n",
       "data[5, 3] # value of the third variable, at the 5th timepoint\n",
       "```\n",
       "\n",
       "Use `Matrix(dataset)` or `reinterpret(Matrix, dataset)` and `Dataset(matrix)` or `reinterpret(Dataset, matrix)` to convert. The `reinterpret` methods are cheaper but assume that each variable/timeseries is a *row* and not column of the `matrix`.\n",
       "\n",
       "If you have various timeseries vectors `x, y, z, ...` pass them like `Dataset(x, y, z, ...)`. You can use `columns(dataset)` to obtain the reverse, i.e. all columns of the dataset in a tuple.\n"
      ]
     },
     "execution_count": 36,
     "metadata": {},
     "output_type": "execute_result"
    }
   ],
   "source": [
    "?Dataset"
   ]
  },
  {
   "cell_type": "code",
   "execution_count": 37,
   "metadata": {},
   "outputs": [
    {
     "name": "stdout",
     "output_type": "stream",
     "text": [
      "search: \u001b[1mn\u001b[22m\u001b[1me\u001b[22m\u001b[1mi\u001b[22m\u001b[1mg\u001b[22m\u001b[1mh\u001b[22m\u001b[1mb\u001b[22m\u001b[1mo\u001b[22m\u001b[1mr\u001b[22m\u001b[1mh\u001b[22m\u001b[1mo\u001b[22m\u001b[1mo\u001b[22m\u001b[1md\u001b[22m Abstract\u001b[1mN\u001b[22m\u001b[1me\u001b[22m\u001b[1mi\u001b[22m\u001b[1mg\u001b[22m\u001b[1mh\u001b[22m\u001b[1mb\u001b[22m\u001b[1mo\u001b[22m\u001b[1mr\u001b[22m\u001b[1mh\u001b[22m\u001b[1mo\u001b[22m\u001b[1mo\u001b[22m\u001b[1md\u001b[22m FixedSize\u001b[1mN\u001b[22m\u001b[1me\u001b[22m\u001b[1mi\u001b[22m\u001b[1mg\u001b[22m\u001b[1mh\u001b[22m\u001b[1mb\u001b[22m\u001b[1mo\u001b[22m\u001b[1mr\u001b[22m\u001b[1mh\u001b[22m\u001b[1mo\u001b[22m\u001b[1mo\u001b[22m\u001b[1md\u001b[22m\n",
      "\n"
     ]
    },
    {
     "data": {
      "text/markdown": [
       "```\n",
       "neighborhood(point, tree, ntype)\n",
       "neighborhood(point, tree, ntype, n::Int, w::Int = 1)\n",
       "```\n",
       "\n",
       "Return a vector of indices which are the neighborhood of `point` in some `data`, where the `tree` was created using `tree = KDTree(data [, metric])`. The `ntype` is the type of neighborhood and can be any subtype of [`AbstractNeighborhood`](@ref).\n",
       "\n",
       "Use the second method when the `point` belongs in the data, i.e. `point = data[n]`. Then `w` stands for the Theiler window (positive integer). Only points that have index `abs(i - n) ≥ w` are returned as a neighborhood, to exclude close temporal neighbors. The default `w=1` is the case of excluding the `point` itself.\n",
       "\n",
       "## References\n",
       "\n",
       "`neighborhood` simply interfaces the functions `knn` and `inrange` from [NearestNeighbors.jl](https://github.com/KristofferC/NearestNeighbors.jl) by using the argument `ntype`.\n"
      ],
      "text/plain": [
       "```\n",
       "neighborhood(point, tree, ntype)\n",
       "neighborhood(point, tree, ntype, n::Int, w::Int = 1)\n",
       "```\n",
       "\n",
       "Return a vector of indices which are the neighborhood of `point` in some `data`, where the `tree` was created using `tree = KDTree(data [, metric])`. The `ntype` is the type of neighborhood and can be any subtype of [`AbstractNeighborhood`](@ref).\n",
       "\n",
       "Use the second method when the `point` belongs in the data, i.e. `point = data[n]`. Then `w` stands for the Theiler window (positive integer). Only points that have index `abs(i - n) ≥ w` are returned as a neighborhood, to exclude close temporal neighbors. The default `w=1` is the case of excluding the `point` itself.\n",
       "\n",
       "## References\n",
       "\n",
       "`neighborhood` simply interfaces the functions `knn` and `inrange` from [NearestNeighbors.jl](https://github.com/KristofferC/NearestNeighbors.jl) by using the argument `ntype`.\n"
      ]
     },
     "execution_count": 37,
     "metadata": {},
     "output_type": "execute_result"
    }
   ],
   "source": [
    "?neighborhood"
   ]
  },
  {
   "cell_type": "code",
   "execution_count": 38,
   "metadata": {},
   "outputs": [
    {
     "name": "stdout",
     "output_type": "stream",
     "text": [
      "search: \u001b[1mA\u001b[22m\u001b[1mb\u001b[22m\u001b[1ms\u001b[22m\u001b[1mt\u001b[22m\u001b[1mr\u001b[22m\u001b[1ma\u001b[22m\u001b[1mc\u001b[22m\u001b[1mt\u001b[22m\u001b[1mN\u001b[22m\u001b[1me\u001b[22m\u001b[1mi\u001b[22m\u001b[1mg\u001b[22m\u001b[1mh\u001b[22m\u001b[1mb\u001b[22m\u001b[1mo\u001b[22m\u001b[1mr\u001b[22m\u001b[1mh\u001b[22m\u001b[1mo\u001b[22m\u001b[1mo\u001b[22m\u001b[1md\u001b[22m\n",
      "\n"
     ]
    },
    {
     "data": {
      "text/markdown": [
       "```\n",
       "AbstractNeighborhood\n",
       "```\n",
       "\n",
       "Supertype of methods for deciding the neighborhood of points for a given point.\n",
       "\n",
       "Concrete subtypes:\n",
       "\n",
       "  * `FixedMassNeighborhood(K::Int)` : The neighborhood of a point consists of the `K` nearest neighbors of the point.\n",
       "  * `FixedSizeNeighborhood(ε::Real)` : The neighborhood of a point consists of all neighbors that have distance < `ε` from the point.\n",
       "\n",
       "See [`neighborhood`](@ref) for more.\n"
      ],
      "text/plain": [
       "```\n",
       "AbstractNeighborhood\n",
       "```\n",
       "\n",
       "Supertype of methods for deciding the neighborhood of points for a given point.\n",
       "\n",
       "Concrete subtypes:\n",
       "\n",
       "  * `FixedMassNeighborhood(K::Int)` : The neighborhood of a point consists of the `K` nearest neighbors of the point.\n",
       "  * `FixedSizeNeighborhood(ε::Real)` : The neighborhood of a point consists of all neighbors that have distance < `ε` from the point.\n",
       "\n",
       "See [`neighborhood`](@ref) for more.\n"
      ]
     },
     "execution_count": 38,
     "metadata": {},
     "output_type": "execute_result"
    }
   ],
   "source": [
    "?AbstractNeighborhood"
   ]
  }
 ],
 "metadata": {
  "kernelspec": {
   "display_name": "Julia 0.6.2",
   "language": "julia",
   "name": "julia-0.6"
  },
  "language_info": {
   "file_extension": ".jl",
   "mimetype": "application/julia",
   "name": "julia",
   "version": "0.6.2"
  }
 },
 "nbformat": 4,
 "nbformat_minor": 2
}
