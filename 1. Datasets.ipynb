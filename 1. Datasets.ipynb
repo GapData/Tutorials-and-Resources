{
 "cells": [
  {
   "cell_type": "markdown",
   "metadata": {},
   "source": [
    "# Datasets\n",
    "\n",
    "Topics:\n",
    "* How are numerical data returned (and expected) in **DynamicalSystems.jl**.\n",
    "* Basic `Dataset` handling.\n",
    "* Neighborhoods.\n",
    "\n",
    "---\n",
    "\n",
    "Much of the functionality of **DynamicalSystems.jl** uses numerical data. We required a `struct` that would unify behavior across all functions that either return or require numerical data.\n",
    "\n",
    "To this end, we use a struct called simply `Dataset`."
   ]
  },
  {
   "cell_type": "code",
   "execution_count": 75,
   "metadata": {
    "collapsed": true
   },
   "outputs": [],
   "source": [
    "using DynamicalSystems"
   ]
  },
  {
   "cell_type": "code",
   "execution_count": 76,
   "metadata": {},
   "outputs": [
    {
     "data": {
      "text/plain": [
       "2-dimensional Dataset{Float64} with 1000 points:\n",
       " 0.676144    0.359398 \n",
       " 0.955477    0.254457 \n",
       " 0.18383     0.212144 \n",
       " 0.85152     0.886629 \n",
       " 0.709406    0.603019 \n",
       " 0.934935    0.843218 \n",
       " 0.493945    0.299921 \n",
       " 0.95915     0.182324 \n",
       " 0.818529    0.83918  \n",
       " 0.00764545  0.445326 \n",
       " 0.289665    0.976146 \n",
       " 0.682668    0.930761 \n",
       " 0.0574555   0.917293 \n",
       " ⋮                    \n",
       " 0.858771    0.436908 \n",
       " 0.580176    0.092008 \n",
       " 0.0994581   0.500926 \n",
       " 0.481314    0.0281003\n",
       " 0.935286    0.47825  \n",
       " 0.96947     0.729731 \n",
       " 0.304957    0.804241 \n",
       " 0.117145    0.909034 \n",
       " 0.365606    0.0523087\n",
       " 0.534662    0.17669  \n",
       " 0.824977    0.765574 \n",
       " 0.289769    0.878223 \n"
      ]
     },
     "execution_count": 76,
     "metadata": {},
     "output_type": "execute_result"
    }
   ],
   "source": [
    "x = rand(1000)\n",
    "y = rand(1000)\n",
    "dataset = Dataset(x,y)"
   ]
  },
  {
   "cell_type": "markdown",
   "metadata": {},
   "source": [
    "A `Dataset` is a subtype of `AbstractDataset`:"
   ]
  },
  {
   "cell_type": "code",
   "execution_count": 77,
   "metadata": {},
   "outputs": [
    {
     "data": {
      "text/html": [
       "true"
      ],
      "text/plain": [
       "true"
      ]
     },
     "execution_count": 77,
     "metadata": {},
     "output_type": "execute_result"
    }
   ],
   "source": [
    "typeof(dataset) <: AbstractDataset"
   ]
  },
  {
   "cell_type": "markdown",
   "metadata": {},
   "source": [
    "All subtypes of `AbstractDataset` contain their data in the field `data`:"
   ]
  },
  {
   "cell_type": "code",
   "execution_count": 78,
   "metadata": {},
   "outputs": [
    {
     "data": {
      "text/plain": [
       "1000-element Array{StaticArrays.SArray{Tuple{2},Float64,1,2},1}:\n",
       " [0.676144, 0.359398]  \n",
       " [0.955477, 0.254457]  \n",
       " [0.18383, 0.212144]   \n",
       " [0.85152, 0.886629]   \n",
       " [0.709406, 0.603019]  \n",
       " [0.934935, 0.843218]  \n",
       " [0.493945, 0.299921]  \n",
       " [0.95915, 0.182324]   \n",
       " [0.818529, 0.83918]   \n",
       " [0.00764545, 0.445326]\n",
       " [0.289665, 0.976146]  \n",
       " [0.682668, 0.930761]  \n",
       " [0.0574555, 0.917293] \n",
       " ⋮                     \n",
       " [0.858771, 0.436908]  \n",
       " [0.580176, 0.092008]  \n",
       " [0.0994581, 0.500926] \n",
       " [0.481314, 0.0281003] \n",
       " [0.935286, 0.47825]   \n",
       " [0.96947, 0.729731]   \n",
       " [0.304957, 0.804241]  \n",
       " [0.117145, 0.909034]  \n",
       " [0.365606, 0.0523087] \n",
       " [0.534662, 0.17669]   \n",
       " [0.824977, 0.765574]  \n",
       " [0.289769, 0.878223]  "
      ]
     },
     "execution_count": 78,
     "metadata": {},
     "output_type": "execute_result"
    }
   ],
   "source": [
    "dataset.data"
   ]
  },
  {
   "cell_type": "markdown",
   "metadata": {},
   "source": [
    "We chose a vector of `SVectors` as the internal representation of the data because it gives big performance gains in many functions of the library."
   ]
  },
  {
   "cell_type": "markdown",
   "metadata": {},
   "source": [
    "# Creating a Dataset\n",
    "\n",
    "Most functions of **DynamicalSystems.jl** that return numerical data, return it in the form of a `Dataset`.\n",
    "\n",
    "If you already have the data though, there are many ways to create a dataset:"
   ]
  },
  {
   "cell_type": "code",
   "execution_count": 79,
   "metadata": {},
   "outputs": [
    {
     "data": {
      "text/html": [
       "true"
      ],
      "text/plain": [
       "true"
      ]
     },
     "execution_count": 79,
     "metadata": {},
     "output_type": "execute_result"
    }
   ],
   "source": [
    "# From matrix:\n",
    "m = rand(1000, 5)\n",
    "data = Dataset(m)\n",
    "\n",
    "# using re-interpret if each *row* is one variable:\n",
    "m = transpose(m)\n",
    "data2 = reinterpret(Dataset, m)\n",
    "\n",
    "data2 == data"
   ]
  },
  {
   "cell_type": "code",
   "execution_count": 80,
   "metadata": {},
   "outputs": [
    {
     "ename": "LoadError",
     "evalue": "\u001b[91mBoundsError: attempt to access 100-element Array{Float64,1} at index [101]\u001b[39m",
     "output_type": "error",
     "traceback": [
      "\u001b[91mBoundsError: attempt to access 100-element Array{Float64,1} at index [101]\u001b[39m",
      "",
      "Stacktrace:",
      " [1] \u001b[1mmacro expansion\u001b[22m\u001b[22m at \u001b[1mC:\\Users\\datseris\\.julia\\v0.6\\DynamicalSystemsBase\\src\\dataset.jl:148\u001b[22m\u001b[22m [inlined]",
      " [2] \u001b[1m_dataset\u001b[22m\u001b[22m\u001b[1m(\u001b[22m\u001b[22m::Val{2}, ::Array{Float64,1}, ::Array{Float64,1}\u001b[1m)\u001b[22m\u001b[22m at \u001b[1mC:\\Users\\datseris\\.julia\\v0.6\\DynamicalSystemsBase\\src\\dataset.jl:142\u001b[22m\u001b[22m",
      " [3] \u001b[1mDynamicalSystemsBase.Dataset\u001b[22m\u001b[22m\u001b[1m(\u001b[22m\u001b[22m::Array{Float64,1}, ::Array{Float64,1}\u001b[1m)\u001b[22m\u001b[22m at \u001b[1mC:\\Users\\datseris\\.julia\\v0.6\\DynamicalSystemsBase\\src\\dataset.jl:156\u001b[22m\u001b[22m",
      " [4] \u001b[1minclude_string\u001b[22m\u001b[22m\u001b[1m(\u001b[22m\u001b[22m::String, ::String\u001b[1m)\u001b[22m\u001b[22m at \u001b[1m.\\loading.jl:522\u001b[22m\u001b[22m"
     ]
    }
   ],
   "source": [
    "# From columns\n",
    "x, y = rand(1000), rand(1000)\n",
    "data = Dataset(x, y)\n",
    "\n",
    "# All points of a dataset must be equally sized:\n",
    "z = rand(100)\n",
    "Dataset(x, z)"
   ]
  },
  {
   "cell_type": "markdown",
   "metadata": {},
   "source": [
    "# Handling a Dataset\n",
    "\n",
    "Special attention has been given so that subtypes of `AbstractDataset` behave exactly like some `Matrix` where each *row* is a *point* of the dataset, while each *column* is *one dynamic variable*. The reason we choose this approach is because traditionally this is how scientific data are recorded, exported and passed around."
   ]
  },
  {
   "cell_type": "code",
   "execution_count": 81,
   "metadata": {},
   "outputs": [
    {
     "data": {
      "text/html": [
       "0.7518388972997827"
      ],
      "text/plain": [
       "0.7518388972997827"
      ]
     },
     "execution_count": 81,
     "metadata": {},
     "output_type": "execute_result"
    }
   ],
   "source": [
    "# Create some random dataset:\n",
    "dataset = Dataset(rand(10000, 3))\n",
    "\n",
    "dataset[:, 2] # this is the second variable timeseries\n",
    "dataset[1] == dataset[1, :] # this is the first datapoint (D-dimensional)\n",
    "dataset[5, 3] # value of the third variable, at the 5th timepoint"
   ]
  },
  {
   "cell_type": "code",
   "execution_count": 82,
   "metadata": {},
   "outputs": [
    {
     "data": {
      "text/plain": [
       "([4.42448e-5, 6.93729e-5, 8.14024e-6], [0.999911, 0.999826, 0.999993])"
      ]
     },
     "execution_count": 82,
     "metadata": {},
     "output_type": "execute_result"
    }
   ],
   "source": [
    "# iteration:\n",
    "f = 0.0\n",
    "for point in dataset\n",
    "    f += mean(point)\n",
    "end\n",
    "\n",
    "# get columns\n",
    "x, y = columns(dataset)\n",
    "mean(x) ≈ mean(y)\n",
    "\n",
    "# minima, maxima, etc...\n",
    "mini = minima(dataset)\n",
    "maxi = maxima(dataset)\n",
    "mini, maxi = minmaxima(dataset)"
   ]
  },
  {
   "cell_type": "code",
   "execution_count": 83,
   "metadata": {},
   "outputs": [
    {
     "name": "stdout",
     "output_type": "stream",
     "text": [
      "  29.439 μs (1 allocation: 112 bytes)\n",
      "  32.000 μs (1 allocation: 112 bytes)\n",
      "  51.199 μs (2 allocations: 224 bytes)\n"
     ]
    },
    {
     "data": {
      "text/plain": [
       "([4.42448e-5, 6.93729e-5, 8.14024e-6], [0.999911, 0.999826, 0.999993])"
      ]
     },
     "execution_count": 83,
     "metadata": {},
     "output_type": "execute_result"
    }
   ],
   "source": [
    "# Function minmaxima is faster than using the two individual ones\n",
    "using BenchmarkTools\n",
    "@btime maxima($dataset)\n",
    "@btime minima($dataset)\n",
    "@btime minmaxima($dataset)"
   ]
  },
  {
   "cell_type": "markdown",
   "metadata": {},
   "source": [
    "# I/O\n",
    "Input/output functionality for an `AbstractDataset` is already achieved using base Julia, specifically `writedlm` and `readdlm`.\n",
    "\n",
    "The thing to note is that all data of an `AbstractDataset` is contained within its field `data`.\n",
    "\n",
    "To write and read a dataset, simply do:"
   ]
  },
  {
   "cell_type": "code",
   "execution_count": 84,
   "metadata": {},
   "outputs": [
    {
     "data": {
      "text/plain": [
       "2-dimensional Dataset{Float64} with 1000 points:\n",
       " 0.358779   0.569593 \n",
       " 0.523091   0.627772 \n",
       " 0.215193   0.994672 \n",
       " 0.0320648  0.791795 \n",
       " 0.901462   0.109973 \n",
       " 0.0314922  0.887737 \n",
       " 0.33808    0.419241 \n",
       " 0.11554    0.991734 \n",
       " 0.961374   0.456671 \n",
       " 0.810466   0.711083 \n",
       " 0.182282   0.831986 \n",
       " 0.194045   0.306351 \n",
       " 0.815428   0.659271 \n",
       " ⋮                   \n",
       " 0.067466   0.362375 \n",
       " 0.604193   0.357249 \n",
       " 0.960955   0.0402399\n",
       " 0.943888   0.487839 \n",
       " 0.754618   0.0852721\n",
       " 0.216454   0.744111 \n",
       " 0.942508   0.344652 \n",
       " 0.211623   0.066528 \n",
       " 0.313829   0.935558 \n",
       " 0.12399    0.358765 \n",
       " 0.125221   0.696234 \n",
       " 0.932107   0.850727 \n"
      ]
     },
     "execution_count": 84,
     "metadata": {},
     "output_type": "execute_result"
    }
   ],
   "source": [
    "# I will write and read using delimiter ','\n",
    "writedlm(\"data.txt\", data.data, ',')\n",
    "\n",
    "# Don't forget to convert the matrix to a Dataset when reading\n",
    "data = Dataset(readdlm(\"data.txt\", ',', Float64))"
   ]
  },
  {
   "cell_type": "code",
   "execution_count": 85,
   "metadata": {},
   "outputs": [
    {
     "data": {
      "text/html": [
       "false"
      ],
      "text/plain": [
       "false"
      ]
     },
     "execution_count": 85,
     "metadata": {},
     "output_type": "execute_result"
    }
   ],
   "source": [
    "# delete the dummy file we created:\n",
    "rm(\"data.txt\")\n",
    "isfile(\"data.txt\")"
   ]
  },
  {
   "cell_type": "markdown",
   "metadata": {},
   "source": [
    "# Neighborhoods \n",
    "\n",
    "A \"neighborhood\" is a collection of points that is near a given point. `Dataset`s interface the amazing module [`NearestNeighbors`](https://github.com/KristofferC/NearestNeighbors.jl) by Kristoffer Carlsson in order to find this neighborhood.\n",
    "\n",
    "We use the function `neighborhood`. The call singature is:\n",
    "```julia\n",
    "neighborhood(point, tree, ntype)\n",
    "```\n"
   ]
  },
  {
   "cell_type": "markdown",
   "metadata": {},
   "source": [
    "`point` is simply the query point. Tree is the structure required by [`NearestNeighbors`](https://github.com/KristofferC/NearestNeighbors.jl), and is obtained simply by:"
   ]
  },
  {
   "cell_type": "code",
   "execution_count": 86,
   "metadata": {},
   "outputs": [
    {
     "data": {
      "text/plain": [
       "NearestNeighbors.KDTree{StaticArrays.SArray{Tuple{3},Float64,1,3},Distances.Euclidean,Float64}\n",
       "  Number of points: 10000\n",
       "  Dimensions: 3\n",
       "  Metric: Distances.Euclidean(0.0)\n",
       "  Reordered: true"
      ]
     },
     "execution_count": 86,
     "metadata": {},
     "output_type": "execute_result"
    }
   ],
   "source": [
    "tree = KDTree(dataset)"
   ]
  },
  {
   "cell_type": "markdown",
   "metadata": {},
   "source": [
    "The third argument to `neighborhood` is the *type* of the neighborhood. There are two types of neighborhoods!\n",
    "\n",
    "The first one is defined as the `k` nearest points to a given point. It is represented in code by:"
   ]
  },
  {
   "cell_type": "code",
   "execution_count": 87,
   "metadata": {},
   "outputs": [
    {
     "data": {
      "text/plain": [
       "DynamicalSystemsBase.FixedMassNeighborhood(3)"
      ]
     },
     "execution_count": 87,
     "metadata": {},
     "output_type": "execute_result"
    }
   ],
   "source": [
    "mybuddies = FixedMassNeighborhood(3) # for experts: does a knn search"
   ]
  },
  {
   "cell_type": "code",
   "execution_count": 88,
   "metadata": {},
   "outputs": [
    {
     "data": {
      "text/plain": [
       "3-element Array{Int64,1}:\n",
       " 7975\n",
       " 2977\n",
       " 2304"
      ]
     },
     "execution_count": 88,
     "metadata": {},
     "output_type": "execute_result"
    }
   ],
   "source": [
    "point = ones(3)\n",
    "n = neighborhood(point, tree, mybuddies)"
   ]
  },
  {
   "cell_type": "markdown",
   "metadata": {},
   "source": [
    "Notice that the `neighborhood` function does not return the points themselves, but rather the indices of the points in the original data:"
   ]
  },
  {
   "cell_type": "code",
   "execution_count": 104,
   "metadata": {},
   "outputs": [
    {
     "name": "stdout",
     "output_type": "stream",
     "text": [
      "[0.981401, 0.909007, 0.993898]\n",
      "[0.95096, 0.969996, 0.982008]\n",
      "[0.944646, 0.961959, 0.954716]\n"
     ]
    }
   ],
   "source": [
    "for i in n\n",
    "    println(dataset[i])\n",
    "end"
   ]
  },
  {
   "cell_type": "markdown",
   "metadata": {},
   "source": [
    "The second type of neighborhood is all the points that are within some given distance `ε` from a point.\n",
    "\n",
    "In code, we represent this as:"
   ]
  },
  {
   "cell_type": "code",
   "execution_count": 90,
   "metadata": {},
   "outputs": [
    {
     "data": {
      "text/plain": [
       "DynamicalSystemsBase.FixedSizeNeighborhood(0.001)"
      ]
     },
     "execution_count": 90,
     "metadata": {},
     "output_type": "execute_result"
    }
   ],
   "source": [
    "where_u_at = FixedSizeNeighborhood(0.001) # for experts: does an inrange search"
   ]
  },
  {
   "cell_type": "code",
   "execution_count": 91,
   "metadata": {},
   "outputs": [
    {
     "data": {
      "text/plain": [
       "0-element Array{Int64,1}"
      ]
     },
     "execution_count": 91,
     "metadata": {},
     "output_type": "execute_result"
    }
   ],
   "source": [
    "n2 = neighborhood(point, tree, where_u_at)"
   ]
  },
  {
   "cell_type": "code",
   "execution_count": 92,
   "metadata": {},
   "outputs": [
    {
     "data": {
      "text/plain": [
       "3-element Array{Int64,1}:\n",
       " 2977\n",
       " 2304\n",
       " 7975"
      ]
     },
     "execution_count": 92,
     "metadata": {},
     "output_type": "execute_result"
    }
   ],
   "source": [
    "plz_come_closer = FixedSizeNeighborhood(0.1)\n",
    "n2 = neighborhood(point, tree, plz_come_closer)"
   ]
  },
  {
   "cell_type": "code",
   "execution_count": 93,
   "metadata": {
    "scrolled": true
   },
   "outputs": [
    {
     "name": "stdout",
     "output_type": "stream",
     "text": [
      "[0.95096, 0.969996, 0.982008]\n",
      "[0.944646, 0.961959, 0.954716]\n",
      "[0.981401, 0.909007, 0.993898]\n"
     ]
    }
   ],
   "source": [
    "for i in n2\n",
    "    println(dataset[i])\n",
    "end"
   ]
  },
  {
   "cell_type": "markdown",
   "metadata": {},
   "source": [
    "Okay, so points that have distance < ε are accepted as a neighborhood.\n",
    "\n",
    "What is the \"distance\" though? When defining a `tree`, you can optionally give a distance estimation function. By default this is the Euclidean distance, but others also work:"
   ]
  },
  {
   "cell_type": "code",
   "execution_count": 94,
   "metadata": {},
   "outputs": [
    {
     "data": {
      "text/plain": [
       "NearestNeighbors.KDTree{StaticArrays.SArray{Tuple{3},Float64,1,3},Distances.Chebyshev,Float64}\n",
       "  Number of points: 10000\n",
       "  Dimensions: 3\n",
       "  Metric: Distances.Chebyshev()\n",
       "  Reordered: true"
      ]
     },
     "execution_count": 94,
     "metadata": {},
     "output_type": "execute_result"
    }
   ],
   "source": [
    "using Distances # to get distance functions\n",
    "funky_tree = KDTree(dataset, Chebyshev())"
   ]
  },
  {
   "cell_type": "code",
   "execution_count": 95,
   "metadata": {},
   "outputs": [
    {
     "data": {
      "text/plain": [
       "8-element Array{Int64,1}:\n",
       " 2977\n",
       " 2304\n",
       " 9854\n",
       " 7975\n",
       " 6586\n",
       " 6683\n",
       " 9061\n",
       " 5634"
      ]
     },
     "execution_count": 95,
     "metadata": {},
     "output_type": "execute_result"
    }
   ],
   "source": [
    "n3 = neighborhood(point, funky_tree, plz_come_closer)"
   ]
  },
  {
   "cell_type": "markdown",
   "metadata": {},
   "source": [
    "Before moving on, let's see one last thing:"
   ]
  },
  {
   "cell_type": "code",
   "execution_count": 96,
   "metadata": {},
   "outputs": [
    {
     "data": {
      "text/plain": [
       "3-element StaticArrays.SArray{Tuple{3},Float64,1,3}:\n",
       " 0.537344\n",
       " 0.73174 \n",
       " 0.789504"
      ]
     },
     "execution_count": 96,
     "metadata": {},
     "output_type": "execute_result"
    }
   ],
   "source": [
    "# the point I want the neighborhood is now part of my dataset:\n",
    "point = dataset[end]"
   ]
  },
  {
   "cell_type": "code",
   "execution_count": 97,
   "metadata": {},
   "outputs": [
    {
     "name": "stdout",
     "output_type": "stream",
     "text": [
      "[10000]\n",
      "[10000]\n"
     ]
    }
   ],
   "source": [
    "# Reminder of where the tree comes from:\n",
    "tree = KDTree(dataset)\n",
    "\n",
    "# Find suuuuuuuper close neighbors:\n",
    "ε = 0.000001\n",
    "where_u_at = FixedSizeNeighborhood(ε)\n",
    "n2 = neighborhood(point, tree, where_u_at)\n",
    "\n",
    "# Find the nearest neighbor:\n",
    "my_best_friend = FixedMassNeighborhood(1)\n",
    "n3 = neighborhood(point, tree, my_best_friend)\n",
    "\n",
    "println(n2)\n",
    "println(n3)"
   ]
  },
  {
   "cell_type": "code",
   "execution_count": 98,
   "metadata": {},
   "outputs": [
    {
     "data": {
      "text/html": [
       "true"
      ],
      "text/plain": [
       "true"
      ]
     },
     "execution_count": 98,
     "metadata": {},
     "output_type": "execute_result"
    }
   ],
   "source": [
    "length(dataset) == n2[1] == n3[1]"
   ]
  },
  {
   "cell_type": "markdown",
   "metadata": {},
   "source": [
    "*Apparently my best friend is myself. Who would have thought...*\n",
    "\n",
    "What is happening here is that the `neighborhood` also counted the point itself, since it is also part of the dataset. Almost always this behavior needs to be avoided. For this reason, there is a second method for `neighborhood`:\n",
    "\n",
    "```julia\n",
    "neighborhood(point, tree, ntype, idx::Int, w::Int = 1)\n",
    "```\n",
    "\n",
    "In this case, `idx` is the index of the point in the original data. `w` stands for the Theiler window (positive integer).\n",
    "\n",
    "Only points that have index\n",
    "`abs(i - idx) ≥ w` are returned as a neighborhood, to exclude close temporal neighbors.\n",
    "The default `w=1` is the case of exluding the `point` itself.\n",
    "\n",
    "Let's revisit the last example (using the default value of `w = 1`):"
   ]
  },
  {
   "cell_type": "code",
   "execution_count": 99,
   "metadata": {},
   "outputs": [
    {
     "name": "stdout",
     "output_type": "stream",
     "text": [
      "Int64[]\n",
      "[443]\n"
     ]
    }
   ],
   "source": [
    "point = dataset[end]\n",
    "idx = length(dataset)\n",
    "\n",
    "n2 = neighborhood(point, tree, where_u_at, idx)\n",
    "n3 = neighborhood(point, tree, my_best_friend, idx)\n",
    "\n",
    "println(n2)\n",
    "println(n3)"
   ]
  },
  {
   "cell_type": "markdown",
   "metadata": {},
   "source": [
    "As you can see, there isn't *any* neighbor with distance `< 0.000001` in this dataset, but there is always a nearest neighbor:"
   ]
  },
  {
   "cell_type": "code",
   "execution_count": 100,
   "metadata": {},
   "outputs": [
    {
     "data": {
      "text/plain": [
       "3-element StaticArrays.SArray{Tuple{3},Float64,1,3}:\n",
       " 0.552423\n",
       " 0.730101\n",
       " 0.800918"
      ]
     },
     "execution_count": 100,
     "metadata": {},
     "output_type": "execute_result"
    }
   ],
   "source": [
    "dataset[n3[1]]"
   ]
  },
  {
   "cell_type": "markdown",
   "metadata": {},
   "source": [
    "# Documentation Strings"
   ]
  },
  {
   "cell_type": "code",
   "execution_count": 101,
   "metadata": {},
   "outputs": [
    {
     "name": "stdout",
     "output_type": "stream",
     "text": [
      "search: \u001b[1mD\u001b[22m\u001b[1ma\u001b[22m\u001b[1mt\u001b[22m\u001b[1ma\u001b[22m\u001b[1ms\u001b[22m\u001b[1me\u001b[22m\u001b[1mt\u001b[22m Abstract\u001b[1mD\u001b[22m\u001b[1ma\u001b[22m\u001b[1mt\u001b[22m\u001b[1ma\u001b[22m\u001b[1ms\u001b[22m\u001b[1me\u001b[22m\u001b[1mt\u001b[22m \u001b[1mD\u001b[22myn\u001b[1ma\u001b[22mmicalSys\u001b[1mt\u001b[22memsB\u001b[1ma\u001b[22m\u001b[1ms\u001b[22m\u001b[1me\u001b[22m @\u001b[1md\u001b[22m\u001b[1ma\u001b[22m\u001b[1mt\u001b[22meform\u001b[1ma\u001b[22mt_\u001b[1ms\u001b[22mtr\n",
      "\n"
     ]
    },
    {
     "data": {
      "text/markdown": [
       "```\n",
       "Dataset{D, T} <: AbstractDataset{D,T}\n",
       "```\n",
       "\n",
       "A dedicated interface for datasets, i.e. vectors of vectors. It contains *equally-sized datapoints* of length `D`, represented by `SVector{D, T}`.\n",
       "\n",
       "It can be used exactly like a matrix that has each of the columns be the timeseries of each of the dynamic variables. [`trajectory`](@ref) always returns a `Dataset`. For example,\n",
       "\n",
       "```julia\n",
       "ds = Systems.towel()\n",
       "data = trajectory(ds, 1000) #this returns a dataset\n",
       "data[:, 2] # this is the second variable timeseries\n",
       "data[1] == data[1, :] # this is the first datapoint (D-dimensional)\n",
       "data[5, 3] # value of the third variable, at the 5th timepoint\n",
       "```\n",
       "\n",
       "Use `Matrix(dataset)` or `reinterpret(Matrix, dataset)` and `Dataset(matrix)` or `reinterpret(Dataset, matrix)` to convert. The `reinterpret` methods are cheaper but assume that each variable/timeseries is a *row* and not column of the `matrix`.\n",
       "\n",
       "If you have various timeseries vectors `x, y, z, ...` pass them like `Dataset(x, y, z, ...)`. You can use `columns(dataset)` to obtain the reverse, i.e. all columns of the dataset in a tuple.\n"
      ],
      "text/plain": [
       "```\n",
       "Dataset{D, T} <: AbstractDataset{D,T}\n",
       "```\n",
       "\n",
       "A dedicated interface for datasets, i.e. vectors of vectors. It contains *equally-sized datapoints* of length `D`, represented by `SVector{D, T}`.\n",
       "\n",
       "It can be used exactly like a matrix that has each of the columns be the timeseries of each of the dynamic variables. [`trajectory`](@ref) always returns a `Dataset`. For example,\n",
       "\n",
       "```julia\n",
       "ds = Systems.towel()\n",
       "data = trajectory(ds, 1000) #this returns a dataset\n",
       "data[:, 2] # this is the second variable timeseries\n",
       "data[1] == data[1, :] # this is the first datapoint (D-dimensional)\n",
       "data[5, 3] # value of the third variable, at the 5th timepoint\n",
       "```\n",
       "\n",
       "Use `Matrix(dataset)` or `reinterpret(Matrix, dataset)` and `Dataset(matrix)` or `reinterpret(Dataset, matrix)` to convert. The `reinterpret` methods are cheaper but assume that each variable/timeseries is a *row* and not column of the `matrix`.\n",
       "\n",
       "If you have various timeseries vectors `x, y, z, ...` pass them like `Dataset(x, y, z, ...)`. You can use `columns(dataset)` to obtain the reverse, i.e. all columns of the dataset in a tuple.\n"
      ]
     },
     "execution_count": 101,
     "metadata": {},
     "output_type": "execute_result"
    }
   ],
   "source": [
    "?Dataset"
   ]
  },
  {
   "cell_type": "code",
   "execution_count": 102,
   "metadata": {},
   "outputs": [
    {
     "name": "stdout",
     "output_type": "stream",
     "text": [
      "search: \u001b[1mn\u001b[22m\u001b[1me\u001b[22m\u001b[1mi\u001b[22m\u001b[1mg\u001b[22m\u001b[1mh\u001b[22m\u001b[1mb\u001b[22m\u001b[1mo\u001b[22m\u001b[1mr\u001b[22m\u001b[1mh\u001b[22m\u001b[1mo\u001b[22m\u001b[1mo\u001b[22m\u001b[1md\u001b[22m Abstract\u001b[1mN\u001b[22m\u001b[1me\u001b[22m\u001b[1mi\u001b[22m\u001b[1mg\u001b[22m\u001b[1mh\u001b[22m\u001b[1mb\u001b[22m\u001b[1mo\u001b[22m\u001b[1mr\u001b[22m\u001b[1mh\u001b[22m\u001b[1mo\u001b[22m\u001b[1mo\u001b[22m\u001b[1md\u001b[22m FixedSize\u001b[1mN\u001b[22m\u001b[1me\u001b[22m\u001b[1mi\u001b[22m\u001b[1mg\u001b[22m\u001b[1mh\u001b[22m\u001b[1mb\u001b[22m\u001b[1mo\u001b[22m\u001b[1mr\u001b[22m\u001b[1mh\u001b[22m\u001b[1mo\u001b[22m\u001b[1mo\u001b[22m\u001b[1md\u001b[22m\n",
      "\n"
     ]
    },
    {
     "data": {
      "text/markdown": [
       "```\n",
       "neighborhood(point, tree, ntype)\n",
       "neighborhood(point, tree, ntype, n::Int, w::Int = 1)\n",
       "```\n",
       "\n",
       "Return a vector of indices which are the neighborhood of `point` in some `data`, where the `tree` was created using `tree = KDTree(data [, metric])`. The `ntype` is the type of neighborhood and can be any subtype of [`AbstractNeighborhood`](@ref).\n",
       "\n",
       "Use the second method when the `point` belongs in the data, i.e. `point = data[n]`. Then `w` stands for the Theiler window (positive integer). Only points that have index `abs(i - n) ≥ w` are returned as a neighborhood, to exclude close temporal neighbors. The default `w=1` is the case of exluding the `point` itself.\n",
       "\n",
       "## References\n",
       "\n",
       "`neighborhood` simply interfaces the functions `knn` and `inrange` from [NearestNeighbors.jl](https://github.com/KristofferC/NearestNeighbors.jl) by using the argument `ntype`.\n"
      ],
      "text/plain": [
       "```\n",
       "neighborhood(point, tree, ntype)\n",
       "neighborhood(point, tree, ntype, n::Int, w::Int = 1)\n",
       "```\n",
       "\n",
       "Return a vector of indices which are the neighborhood of `point` in some `data`, where the `tree` was created using `tree = KDTree(data [, metric])`. The `ntype` is the type of neighborhood and can be any subtype of [`AbstractNeighborhood`](@ref).\n",
       "\n",
       "Use the second method when the `point` belongs in the data, i.e. `point = data[n]`. Then `w` stands for the Theiler window (positive integer). Only points that have index `abs(i - n) ≥ w` are returned as a neighborhood, to exclude close temporal neighbors. The default `w=1` is the case of exluding the `point` itself.\n",
       "\n",
       "## References\n",
       "\n",
       "`neighborhood` simply interfaces the functions `knn` and `inrange` from [NearestNeighbors.jl](https://github.com/KristofferC/NearestNeighbors.jl) by using the argument `ntype`.\n"
      ]
     },
     "execution_count": 102,
     "metadata": {},
     "output_type": "execute_result"
    }
   ],
   "source": [
    "?neighborhood"
   ]
  },
  {
   "cell_type": "code",
   "execution_count": 103,
   "metadata": {},
   "outputs": [
    {
     "name": "stdout",
     "output_type": "stream",
     "text": [
      "search: \u001b[1mA\u001b[22m\u001b[1mb\u001b[22m\u001b[1ms\u001b[22m\u001b[1mt\u001b[22m\u001b[1mr\u001b[22m\u001b[1ma\u001b[22m\u001b[1mc\u001b[22m\u001b[1mt\u001b[22m\u001b[1mN\u001b[22m\u001b[1me\u001b[22m\u001b[1mi\u001b[22m\u001b[1mg\u001b[22m\u001b[1mh\u001b[22m\u001b[1mb\u001b[22m\u001b[1mo\u001b[22m\u001b[1mr\u001b[22m\u001b[1mh\u001b[22m\u001b[1mo\u001b[22m\u001b[1mo\u001b[22m\u001b[1md\u001b[22m\n",
      "\n"
     ]
    },
    {
     "data": {
      "text/markdown": [
       "```\n",
       "AbstractNeighborhood\n",
       "```\n",
       "\n",
       "Supertype of methods for deciding the neighborhood of points for a given point.\n",
       "\n",
       "Concrete subtypes:\n",
       "\n",
       "  * `FixedMassNeighborhood(K::Int)` : The neighborhood of a point consists of the `K` nearest neighbors of the point.\n",
       "  * `FixedSizeNeighborhood(ε::Real)` : The neighborhood of a point consists of all neighbors that have distance < `ε` from the point.\n",
       "\n",
       "See [`neighborhood`](@ref) for more.\n"
      ],
      "text/plain": [
       "```\n",
       "AbstractNeighborhood\n",
       "```\n",
       "\n",
       "Supertype of methods for deciding the neighborhood of points for a given point.\n",
       "\n",
       "Concrete subtypes:\n",
       "\n",
       "  * `FixedMassNeighborhood(K::Int)` : The neighborhood of a point consists of the `K` nearest neighbors of the point.\n",
       "  * `FixedSizeNeighborhood(ε::Real)` : The neighborhood of a point consists of all neighbors that have distance < `ε` from the point.\n",
       "\n",
       "See [`neighborhood`](@ref) for more.\n"
      ]
     },
     "execution_count": 103,
     "metadata": {},
     "output_type": "execute_result"
    }
   ],
   "source": [
    "?AbstractNeighborhood"
   ]
  }
 ],
 "metadata": {
  "kernelspec": {
   "display_name": "Julia 0.6.2",
   "language": "julia",
   "name": "julia-0.6"
  },
  "language_info": {
   "file_extension": ".jl",
   "mimetype": "application/julia",
   "name": "julia",
   "version": "0.6.2"
  }
 },
 "nbformat": 4,
 "nbformat_minor": 2
}
