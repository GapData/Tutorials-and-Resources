{
 "cells": [
  {
   "cell_type": "markdown",
   "metadata": {},
   "source": [
    "# Disclaimer!!!\n",
    "\n",
    "**DynamicalSystems.jl** is in *beta* and not in v1.0 yet! Comments, testing, suggestions etc. are welcomed.\n",
    "\n",
    "# Introduction and Documentation\n",
    "\n",
    "**DynamicalSystems.jl** is a Julia software library for the exploration of chaos and nonlinear dynamics.\n",
    "\n",
    "With this library we try to have a very detailed and comprehensive documentation, that teaches you not only how to use functions, but also how are the relevant methods formulated, from a scientific perspective. The documentation is hosted here: https://juliadynamics.github.io/DynamicalSystems.jl/latest/.\n",
    "\n",
    "In the same documentation page you will find a [list of contents](https://juliadynamics.github.io/DynamicalSystems.jl/latest/#contents).\n",
    "\n",
    "If you have questions, you can open issues in the appropriate [GitHub repository](https://github.com/JuliaDynamics), or of you think it is a minor question, don't hesitate to chat with us over [gitter](https://gitter.im/JuliaDynamics/Lobby).\n",
    "\n",
    "\n",
    "Notice that **DynamicalSystems.jl** is a registered package. On Julia v0.6 you only have to type `Pkg.add(\"DynamicalSystems\")` to install its features.\n",
    "\n",
    "# Documentation Strings\n",
    "\n",
    "All functions that are exported by **DynamicalSystems.jl** have very detailed documentation strings. \n",
    "* Simply press `?` followed by the function name to see the documentation strings!\n",
    "\n",
    "# Prerequisites\n",
    "This tutorial series assumes you have some basic knowledge of Julia, and some basic physics or mathematics background.\n",
    "\n",
    "It is especially useful to be aware of the following concepts of Julia:\n",
    "* [Functions](https://docs.julialang.org/en/stable/manual/functions/#man-functions-1).\n",
    "* [Methods](https://docs.julialang.org/en/stable/manual/methods/#Methods-1) and multiple dispatch. This also relies on basic knowledge of the [Type](https://docs.julialang.org/en/stable/manual/types/#man-types-1) system.\n",
    "* Handling vectors and matrices.\n",
    "\n",
    "# What you won't see\n",
    "in these tutorial series:\n",
    "\n",
    "1. [Numerical computation of Lyapunov exponent from a dataset](https://juliadynamics.github.io/DynamicalSystems.jl/latest/chaos/nlts/#numerical-lyapunov-exponent)\n",
    "1. [Broomhead-King coordinates](https://juliadynamics.github.io/DynamicalSystems.jl/latest/chaos/nlts/#broomhead-king-coordinates)\n",
    "1. [Finding fixed points of any any order for a map](https://juliadynamics.github.io/DynamicalSystems.jl/latest/chaos/periodicity/)\n",
    "4. [Advanced Usage](https://juliadynamics.github.io/DynamicalSystems.jl/latest/advanced/)"
   ]
  }
 ],
 "metadata": {
  "kernelspec": {
   "display_name": "Julia 0.6.2",
   "language": "julia",
   "name": "julia-0.6"
  },
  "language_info": {
   "file_extension": ".jl",
   "mimetype": "application/julia",
   "name": "julia",
   "version": "0.6.2"
  }
 },
 "nbformat": 4,
 "nbformat_minor": 2
}
