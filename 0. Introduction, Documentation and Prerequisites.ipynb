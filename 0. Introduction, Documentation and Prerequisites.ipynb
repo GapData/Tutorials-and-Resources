{
 "cells": [
  {
   "cell_type": "markdown",
   "metadata": {},
   "source": [
    "# Introduction\n",
    "\n",
    "**DynamicalSystems.jl** is a Julia software library for the exploration of chaos and nonlinear dynamics.\n",
    "\n",
    "We have built the library from scratch and purely in Julia and we try to add new methods about chaos as frequently as possible. You can see a list of contents the goals of the library [here](https://juliadynamics.github.io/DynamicalSystems.jl/latest/#contents).\n",
    "\n",
    "* One of the most important aspects of **DynamicalSystems.jl** is that we try to keep everything is as intuitive as possible. If you know the algorithm from a scientific perspective then using the coded version should be (and is) very simple.\n",
    "\n",
    "**DynamicalSystems.jl** is in v1.0-alpha! Comments, testing, suggestions etc. are very welcomed before official release.\n",
    "\n",
    "## Documentation\n",
    "\n",
    "With this library we try to have a very detailed and comprehensive documentation, that teaches you not only how to use functions, but also how are the relevant methods formulated, from a scientific perspective. The documentation is hosted here: https://juliadynamics.github.io/DynamicalSystems.jl/latest/.\n",
    "\n",
    "In the same documentation page you will find a [list of contents](https://juliadynamics.github.io/DynamicalSystems.jl/latest/#contents).\n",
    "\n",
    "If you have questions, you can open issues in the appropriate [GitHub repository](https://github.com/JuliaDynamics), or of you think it is a minor question, don't hesitate to chat with us over [gitter](https://gitter.im/JuliaDynamics/Lobby).\n",
    "\n",
    "**DynamicalSystems.jl** is a registered package. On Julia v0.6 you only have to type `Pkg.add(\"DynamicalSystems\")` to install its features.\n",
    "\n",
    "## Documentation Strings\n",
    "\n",
    "All functions that are exported by **DynamicalSystems.jl** have very detailed documentation strings. \n",
    "* Simply press `?` followed by the function name to see the documentation strings!\n",
    "\n",
    "---\n",
    "\n",
    "# About this tutorial series\n",
    "Tutorials 1-5 are intended for any audience and for this reason the methods shown will be discussed in detail, so people unfamiliar with nonlinear dynamics and chaos can still follow!\n",
    "\n",
    "Tutorials 6 and onwards will not have explanations about the methods/algorithms, but they will have example applications. This is so that we can progress through the available features without spending time on explaining them. Therefore, don't feel worried if you are not able to fully grasp all concepts!\n",
    "\n",
    "## Prerequisites\n",
    "This tutorial series has to assume some very basic knowledge of Julia & physics/mathematics concepts.\n",
    "\n",
    "* Julia\n",
    "    * [Functions](https://docs.julialang.org/en/stable/manual/functions/#man-functions-1).\n",
    "    * [Methods](https://docs.julialang.org/en/stable/manual/methods/#Methods-1) and multiple dispatch. This also relies on basic knowledge of the [Type](https://docs.julialang.org/en/stable/manual/types/#man-types-1) system.\n",
    "    * Handling vectors and matrices.\n",
    "    \n",
    "    \n",
    "* Mathematics/Physics\n",
    "    * What are maps and flows\n",
    "    * State-space & trajectory of a dynamical system\n",
    "    * What does it mean for a flow/map to be periodic\n",
    "    * Jacobians & linearized dynamics\n",
    "    "
   ]
  }
 ],
 "metadata": {
  "kernelspec": {
   "display_name": "Julia 0.6.2",
   "language": "julia",
   "name": "julia-0.6"
  },
  "language_info": {
   "file_extension": ".jl",
   "mimetype": "application/julia",
   "name": "julia",
   "version": "0.6.2"
  }
 },
 "nbformat": 4,
 "nbformat_minor": 2
}
